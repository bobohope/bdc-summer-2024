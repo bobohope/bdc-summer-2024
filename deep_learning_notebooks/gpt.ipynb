{
  "cells": [
    {
      "cell_type": "markdown",
      "metadata": {
        "id": "view-in-github",
        "colab_type": "text"
      },
      "source": [
        "<a href=\"https://colab.research.google.com/github/bobohope/bdc-summer-2024/blob/main/deep_learning_notebooks/gpt.ipynb\" target=\"_parent\"><img src=\"https://colab.research.google.com/assets/colab-badge.svg\" alt=\"Open In Colab\"/></a>"
      ]
    },
    {
      "cell_type": "markdown",
      "id": "b076bd1a-b236-4fbc-953d-8295b25122ae",
      "metadata": {
        "id": "b076bd1a-b236-4fbc-953d-8295b25122ae"
      },
      "source": [
        "# 🚀 GPT"
      ]
    },
    {
      "cell_type": "markdown",
      "id": "4dca6836-0007-43f3-af65-d12ae1922c02",
      "metadata": {
        "tags": [],
        "id": "4dca6836-0007-43f3-af65-d12ae1922c02"
      },
      "source": [
        "In this notebook, we'll walk through the steps required to train your own GPT model on the wine review dataset"
      ]
    },
    {
      "cell_type": "markdown",
      "id": "3e6cb7c7-d3d5-4b12-b357-1f6118edffe0",
      "metadata": {
        "id": "3e6cb7c7-d3d5-4b12-b357-1f6118edffe0"
      },
      "source": [
        "The code is adapted from the excellent [GPT tutorial](https://keras.io/examples/generative/text_generation_with_miniature_gpt/) created by Apoorv Nandan available on the Keras website."
      ]
    },
    {
      "cell_type": "code",
      "execution_count": 1,
      "id": "73350761-bef2-4e96-b3ac-a158eabd2b65",
      "metadata": {
        "tags": [],
        "id": "73350761-bef2-4e96-b3ac-a158eabd2b65"
      },
      "outputs": [],
      "source": [
        "%load_ext autoreload\n",
        "%autoreload 2\n",
        "import numpy as np\n",
        "import json\n",
        "import re\n",
        "import string\n",
        "from IPython.display import display, HTML\n",
        "\n",
        "import tensorflow as tf\n",
        "from tensorflow.keras import layers, models, losses, callbacks"
      ]
    },
    {
      "cell_type": "markdown",
      "id": "339e6268-ebd7-4feb-86db-1fe7abccdbe5",
      "metadata": {
        "id": "339e6268-ebd7-4feb-86db-1fe7abccdbe5"
      },
      "source": [
        "## 0. Parameters <a name=\"parameters\"></a>"
      ]
    },
    {
      "cell_type": "code",
      "execution_count": 2,
      "id": "2d8352af-343e-4c2e-8c91-95f8bac1c8a1",
      "metadata": {
        "id": "2d8352af-343e-4c2e-8c91-95f8bac1c8a1"
      },
      "outputs": [],
      "source": [
        "VOCAB_SIZE = 10000\n",
        "MAX_LEN = 80\n",
        "EMBEDDING_DIM = 256\n",
        "KEY_DIM = 256\n",
        "N_HEADS = 2\n",
        "FEED_FORWARD_DIM = 256\n",
        "VALIDATION_SPLIT = 0.2\n",
        "SEED = 42\n",
        "LOAD_MODEL = False\n",
        "BATCH_SIZE = 32\n",
        "EPOCHS = 5"
      ]
    },
    {
      "cell_type": "markdown",
      "id": "b7716fac-0010-49b0-b98e-53be2259edde",
      "metadata": {
        "id": "b7716fac-0010-49b0-b98e-53be2259edde"
      },
      "source": [
        "## 1. Load the data <a name=\"load\"></a>"
      ]
    },
    {
      "cell_type": "code",
      "source": [
        "from google.colab import drive\n",
        "drive.mount('/content/gdrive',force_remount=True)\n",
        "GOOGLE_DRIVE_DIR = \"/content/gdrive/My Drive/bdc_2024_summer/data/winemag-data-130k-v2.json\""
      ],
      "metadata": {
        "id": "yFjPgdmK_M2l",
        "outputId": "714ad5e9-55c0-45b1-c614-e46afe25d0ee",
        "colab": {
          "base_uri": "https://localhost:8080/"
        }
      },
      "id": "yFjPgdmK_M2l",
      "execution_count": 3,
      "outputs": [
        {
          "output_type": "stream",
          "name": "stdout",
          "text": [
            "Mounted at /content/gdrive\n"
          ]
        }
      ]
    },
    {
      "cell_type": "code",
      "execution_count": 16,
      "id": "93cf6b0f-9667-4146-8911-763a8a2925d3",
      "metadata": {
        "tags": [],
        "id": "93cf6b0f-9667-4146-8911-763a8a2925d3"
      },
      "outputs": [],
      "source": [
        "# Load the full dataset\n",
        "with open(GOOGLE_DRIVE_DIR ) as json_data:\n",
        "    wine_data = json.load(json_data)"
      ]
    },
    {
      "cell_type": "code",
      "execution_count": 17,
      "id": "2db5c0fc-0d5f-42ab-ade1-57e594c416ec",
      "metadata": {
        "tags": [],
        "id": "2db5c0fc-0d5f-42ab-ade1-57e594c416ec",
        "outputId": "a5efcc54-af00-40a7-ff04-8f11eff3c3a3",
        "colab": {
          "base_uri": "https://localhost:8080/"
        }
      },
      "outputs": [
        {
          "output_type": "execute_result",
          "data": {
            "text/plain": [
              "{'points': '87',\n",
              " 'title': 'Kirkland Signature 2011 Mountain Cuvée Cabernet Sauvignon (Napa Valley)',\n",
              " 'description': 'Soft, supple plum envelopes an oaky structure in this Cabernet, supported by 15% Merlot. Coffee and chocolate complete the picture, finishing strong at the end, resulting in a value-priced wine of attractive flavor and immediate accessibility.',\n",
              " 'taster_name': 'Virginie Boone',\n",
              " 'taster_twitter_handle': '@vboone',\n",
              " 'price': 19,\n",
              " 'designation': 'Mountain Cuvée',\n",
              " 'variety': 'Cabernet Sauvignon',\n",
              " 'region_1': 'Napa Valley',\n",
              " 'region_2': 'Napa',\n",
              " 'province': 'California',\n",
              " 'country': 'US',\n",
              " 'winery': 'Kirkland Signature'}"
            ]
          },
          "metadata": {},
          "execution_count": 17
        }
      ],
      "source": [
        "wine_data[10]"
      ]
    },
    {
      "cell_type": "code",
      "execution_count": 18,
      "id": "23a74eca-f1b7-4a46-9a1f-b5806a4ed361",
      "metadata": {
        "tags": [],
        "id": "23a74eca-f1b7-4a46-9a1f-b5806a4ed361"
      },
      "outputs": [],
      "source": [
        "# Filter the dataset\n",
        "filtered_data = [\n",
        "    \"wine review : \"\n",
        "    + x[\"country\"]\n",
        "    + \" : \"\n",
        "    + x[\"province\"]\n",
        "    + \" : \"\n",
        "    + x[\"variety\"]\n",
        "    + \" : \"\n",
        "    + x[\"description\"]\n",
        "    for x in wine_data\n",
        "    if x[\"country\"] is not None\n",
        "    and x[\"province\"] is not None\n",
        "    and x[\"variety\"] is not None\n",
        "    and x[\"description\"] is not None\n",
        "]"
      ]
    },
    {
      "cell_type": "code",
      "execution_count": 19,
      "id": "389c20de-0422-4c48-a7b4-6ee12a7bf0e2",
      "metadata": {
        "tags": [],
        "id": "389c20de-0422-4c48-a7b4-6ee12a7bf0e2",
        "outputId": "c4c4fe82-5c7a-4b12-c805-49e556d42505",
        "colab": {
          "base_uri": "https://localhost:8080/"
        }
      },
      "outputs": [
        {
          "output_type": "stream",
          "name": "stdout",
          "text": [
            "129907 reviews loaded\n"
          ]
        }
      ],
      "source": [
        "# Count the reviews\n",
        "n_wines = len(filtered_data)\n",
        "print(f\"{n_wines} reviews loaded\")"
      ]
    },
    {
      "cell_type": "code",
      "execution_count": 20,
      "id": "1b2e3cf7-e416-460e-874a-0dd9637bca36",
      "metadata": {
        "id": "1b2e3cf7-e416-460e-874a-0dd9637bca36",
        "outputId": "8d75e895-c646-4416-f7c2-4211181a5c09",
        "colab": {
          "base_uri": "https://localhost:8080/"
        }
      },
      "outputs": [
        {
          "output_type": "stream",
          "name": "stdout",
          "text": [
            "wine review : US : California : Pinot Noir : Oak and earth intermingle around robust aromas of wet forest floor in this vineyard-designated Pinot that hails from a high-elevation site. Small in production, it offers intense, full-bodied raspberry and blackberry steeped in smoky spice and smooth texture.\n"
          ]
        }
      ],
      "source": [
        "example = filtered_data[25]\n",
        "print(example)"
      ]
    },
    {
      "cell_type": "markdown",
      "id": "3f871aaf-d873-41c7-8946-e4eef7ac17c1",
      "metadata": {
        "id": "3f871aaf-d873-41c7-8946-e4eef7ac17c1"
      },
      "source": [
        "## 2. Tokenize the data <a name=\"tokenize\"></a>"
      ]
    },
    {
      "cell_type": "code",
      "execution_count": 9,
      "id": "5b2064fb-5dcc-4657-b470-0928d10e2ddc",
      "metadata": {
        "tags": [],
        "id": "5b2064fb-5dcc-4657-b470-0928d10e2ddc"
      },
      "outputs": [],
      "source": [
        "# Pad the punctuation, to treat them as separate 'words'\n",
        "def pad_punctuation(s):\n",
        "    s = re.sub(f\"([{string.punctuation}, '\\n'])\", r\" \\1 \", s)\n",
        "    s = re.sub(\" +\", \" \", s)\n",
        "    return s\n",
        "\n",
        "\n",
        "text_data = [pad_punctuation(x) for x in filtered_data]"
      ]
    },
    {
      "cell_type": "code",
      "execution_count": 10,
      "id": "b87d7c65-9a46-492a-a5c0-a043b0d252f3",
      "metadata": {
        "id": "b87d7c65-9a46-492a-a5c0-a043b0d252f3",
        "outputId": "6cd99c19-611f-40a6-d1ac-cc8d562516c5",
        "colab": {
          "base_uri": "https://localhost:8080/",
          "height": 53
        }
      },
      "outputs": [
        {
          "output_type": "execute_result",
          "data": {
            "text/plain": [
              "'wine review : US : California : Pinot Noir : Oak and earth intermingle around robust aromas of wet forest floor in this vineyard - designated Pinot that hails from a high - elevation site . Small in production , it offers intense , full - bodied raspberry and blackberry steeped in smoky spice and smooth texture . '"
            ],
            "application/vnd.google.colaboratory.intrinsic+json": {
              "type": "string"
            }
          },
          "metadata": {},
          "execution_count": 10
        }
      ],
      "source": [
        "# Display an example of wine review\n",
        "example_data = text_data[25]\n",
        "example_data"
      ]
    },
    {
      "cell_type": "code",
      "execution_count": 11,
      "id": "9834f916-b21a-4104-acc9-f28d3bd7a8c1",
      "metadata": {
        "tags": [],
        "id": "9834f916-b21a-4104-acc9-f28d3bd7a8c1"
      },
      "outputs": [],
      "source": [
        "# Convert to a Tensorflow Dataset\n",
        "text_ds = (\n",
        "    tf.data.Dataset.from_tensor_slices(text_data)\n",
        "    .batch(BATCH_SIZE)\n",
        "    .shuffle(1000)\n",
        ")"
      ]
    },
    {
      "cell_type": "code",
      "execution_count": 12,
      "id": "884c0bcb-0807-45a1-8f7e-a32f2c6fa4de",
      "metadata": {
        "id": "884c0bcb-0807-45a1-8f7e-a32f2c6fa4de"
      },
      "outputs": [],
      "source": [
        "# Create a vectorisation layer\n",
        "vectorize_layer = layers.TextVectorization(\n",
        "    standardize=\"lower\",\n",
        "    max_tokens=VOCAB_SIZE,\n",
        "    output_mode=\"int\",\n",
        "    output_sequence_length=MAX_LEN + 1,\n",
        ")"
      ]
    },
    {
      "cell_type": "code",
      "execution_count": 13,
      "id": "4d6dd34a-d905-497b-926a-405380ebcf98",
      "metadata": {
        "id": "4d6dd34a-d905-497b-926a-405380ebcf98"
      },
      "outputs": [],
      "source": [
        "# Adapt the layer to the training set\n",
        "vectorize_layer.adapt(text_ds)\n",
        "vocab = vectorize_layer.get_vocabulary()"
      ]
    },
    {
      "cell_type": "code",
      "execution_count": 14,
      "id": "f6c1c7ce-3cf0-40d4-a3dc-ab7090f69f2f",
      "metadata": {
        "id": "f6c1c7ce-3cf0-40d4-a3dc-ab7090f69f2f",
        "outputId": "6102a7db-473f-4ccb-8188-937bb066e9a6",
        "colab": {
          "base_uri": "https://localhost:8080/"
        }
      },
      "outputs": [
        {
          "output_type": "stream",
          "name": "stdout",
          "text": [
            "0: \n",
            "1: [UNK]\n",
            "2: :\n",
            "3: ,\n",
            "4: .\n",
            "5: and\n",
            "6: the\n",
            "7: wine\n",
            "8: a\n",
            "9: of\n"
          ]
        }
      ],
      "source": [
        "# Display some token:word mappings\n",
        "for i, word in enumerate(vocab[:10]):\n",
        "    print(f\"{i}: {word}\")"
      ]
    },
    {
      "cell_type": "code",
      "execution_count": 15,
      "id": "1cc30186-7ec6-4eb6-b29a-65df6714d321",
      "metadata": {
        "id": "1cc30186-7ec6-4eb6-b29a-65df6714d321",
        "outputId": "15dcf442-376e-43a2-9076-e3427fbe6a67",
        "colab": {
          "base_uri": "https://localhost:8080/"
        }
      },
      "outputs": [
        {
          "output_type": "stream",
          "name": "stdout",
          "text": [
            "[   7   10    2   20    2   29    2   43   62    2   55    5  243 4145\n",
            "  453  634   26    9  497  499  667   17   12  142   14 2214   43   25\n",
            " 2484   32    8  223   14 2213  948    4  594   17  987    3   15   75\n",
            "  237    3   64   14   82   97    5   74 2633   17  198   49    5  125\n",
            "   77    4    0    0    0    0    0    0    0    0    0    0    0    0\n",
            "    0    0    0    0    0    0    0    0    0    0    0]\n"
          ]
        }
      ],
      "source": [
        "# Display the same example converted to ints\n",
        "example_tokenised = vectorize_layer(example_data)\n",
        "print(example_tokenised.numpy())"
      ]
    },
    {
      "cell_type": "markdown",
      "id": "8c195efb-84c6-4be0-a989-a7542188ad35",
      "metadata": {
        "id": "8c195efb-84c6-4be0-a989-a7542188ad35"
      },
      "source": [
        "## 3. Create the Training Set <a name=\"create\"></a>"
      ]
    },
    {
      "cell_type": "code",
      "execution_count": 21,
      "id": "740294a1-1a6b-4c89-92f2-036d7d1b788b",
      "metadata": {
        "id": "740294a1-1a6b-4c89-92f2-036d7d1b788b"
      },
      "outputs": [],
      "source": [
        "# Create the training set of reviews and the same text shifted by one word\n",
        "def prepare_inputs(text):\n",
        "    text = tf.expand_dims(text, -1)\n",
        "    tokenized_sentences = vectorize_layer(text)\n",
        "    x = tokenized_sentences[:, :-1]\n",
        "    y = tokenized_sentences[:, 1:]\n",
        "    return x, y\n",
        "\n",
        "\n",
        "train_ds = text_ds.map(prepare_inputs)"
      ]
    },
    {
      "cell_type": "code",
      "execution_count": 22,
      "id": "cad80ffb-4298-4249-86b4-9918d62534c5",
      "metadata": {
        "id": "cad80ffb-4298-4249-86b4-9918d62534c5"
      },
      "outputs": [],
      "source": [
        "example_input_output = train_ds.take(1).get_single_element()"
      ]
    },
    {
      "cell_type": "code",
      "execution_count": 23,
      "id": "67ff7263-f62d-44c1-997b-1aa99a393521",
      "metadata": {
        "id": "67ff7263-f62d-44c1-997b-1aa99a393521",
        "outputId": "c0f8410c-1b2e-48c3-d550-ba17b79a1104",
        "colab": {
          "base_uri": "https://localhost:8080/"
        }
      },
      "outputs": [
        {
          "output_type": "execute_result",
          "data": {
            "text/plain": [
              "<tf.Tensor: shape=(80,), dtype=int64, numpy=\n",
              "array([   7,   10,    2,   20,    2,  103,    2,   92,    2, 1036,   19,\n",
              "       1289, 1195,    3,   12,   13,    8,  360,   92,   32,    8, 1808,\n",
              "        948,    3, 2833,    6,  682,   23,   89,  138,    5,  180,   22,\n",
              "         16,    9,  221,  383,    5,  326,  196,    4,   15,   18,   21,\n",
              "         71,  109,    5,    6,   34,   39, 2105,   38,    3,   11,   99,\n",
              "        623,    4,    0,    0,    0,    0,    0,    0,    0,    0,    0,\n",
              "          0,    0,    0,    0,    0,    0,    0,    0,    0,    0,    0,\n",
              "          0,    0,    0])>"
            ]
          },
          "metadata": {},
          "execution_count": 23
        }
      ],
      "source": [
        "# Example Input\n",
        "example_input_output[0][0]"
      ]
    },
    {
      "cell_type": "code",
      "execution_count": 24,
      "id": "ef2e2cad-414c-4e6d-a2ac-6b9598f9dd01",
      "metadata": {
        "id": "ef2e2cad-414c-4e6d-a2ac-6b9598f9dd01",
        "outputId": "fe8c6368-0b76-406e-c4cd-a4a499e243b9",
        "colab": {
          "base_uri": "https://localhost:8080/"
        }
      },
      "outputs": [
        {
          "output_type": "execute_result",
          "data": {
            "text/plain": [
              "<tf.Tensor: shape=(80,), dtype=int64, numpy=\n",
              "array([  10,    2,   20,    2,  103,    2,   92,    2, 1036,   19, 1289,\n",
              "       1195,    3,   12,   13,    8,  360,   92,   32,    8, 1808,  948,\n",
              "          3, 2833,    6,  682,   23,   89,  138,    5,  180,   22,   16,\n",
              "          9,  221,  383,    5,  326,  196,    4,   15,   18,   21,   71,\n",
              "        109,    5,    6,   34,   39, 2105,   38,    3,   11,   99,  623,\n",
              "          4,    0,    0,    0,    0,    0,    0,    0,    0,    0,    0,\n",
              "          0,    0,    0,    0,    0,    0,    0,    0,    0,    0,    0,\n",
              "          0,    0,    0])>"
            ]
          },
          "metadata": {},
          "execution_count": 24
        }
      ],
      "source": [
        "# Example Output (shifted by one token)\n",
        "example_input_output[1][0]"
      ]
    },
    {
      "cell_type": "markdown",
      "id": "aff50401-3abe-4c10-bba8-b35bc13ad7d5",
      "metadata": {
        "tags": [],
        "id": "aff50401-3abe-4c10-bba8-b35bc13ad7d5"
      },
      "source": [
        "## 5. Create the causal attention mask function <a name=\"causal\"></a>"
      ]
    },
    {
      "cell_type": "markdown",
      "source": [
        "1 means unmasked and 0 means masked. we need to apply the mask to avoid information from future words leaking through."
      ],
      "metadata": {
        "id": "fktFQlx0AQxd"
      },
      "id": "fktFQlx0AQxd"
    },
    {
      "cell_type": "code",
      "execution_count": 25,
      "id": "554a4184-61c2-4eb7-a063-d965586a8188",
      "metadata": {
        "id": "554a4184-61c2-4eb7-a063-d965586a8188",
        "outputId": "52feac23-3a4c-4f45-c50f-127d12e95632",
        "colab": {
          "base_uri": "https://localhost:8080/"
        }
      },
      "outputs": [
        {
          "output_type": "execute_result",
          "data": {
            "text/plain": [
              "array([[1, 1, 1, 1, 1, 1, 1, 1, 1, 1],\n",
              "       [0, 1, 1, 1, 1, 1, 1, 1, 1, 1],\n",
              "       [0, 0, 1, 1, 1, 1, 1, 1, 1, 1],\n",
              "       [0, 0, 0, 1, 1, 1, 1, 1, 1, 1],\n",
              "       [0, 0, 0, 0, 1, 1, 1, 1, 1, 1],\n",
              "       [0, 0, 0, 0, 0, 1, 1, 1, 1, 1],\n",
              "       [0, 0, 0, 0, 0, 0, 1, 1, 1, 1],\n",
              "       [0, 0, 0, 0, 0, 0, 0, 1, 1, 1],\n",
              "       [0, 0, 0, 0, 0, 0, 0, 0, 1, 1],\n",
              "       [0, 0, 0, 0, 0, 0, 0, 0, 0, 1]], dtype=int32)"
            ]
          },
          "metadata": {},
          "execution_count": 25
        }
      ],
      "source": [
        "def causal_attention_mask(batch_size, n_dest, n_src, dtype):\n",
        "    i = tf.range(n_dest)[:, None]\n",
        "    j = tf.range(n_src)\n",
        "    m = i >= j - n_src + n_dest\n",
        "    mask = tf.cast(m, dtype)\n",
        "    mask = tf.reshape(mask, [1, n_dest, n_src])\n",
        "    mult = tf.concat(\n",
        "        [tf.expand_dims(batch_size, -1), tf.constant([1, 1], dtype=tf.int32)], 0\n",
        "    )\n",
        "    return tf.tile(mask, mult)\n",
        "\n",
        "\n",
        "np.transpose(causal_attention_mask(1, 10, 10, dtype=tf.int32)[0])"
      ]
    },
    {
      "cell_type": "markdown",
      "id": "3501dbad-0860-40ad-b7d6-47950e37858f",
      "metadata": {
        "id": "3501dbad-0860-40ad-b7d6-47950e37858f"
      },
      "source": [
        "## 6. Create a Transformer Block layer <a name=\"transformer\"></a>"
      ]
    },
    {
      "cell_type": "code",
      "execution_count": 26,
      "id": "5285a1cb-fce1-46b1-b088-b596002fa9ae",
      "metadata": {
        "id": "5285a1cb-fce1-46b1-b088-b596002fa9ae"
      },
      "outputs": [],
      "source": [
        "class TransformerBlock(layers.Layer):\n",
        "    def __init__(self, num_heads, key_dim, embed_dim, ff_dim, dropout_rate=0.1):\n",
        "        super(TransformerBlock, self).__init__() #<1>\n",
        "        self.num_heads = num_heads\n",
        "        self.key_dim = key_dim\n",
        "        self.embed_dim = embed_dim\n",
        "        self.ff_dim = ff_dim\n",
        "        self.dropout_rate = dropout_rate\n",
        "        # multihead head attention layer\n",
        "        self.attn = layers.MultiHeadAttention(\n",
        "            num_heads, key_dim, output_shape=embed_dim\n",
        "        )\n",
        "        self.dropout_1 = layers.Dropout(self.dropout_rate)\n",
        "        self.ln_1 = layers.LayerNormalization(epsilon=1e-6)\n",
        "        self.ffn_1 = layers.Dense(self.ff_dim, activation=\"relu\")\n",
        "        self.ffn_2 = layers.Dense(self.embed_dim)\n",
        "        self.dropout_2 = layers.Dropout(self.dropout_rate)\n",
        "        self.ln_2 = layers.LayerNormalization(epsilon=1e-6)\n",
        "\n",
        "    def call(self, inputs):\n",
        "        input_shape = tf.shape(inputs)\n",
        "        batch_size = input_shape[0]\n",
        "        seq_len = input_shape[1]\n",
        "        causal_mask = causal_attention_mask(\n",
        "            batch_size, seq_len, seq_len, tf.bool\n",
        "        ) #<2>\n",
        "        attention_output, attention_scores = self.attn(\n",
        "            inputs,\n",
        "            inputs,\n",
        "            attention_mask=causal_mask,\n",
        "            return_attention_scores=True,\n",
        "        ) #<3>\n",
        "        attention_output = self.dropout_1(attention_output)\n",
        "        out1 = self.ln_1(inputs + attention_output) #<4>\n",
        "        ffn_1 = self.ffn_1(out1)#<5>\n",
        "        ffn_2 = self.ffn_2(ffn_1)\n",
        "        ffn_output = self.dropout_2(ffn_2)\n",
        "        return (self.ln_2(out1 + ffn_output), attention_scores)#<6>\n",
        "\n",
        "    def get_config(self):\n",
        "        config = super().get_config()\n",
        "        config.update(\n",
        "            {\n",
        "                \"key_dim\": self.key_dim,\n",
        "                \"embed_dim\": self.embed_dim,\n",
        "                \"num_heads\": self.num_heads,\n",
        "                \"ff_dim\": self.ff_dim,\n",
        "                \"dropout_rate\": self.dropout_rate,\n",
        "            }\n",
        "        )\n",
        "        return config"
      ]
    },
    {
      "cell_type": "markdown",
      "source": [
        "1. The sublayers that make up the TransformerBlock layer are defined within the initialization function\n",
        "2. causal mask is created to hide future keys from the query\n",
        "3. The multihead attention layer is created, with the attention masks specified\n",
        "4. The first add and normalization layer\n",
        "5. The feed-forward layers\n",
        "6. The second add and normalization layer"
      ],
      "metadata": {
        "id": "XBLmNnqqBDzN"
      },
      "id": "XBLmNnqqBDzN"
    },
    {
      "cell_type": "markdown",
      "id": "076a6be0-9796-4974-9bcd-6ebbcfe7514e",
      "metadata": {
        "tags": [],
        "id": "076a6be0-9796-4974-9bcd-6ebbcfe7514e"
      },
      "source": [
        "## 7. Create the Token and Position Embedding <a name=\"embedder\"></a>\n",
        "\n",
        "The token embeddings are added to the positional embeddings to give the token position encoding"
      ]
    },
    {
      "cell_type": "code",
      "execution_count": 27,
      "id": "fdf5cb25-88ae-4026-9e21-c1e6b5094a2c",
      "metadata": {
        "id": "fdf5cb25-88ae-4026-9e21-c1e6b5094a2c"
      },
      "outputs": [],
      "source": [
        "class TokenAndPositionEmbedding(layers.Layer):\n",
        "    def __init__(self, max_len, vocab_size, embed_dim):\n",
        "        super(TokenAndPositionEmbedding, self).__init__()\n",
        "        self.max_len = max_len\n",
        "        self.vocab_size = vocab_size\n",
        "        self.embed_dim = embed_dim\n",
        "        self.token_emb = layers.Embedding(\n",
        "            input_dim=vocab_size, output_dim=embed_dim\n",
        "        )#<1>\n",
        "        self.pos_emb = layers.Embedding(input_dim=max_len, output_dim=embed_dim)#<2>\n",
        "\n",
        "    def call(self, x):\n",
        "        maxlen = tf.shape(x)[-1]\n",
        "        positions = tf.range(start=0, limit=maxlen, delta=1)\n",
        "        positions = self.pos_emb(positions)\n",
        "        x = self.token_emb(x)\n",
        "        return x + positions #<3>\n",
        "\n",
        "    def get_config(self):\n",
        "        config = super().get_config()\n",
        "        config.update(\n",
        "            {\n",
        "                \"max_len\": self.max_len,\n",
        "                \"vocab_size\": self.vocab_size,\n",
        "                \"embed_dim\": self.embed_dim,\n",
        "            }\n",
        "        )\n",
        "        return config"
      ]
    },
    {
      "cell_type": "markdown",
      "source": [
        "1. The tokens are embeded using an `Embedding` layer.\n",
        "2. The positions of the tokens are also embedded using `Embedding` layer.\n",
        "3. The output from the layer is the sum of the token and position embeddings."
      ],
      "metadata": {
        "id": "ZcuF__n2COj4"
      },
      "id": "ZcuF__n2COj4"
    },
    {
      "cell_type": "markdown",
      "id": "aac2e2d4-5980-47e3-b5b0-6c41c0c2d152",
      "metadata": {
        "id": "aac2e2d4-5980-47e3-b5b0-6c41c0c2d152"
      },
      "source": [
        "## 8. Build the Transformer model <a name=\"transformer_decoder\"></a>\n",
        "\n",
        "To put everything together, we need to pass our input text through the token and position embedding layer, then through the Transformer block. The final output of the network is a simple `Dense` layer with softmax activation over the number of words in the vocabulary."
      ]
    },
    {
      "cell_type": "code",
      "execution_count": 28,
      "id": "8c57596e-e17d-4959-b6e8-7581b0bace3a",
      "metadata": {
        "id": "8c57596e-e17d-4959-b6e8-7581b0bace3a"
      },
      "outputs": [],
      "source": [
        "inputs = layers.Input(shape=(None,), dtype=tf.int32) #<1>\n",
        "x = TokenAndPositionEmbedding(MAX_LEN, VOCAB_SIZE, EMBEDDING_DIM)(inputs) #<2>\n",
        "x, attention_scores = TransformerBlock(\n",
        "    N_HEADS, KEY_DIM, EMBEDDING_DIM, FEED_FORWARD_DIM\n",
        ")(x) #<3>\n",
        "outputs = layers.Dense(VOCAB_SIZE, activation=\"softmax\")(x) #<4>\n",
        "gpt = models.Model(inputs=inputs, outputs=[outputs, attention_scores]) #<5>\n",
        "gpt.compile(\"adam\", loss=[losses.SparseCategoricalCrossentropy(), None]) #<6>"
      ]
    },
    {
      "cell_type": "markdown",
      "source": [
        "1. The input is padded with zeros\n",
        "2. The text is encoded using a `TokenAndPositionEmbedding` layer\n",
        "3. The encoding is passed through a `TransformerBlock`\n",
        "4. The transformed output is passed through a `Dense` layer with softmax activation function to predict a distribution over the subsequent word\n",
        "5. The `Model` takes a sequence of word tokens as input and outputs the predicted subsequent word distribution. the output from the `TransformerBlock` is also returned so that we can inspect how the model is directing its attention.\n",
        "6. The model is compiled with `SparseCategoricalCrossentropy` loss over the predicted word distribution"
      ],
      "metadata": {
        "id": "cl-qBTkHDD0q"
      },
      "id": "cl-qBTkHDD0q"
    },
    {
      "cell_type": "code",
      "execution_count": 29,
      "id": "1a1c3b0f-3382-444d-bb04-bae143ae5d61",
      "metadata": {
        "id": "1a1c3b0f-3382-444d-bb04-bae143ae5d61",
        "outputId": "d4665d58-ed2c-4e4f-cd60-a8c235b5d2e5",
        "colab": {
          "base_uri": "https://localhost:8080/"
        }
      },
      "outputs": [
        {
          "output_type": "stream",
          "name": "stdout",
          "text": [
            "Model: \"model\"\n",
            "_________________________________________________________________\n",
            " Layer (type)                Output Shape              Param #   \n",
            "=================================================================\n",
            " input_1 (InputLayer)        [(None, None)]            0         \n",
            "                                                                 \n",
            " token_and_position_embeddi  (None, None, 256)         2580480   \n",
            " ng (TokenAndPositionEmbedd                                      \n",
            " ing)                                                            \n",
            "                                                                 \n",
            " transformer_block (Transfo  ((None, None, 256),       658688    \n",
            " rmerBlock)                   (None, 2, None, None))             \n",
            "                                                                 \n",
            " dense_2 (Dense)             (None, None, 10000)       2570000   \n",
            "                                                                 \n",
            "=================================================================\n",
            "Total params: 5809168 (22.16 MB)\n",
            "Trainable params: 5809168 (22.16 MB)\n",
            "Non-trainable params: 0 (0.00 Byte)\n",
            "_________________________________________________________________\n"
          ]
        }
      ],
      "source": [
        "gpt.summary()"
      ]
    },
    {
      "cell_type": "code",
      "execution_count": 30,
      "id": "800a3c6e-fb11-4792-b6bc-9a43a7c977ad",
      "metadata": {
        "tags": [],
        "id": "800a3c6e-fb11-4792-b6bc-9a43a7c977ad"
      },
      "outputs": [],
      "source": [
        "if LOAD_MODEL:\n",
        "    # model.load_weights('./models/model')\n",
        "    gpt = models.load_model(\"./models/gpt\", compile=True)"
      ]
    },
    {
      "cell_type": "markdown",
      "id": "35b14665-4359-447b-be58-3fd58ba69084",
      "metadata": {
        "id": "35b14665-4359-447b-be58-3fd58ba69084"
      },
      "source": [
        "## 9. Train the Transformer <a name=\"train\"></a>"
      ]
    },
    {
      "cell_type": "code",
      "execution_count": 31,
      "id": "3ddcff5f-829d-4449-99d2-9a3cb68f7d72",
      "metadata": {
        "id": "3ddcff5f-829d-4449-99d2-9a3cb68f7d72"
      },
      "outputs": [],
      "source": [
        "# Create a TextGenerator checkpoint\n",
        "class TextGenerator(callbacks.Callback):\n",
        "    def __init__(self, index_to_word, top_k=10):\n",
        "        self.index_to_word = index_to_word\n",
        "        self.word_to_index = {\n",
        "            word: index for index, word in enumerate(index_to_word)\n",
        "        }\n",
        "\n",
        "    def sample_from(self, probs, temperature):\n",
        "        probs = probs ** (1 / temperature)\n",
        "        probs = probs / np.sum(probs)\n",
        "        return np.random.choice(len(probs), p=probs), probs\n",
        "\n",
        "    def generate(self, start_prompt, max_tokens, temperature):\n",
        "        start_tokens = [\n",
        "            self.word_to_index.get(x, 1) for x in start_prompt.split()\n",
        "        ]\n",
        "        sample_token = None\n",
        "        info = []\n",
        "        while len(start_tokens) < max_tokens and sample_token != 0:\n",
        "            x = np.array([start_tokens])\n",
        "            y, att = self.model.predict(x, verbose=0)\n",
        "            sample_token, probs = self.sample_from(y[0][-1], temperature)\n",
        "            info.append(\n",
        "                {\n",
        "                    \"prompt\": start_prompt,\n",
        "                    \"word_probs\": probs,\n",
        "                    \"atts\": att[0, :, -1, :],\n",
        "                }\n",
        "            )\n",
        "            start_tokens.append(sample_token)\n",
        "            start_prompt = start_prompt + \" \" + self.index_to_word[sample_token]\n",
        "        print(f\"\\ngenerated text:\\n{start_prompt}\\n\")\n",
        "        return info\n",
        "\n",
        "    def on_epoch_end(self, epoch, logs=None):\n",
        "        self.generate(\"wine review\", max_tokens=80, temperature=1.0)"
      ]
    },
    {
      "cell_type": "code",
      "execution_count": 32,
      "id": "349865fe-ffbe-450e-97be-043ae1740e78",
      "metadata": {
        "id": "349865fe-ffbe-450e-97be-043ae1740e78"
      },
      "outputs": [],
      "source": [
        "# Create a model save checkpoint\n",
        "model_checkpoint_callback = callbacks.ModelCheckpoint(\n",
        "    filepath=\"./checkpoint/checkpoint.ckpt\",\n",
        "    save_weights_only=True,\n",
        "    save_freq=\"epoch\",\n",
        "    verbose=0,\n",
        ")\n",
        "\n",
        "tensorboard_callback = callbacks.TensorBoard(log_dir=\"./logs\")\n",
        "\n",
        "# Tokenize starting prompt\n",
        "text_generator = TextGenerator(vocab)"
      ]
    },
    {
      "cell_type": "code",
      "execution_count": 33,
      "id": "461c2b3e-b5ae-4def-8bd9-e7bab8c63d8e",
      "metadata": {
        "tags": [],
        "id": "461c2b3e-b5ae-4def-8bd9-e7bab8c63d8e",
        "outputId": "a91bd479-1251-4d63-9b3a-db93fc365ed9",
        "colab": {
          "base_uri": "https://localhost:8080/"
        }
      },
      "outputs": [
        {
          "output_type": "stream",
          "name": "stdout",
          "text": [
            "Epoch 1/5\n",
            "4060/4060 [==============================] - ETA: 0s - loss: 2.2526 - dense_2_loss: 2.2526\n",
            "generated text:\n",
            "wine review : france : alsace : gewürztraminer : the orange peel is rich by a toned dry version of gewurztraminer with great leaves that the rich final acidity . there is a touch of bitter chocolate . the fruit flavors come through as an apparent hint of honey are both present with aging in 3–5 years to come . \n",
            "\n",
            "4060/4060 [==============================] - 169s 40ms/step - loss: 2.2526 - dense_2_loss: 2.2526\n",
            "Epoch 2/5\n",
            "4060/4060 [==============================] - ETA: 0s - loss: 1.9600 - dense_2_loss: 1.9600\n",
            "generated text:\n",
            "wine review : us : california : pinot noir : the cool area of cambria shows the warmth of chaparral that give the nose of this wine substantial time in the glass , which causes a savory , purple fruit and dry spicy thyme on the palate . black plum and strawberry flavors recall cooked black cherry , a lively touch of cracked pepper . \n",
            "\n",
            "4060/4060 [==============================] - 129s 32ms/step - loss: 1.9600 - dense_2_loss: 1.9600\n",
            "Epoch 3/5\n",
            "4059/4060 [============================>.] - ETA: 0s - loss: 1.8895 - dense_2_loss: 1.8895\n",
            "generated text:\n",
            "wine review : chile : leyda valley : pinot noir : smells smoky and oaky . that feels fresh and burnt , with perfectly ripened berry flavors , while the fruit fades quickly on the finish . \n",
            "\n",
            "4060/4060 [==============================] - 125s 31ms/step - loss: 1.8896 - dense_2_loss: 1.8896\n",
            "Epoch 4/5\n",
            "4060/4060 [==============================] - ETA: 0s - loss: 1.8473 - dense_2_loss: 1.8473\n",
            "generated text:\n",
            "wine review : argentina : mendoza province : malbec : oaky with bright , tight cassis and pointed [UNK] almost later . it is tight and jumpy on the bouquet , with deeper notes and cheesy flavors of bitter cherry and berry fruit . balanced and with herbal elements [UNK] how sweet will be fine . finishes it ' s expansive and textured and solid , the wine but will improve multiple as 2017 it . \n",
            "\n",
            "4060/4060 [==============================] - 125s 31ms/step - loss: 1.8473 - dense_2_loss: 1.8473\n",
            "Epoch 5/5\n",
            "4060/4060 [==============================] - ETA: 0s - loss: 1.8173 - dense_2_loss: 1.8173\n",
            "generated text:\n",
            "wine review : us : colorado : malbec : lightly spiced blueberry [UNK] between spice aromas and caramel are dusted with white pepper and freesia notes in this firmly structured wine . the palate features medium acidity , with chalky tannins that wind through to a slightly bitter finish . \n",
            "\n",
            "4060/4060 [==============================] - 124s 30ms/step - loss: 1.8173 - dense_2_loss: 1.8173\n"
          ]
        },
        {
          "output_type": "execute_result",
          "data": {
            "text/plain": [
              "<keras.src.callbacks.History at 0x7ea861dcba60>"
            ]
          },
          "metadata": {},
          "execution_count": 33
        }
      ],
      "source": [
        "gpt.fit(\n",
        "    train_ds,\n",
        "    epochs=EPOCHS,\n",
        "    callbacks=[model_checkpoint_callback, tensorboard_callback, text_generator],\n",
        ")"
      ]
    },
    {
      "cell_type": "code",
      "execution_count": 34,
      "id": "369bde44-2e39-4bc6-8549-a3a27ecce55c",
      "metadata": {
        "tags": [],
        "id": "369bde44-2e39-4bc6-8549-a3a27ecce55c"
      },
      "outputs": [],
      "source": [
        "# Save the final model\n",
        "gpt.save(\"./models/gpt\")"
      ]
    },
    {
      "cell_type": "markdown",
      "id": "d64e02d2-84dc-40c8-8446-40c09adf1e20",
      "metadata": {
        "id": "d64e02d2-84dc-40c8-8446-40c09adf1e20"
      },
      "source": [
        "# 3. Generate text using the Transformer\n",
        "\n",
        "We can generate new text by applying the following process:\n",
        "1. Feed the network with an existing sequence of words and ask it to predict the following word.\n",
        "2. Append this word to the existing sequence and repeat.\n",
        "\n",
        "The network will output a set of probabilites for each word that we can sample from so we can make the text generation stochastic, rather than deterministic"
      ]
    },
    {
      "cell_type": "code",
      "execution_count": 35,
      "id": "4ad23adb-3ec9-4e9a-9a59-b9f9bafca649",
      "metadata": {
        "id": "4ad23adb-3ec9-4e9a-9a59-b9f9bafca649"
      },
      "outputs": [],
      "source": [
        "def print_probs(info, vocab, top_k=5):\n",
        "    for i in info:\n",
        "        highlighted_text = []\n",
        "        for word, att_score in zip(\n",
        "            i[\"prompt\"].split(), np.mean(i[\"atts\"], axis=0)\n",
        "        ):\n",
        "            highlighted_text.append(\n",
        "                '<span style=\"background-color:rgba(135,206,250,'\n",
        "                + str(att_score / max(np.mean(i[\"atts\"], axis=0)))\n",
        "                + ');\">'\n",
        "                + word\n",
        "                + \"</span>\"\n",
        "            )\n",
        "        highlighted_text = \" \".join(highlighted_text)\n",
        "        display(HTML(highlighted_text))\n",
        "\n",
        "        word_probs = i[\"word_probs\"]\n",
        "        p_sorted = np.sort(word_probs)[::-1][:top_k]\n",
        "        i_sorted = np.argsort(word_probs)[::-1][:top_k]\n",
        "        for p, i in zip(p_sorted, i_sorted):\n",
        "            print(f\"{vocab[i]}:   \\t{np.round(100*p,2)}%\")\n",
        "        print(\"--------\\n\")"
      ]
    },
    {
      "cell_type": "markdown",
      "source": [
        "We will use two different temperature.\n",
        "\n",
        "Both are stylistically similar to a wine review\n",
        "Both open with the region and type of wine, and the wine type stays consistent throughout the passage.\n",
        "\n",
        "- temp=1 more adventurous and therefore less accurate, more variety\n",
        "- temp=0.5 less variety and more accurate"
      ],
      "metadata": {
        "id": "evXNciwDEVsJ"
      },
      "id": "evXNciwDEVsJ"
    },
    {
      "cell_type": "code",
      "execution_count": 36,
      "id": "3cf25578-d47c-4b26-8252-fcdf2316a4ac",
      "metadata": {
        "id": "3cf25578-d47c-4b26-8252-fcdf2316a4ac",
        "outputId": "2819a59f-b42c-4663-a220-b4dadc1a1f09",
        "colab": {
          "base_uri": "https://localhost:8080/"
        }
      },
      "outputs": [
        {
          "output_type": "stream",
          "name": "stdout",
          "text": [
            "\n",
            "generated text:\n",
            "wine review : us : california : chardonnay : perhaps the wine seems now all didn ' t fully ripen many chards region . the vineyard is far more expensive . here is failla , with apricots , too popular oak sticks out . hold until the chilly vintage . feels massive and a rich wine , at the core of pineapples , mangoes and limes . \n",
            "\n"
          ]
        }
      ],
      "source": [
        "info = text_generator.generate(\n",
        "    \"wine review : us\", max_tokens=80, temperature=1.0\n",
        ")"
      ]
    },
    {
      "cell_type": "code",
      "execution_count": 37,
      "id": "4ae2da8e-9b7c-4b71-b37b-021115b3d7ea",
      "metadata": {
        "id": "4ae2da8e-9b7c-4b71-b37b-021115b3d7ea",
        "outputId": "fca97278-1ae3-4172-8996-59707d327cd3",
        "colab": {
          "base_uri": "https://localhost:8080/"
        }
      },
      "outputs": [
        {
          "output_type": "stream",
          "name": "stdout",
          "text": [
            "\n",
            "generated text:\n",
            "wine review : italy : tuscany : sangiovese : this is a simple , fresh sangiovese from the abruzzo region . it has a very firm mouthfeel , with a bright , fruity mouthfeel and a touch of tannin . \n",
            "\n"
          ]
        }
      ],
      "source": [
        "info = text_generator.generate(\n",
        "    \"wine review : italy\", max_tokens=80, temperature=0.5\n",
        ")"
      ]
    },
    {
      "cell_type": "markdown",
      "source": [
        "we can also ask the model to tell us how much attention is being placed on each word, when predicting on the next word. The `Transformerblock` outputs the attention weights for each head, which are a softmax distribution over the preceding words in the sentence.\n",
        "\n",
        "We show the top five tokens with the hightest probabilities, as well as the average attention across all heads, against each preceding words. The preceding words are colored according to their attention score, average across all attention heads. Darker blue indicates more attention."
      ],
      "metadata": {
        "id": "t2Nlz6_JFF5W"
      },
      "id": "t2Nlz6_JFF5W"
    },
    {
      "cell_type": "code",
      "execution_count": 38,
      "id": "5cae6d5d-263d-4455-b96c-f315cbe284ee",
      "metadata": {
        "id": "5cae6d5d-263d-4455-b96c-f315cbe284ee",
        "outputId": "3424e6cc-9d48-4d69-ce39-827897f4f227",
        "colab": {
          "base_uri": "https://localhost:8080/",
          "height": 1000
        }
      },
      "outputs": [
        {
          "output_type": "stream",
          "name": "stdout",
          "text": [
            "\n",
            "generated text:\n",
            "wine review : germany : mosel : riesling : a touch of spice lends complexity to this intensely fruity riesling . it ' s a spry wine , dancing in the mouth and spry . it ' s a [UNK] of juicy , forward , fruity and refreshing , with a hint of tangerine and lime acidity . \n",
            "\n"
          ]
        },
        {
          "output_type": "display_data",
          "data": {
            "text/plain": [
              "<IPython.core.display.HTML object>"
            ],
            "text/html": [
              "<span style=\"background-color:rgba(135,206,250,1.0);\">wine</span> <span style=\"background-color:rgba(135,206,250,0.8986015);\">review</span> <span style=\"background-color:rgba(135,206,250,0.74914443);\">:</span> <span style=\"background-color:rgba(135,206,250,0.35159424);\">germany</span>"
            ]
          },
          "metadata": {}
        },
        {
          "output_type": "stream",
          "name": "stdout",
          "text": [
            "::   \t100.0%\n",
            "zealand:   \t0.0%\n",
            "-:   \t0.0%\n",
            "grosso:   \t0.0%\n",
            "grasparossa:   \t0.0%\n",
            "--------\n",
            "\n"
          ]
        },
        {
          "output_type": "display_data",
          "data": {
            "text/plain": [
              "<IPython.core.display.HTML object>"
            ],
            "text/html": [
              "<span style=\"background-color:rgba(135,206,250,0.3761181);\">wine</span> <span style=\"background-color:rgba(135,206,250,0.3905697);\">review</span> <span style=\"background-color:rgba(135,206,250,0.5238853);\">:</span> <span style=\"background-color:rgba(135,206,250,1.0);\">germany</span> <span style=\"background-color:rgba(135,206,250,0.3039798);\">:</span>"
            ]
          },
          "metadata": {}
        },
        {
          "output_type": "stream",
          "name": "stdout",
          "text": [
            "mosel:   \t89.66%\n",
            "rheinhessen:   \t6.18%\n",
            "rheingau:   \t3.86%\n",
            "pfalz:   \t0.25%\n",
            "nahe:   \t0.02%\n",
            "--------\n",
            "\n"
          ]
        },
        {
          "output_type": "display_data",
          "data": {
            "text/plain": [
              "<IPython.core.display.HTML object>"
            ],
            "text/html": [
              "<span style=\"background-color:rgba(135,206,250,1.0);\">wine</span> <span style=\"background-color:rgba(135,206,250,0.7819597);\">review</span> <span style=\"background-color:rgba(135,206,250,0.48664242);\">:</span> <span style=\"background-color:rgba(135,206,250,0.31300816);\">germany</span> <span style=\"background-color:rgba(135,206,250,0.4954749);\">:</span> <span style=\"background-color:rgba(135,206,250,0.20081834);\">mosel</span>"
            ]
          },
          "metadata": {}
        },
        {
          "output_type": "stream",
          "name": "stdout",
          "text": [
            "::   \t100.0%\n",
            "-:   \t0.0%\n",
            "grosso:   \t0.0%\n",
            ",:   \t0.0%\n",
            "valley:   \t0.0%\n",
            "--------\n",
            "\n"
          ]
        },
        {
          "output_type": "display_data",
          "data": {
            "text/plain": [
              "<IPython.core.display.HTML object>"
            ],
            "text/html": [
              "<span style=\"background-color:rgba(135,206,250,0.29178223);\">wine</span> <span style=\"background-color:rgba(135,206,250,0.27030137);\">review</span> <span style=\"background-color:rgba(135,206,250,0.2134046);\">:</span> <span style=\"background-color:rgba(135,206,250,0.22959366);\">germany</span> <span style=\"background-color:rgba(135,206,250,0.14262076);\">:</span> <span style=\"background-color:rgba(135,206,250,1.0);\">mosel</span> <span style=\"background-color:rgba(135,206,250,0.18059741);\">:</span>"
            ]
          },
          "metadata": {}
        },
        {
          "output_type": "stream",
          "name": "stdout",
          "text": [
            "riesling:   \t99.99%\n",
            "weissburgunder:   \t0.01%\n",
            "pinot:   \t0.0%\n",
            "grüner:   \t0.0%\n",
            "red:   \t0.0%\n",
            "--------\n",
            "\n"
          ]
        },
        {
          "output_type": "display_data",
          "data": {
            "text/plain": [
              "<IPython.core.display.HTML object>"
            ],
            "text/html": [
              "<span style=\"background-color:rgba(135,206,250,0.80604273);\">wine</span> <span style=\"background-color:rgba(135,206,250,1.0);\">review</span> <span style=\"background-color:rgba(135,206,250,0.3707811);\">:</span> <span style=\"background-color:rgba(135,206,250,0.19367948);\">germany</span> <span style=\"background-color:rgba(135,206,250,0.3963746);\">:</span> <span style=\"background-color:rgba(135,206,250,0.26307333);\">mosel</span> <span style=\"background-color:rgba(135,206,250,0.35427374);\">:</span> <span style=\"background-color:rgba(135,206,250,0.12288999);\">riesling</span>"
            ]
          },
          "metadata": {}
        },
        {
          "output_type": "stream",
          "name": "stdout",
          "text": [
            "::   \t100.0%\n",
            "-:   \t0.0%\n",
            "grosso:   \t0.0%\n",
            ",:   \t0.0%\n",
            "blanc:   \t0.0%\n",
            "--------\n",
            "\n"
          ]
        },
        {
          "output_type": "display_data",
          "data": {
            "text/plain": [
              "<IPython.core.display.HTML object>"
            ],
            "text/html": [
              "<span style=\"background-color:rgba(135,206,250,0.6591776);\">wine</span> <span style=\"background-color:rgba(135,206,250,0.6735936);\">review</span> <span style=\"background-color:rgba(135,206,250,0.4718137);\">:</span> <span style=\"background-color:rgba(135,206,250,0.82699275);\">germany</span> <span style=\"background-color:rgba(135,206,250,0.5005373);\">:</span> <span style=\"background-color:rgba(135,206,250,1.0);\">mosel</span> <span style=\"background-color:rgba(135,206,250,0.49823907);\">:</span> <span style=\"background-color:rgba(135,206,250,0.7340074);\">riesling</span> <span style=\"background-color:rgba(135,206,250,0.56550646);\">:</span>"
            ]
          },
          "metadata": {}
        },
        {
          "output_type": "stream",
          "name": "stdout",
          "text": [
            "a:   \t26.74%\n",
            "while:   \t10.64%\n",
            "fresh:   \t9.04%\n",
            "whiffs:   \t8.94%\n",
            "this:   \t7.34%\n",
            "--------\n",
            "\n"
          ]
        },
        {
          "output_type": "display_data",
          "data": {
            "text/plain": [
              "<IPython.core.display.HTML object>"
            ],
            "text/html": [
              "<span style=\"background-color:rgba(135,206,250,1.0);\">wine</span> <span style=\"background-color:rgba(135,206,250,0.7324865);\">review</span> <span style=\"background-color:rgba(135,206,250,0.55456895);\">:</span> <span style=\"background-color:rgba(135,206,250,0.56320727);\">germany</span> <span style=\"background-color:rgba(135,206,250,0.47022566);\">:</span> <span style=\"background-color:rgba(135,206,250,0.7057278);\">mosel</span> <span style=\"background-color:rgba(135,206,250,0.28880918);\">:</span> <span style=\"background-color:rgba(135,206,250,0.5144835);\">riesling</span> <span style=\"background-color:rgba(135,206,250,0.58716667);\">:</span> <span style=\"background-color:rgba(135,206,250,0.2802389);\">a</span>"
            ]
          },
          "metadata": {}
        },
        {
          "output_type": "stream",
          "name": "stdout",
          "text": [
            "crush:   \t21.83%\n",
            "whiff:   \t21.55%\n",
            "hint:   \t15.7%\n",
            "touch:   \t9.21%\n",
            "revitalizing:   \t4.58%\n",
            "--------\n",
            "\n"
          ]
        },
        {
          "output_type": "display_data",
          "data": {
            "text/plain": [
              "<IPython.core.display.HTML object>"
            ],
            "text/html": [
              "<span style=\"background-color:rgba(135,206,250,1.0);\">wine</span> <span style=\"background-color:rgba(135,206,250,0.8431371);\">review</span> <span style=\"background-color:rgba(135,206,250,0.659606);\">:</span> <span style=\"background-color:rgba(135,206,250,0.47963724);\">germany</span> <span style=\"background-color:rgba(135,206,250,0.57171637);\">:</span> <span style=\"background-color:rgba(135,206,250,0.3745166);\">mosel</span> <span style=\"background-color:rgba(135,206,250,0.24769074);\">:</span> <span style=\"background-color:rgba(135,206,250,0.22493044);\">riesling</span> <span style=\"background-color:rgba(135,206,250,0.5825777);\">:</span> <span style=\"background-color:rgba(135,206,250,0.5711054);\">a</span> <span style=\"background-color:rgba(135,206,250,0.53741133);\">touch</span>"
            ]
          },
          "metadata": {}
        },
        {
          "output_type": "stream",
          "name": "stdout",
          "text": [
            "of:   \t99.98%\n",
            "on:   \t0.01%\n",
            "off:   \t0.0%\n",
            "sweet:   \t0.0%\n",
            "more:   \t0.0%\n",
            "--------\n",
            "\n"
          ]
        },
        {
          "output_type": "display_data",
          "data": {
            "text/plain": [
              "<IPython.core.display.HTML object>"
            ],
            "text/html": [
              "<span style=\"background-color:rgba(135,206,250,0.51653475);\">wine</span> <span style=\"background-color:rgba(135,206,250,0.35852918);\">review</span> <span style=\"background-color:rgba(135,206,250,0.323156);\">:</span> <span style=\"background-color:rgba(135,206,250,0.43557984);\">germany</span> <span style=\"background-color:rgba(135,206,250,0.19587496);\">:</span> <span style=\"background-color:rgba(135,206,250,0.42840117);\">mosel</span> <span style=\"background-color:rgba(135,206,250,0.22933342);\">:</span> <span style=\"background-color:rgba(135,206,250,0.4405279);\">riesling</span> <span style=\"background-color:rgba(135,206,250,0.28995967);\">:</span> <span style=\"background-color:rgba(135,206,250,0.47976062);\">a</span> <span style=\"background-color:rgba(135,206,250,1.0);\">touch</span> <span style=\"background-color:rgba(135,206,250,0.25220716);\">of</span>"
            ]
          },
          "metadata": {}
        },
        {
          "output_type": "stream",
          "name": "stdout",
          "text": [
            "smoke:   \t64.65%\n",
            "minerality:   \t8.5%\n",
            "spice:   \t4.97%\n",
            "petrol:   \t4.75%\n",
            "honey:   \t2.81%\n",
            "--------\n",
            "\n"
          ]
        },
        {
          "output_type": "display_data",
          "data": {
            "text/plain": [
              "<IPython.core.display.HTML object>"
            ],
            "text/html": [
              "<span style=\"background-color:rgba(135,206,250,0.7300288);\">wine</span> <span style=\"background-color:rgba(135,206,250,0.6544399);\">review</span> <span style=\"background-color:rgba(135,206,250,0.5846982);\">:</span> <span style=\"background-color:rgba(135,206,250,0.54492927);\">germany</span> <span style=\"background-color:rgba(135,206,250,0.49378702);\">:</span> <span style=\"background-color:rgba(135,206,250,0.21083272);\">mosel</span> <span style=\"background-color:rgba(135,206,250,0.26176605);\">:</span> <span style=\"background-color:rgba(135,206,250,0.18614364);\">riesling</span> <span style=\"background-color:rgba(135,206,250,0.3950348);\">:</span> <span style=\"background-color:rgba(135,206,250,0.81617457);\">a</span> <span style=\"background-color:rgba(135,206,250,1.0);\">touch</span> <span style=\"background-color:rgba(135,206,250,0.89400506);\">of</span> <span style=\"background-color:rgba(135,206,250,0.40493542);\">spice</span>"
            ]
          },
          "metadata": {}
        },
        {
          "output_type": "stream",
          "name": "stdout",
          "text": [
            "adds:   \t44.16%\n",
            "lends:   \t33.64%\n",
            "and:   \t15.5%\n",
            ",:   \t1.55%\n",
            "from:   \t1.05%\n",
            "--------\n",
            "\n"
          ]
        },
        {
          "output_type": "display_data",
          "data": {
            "text/plain": [
              "<IPython.core.display.HTML object>"
            ],
            "text/html": [
              "<span style=\"background-color:rgba(135,206,250,0.7271334);\">wine</span> <span style=\"background-color:rgba(135,206,250,0.7762598);\">review</span> <span style=\"background-color:rgba(135,206,250,0.49854627);\">:</span> <span style=\"background-color:rgba(135,206,250,0.26864398);\">germany</span> <span style=\"background-color:rgba(135,206,250,0.40743652);\">:</span> <span style=\"background-color:rgba(135,206,250,0.35385403);\">mosel</span> <span style=\"background-color:rgba(135,206,250,0.27774525);\">:</span> <span style=\"background-color:rgba(135,206,250,0.24905035);\">riesling</span> <span style=\"background-color:rgba(135,206,250,0.39037684);\">:</span> <span style=\"background-color:rgba(135,206,250,0.37182358);\">a</span> <span style=\"background-color:rgba(135,206,250,0.43916404);\">touch</span> <span style=\"background-color:rgba(135,206,250,0.3593453);\">of</span> <span style=\"background-color:rgba(135,206,250,1.0);\">spice</span> <span style=\"background-color:rgba(135,206,250,0.46346748);\">lends</span>"
            ]
          },
          "metadata": {}
        },
        {
          "output_type": "stream",
          "name": "stdout",
          "text": [
            "a:   \t62.39%\n",
            "complexity:   \t23.46%\n",
            "an:   \t3.78%\n",
            "depth:   \t2.49%\n",
            "freshness:   \t1.7%\n",
            "--------\n",
            "\n"
          ]
        },
        {
          "output_type": "display_data",
          "data": {
            "text/plain": [
              "<IPython.core.display.HTML object>"
            ],
            "text/html": [
              "<span style=\"background-color:rgba(135,206,250,0.35747775);\">wine</span> <span style=\"background-color:rgba(135,206,250,0.3299105);\">review</span> <span style=\"background-color:rgba(135,206,250,0.3078403);\">:</span> <span style=\"background-color:rgba(135,206,250,0.27426952);\">germany</span> <span style=\"background-color:rgba(135,206,250,0.2363525);\">:</span> <span style=\"background-color:rgba(135,206,250,0.10091934);\">mosel</span> <span style=\"background-color:rgba(135,206,250,0.14093922);\">:</span> <span style=\"background-color:rgba(135,206,250,0.082209066);\">riesling</span> <span style=\"background-color:rgba(135,206,250,0.20314576);\">:</span> <span style=\"background-color:rgba(135,206,250,0.24664989);\">a</span> <span style=\"background-color:rgba(135,206,250,0.23821245);\">touch</span> <span style=\"background-color:rgba(135,206,250,0.25661615);\">of</span> <span style=\"background-color:rgba(135,206,250,0.21804582);\">spice</span> <span style=\"background-color:rgba(135,206,250,1.0);\">lends</span> <span style=\"background-color:rgba(135,206,250,0.3421857);\">complexity</span>"
            ]
          },
          "metadata": {}
        },
        {
          "output_type": "stream",
          "name": "stdout",
          "text": [
            "to:   \t99.46%\n",
            "and:   \t0.46%\n",
            "in:   \t0.05%\n",
            "on:   \t0.02%\n",
            ",:   \t0.01%\n",
            "--------\n",
            "\n"
          ]
        },
        {
          "output_type": "display_data",
          "data": {
            "text/plain": [
              "<IPython.core.display.HTML object>"
            ],
            "text/html": [
              "<span style=\"background-color:rgba(135,206,250,0.2836669);\">wine</span> <span style=\"background-color:rgba(135,206,250,0.19879574);\">review</span> <span style=\"background-color:rgba(135,206,250,0.28042024);\">:</span> <span style=\"background-color:rgba(135,206,250,0.2794627);\">germany</span> <span style=\"background-color:rgba(135,206,250,0.22296242);\">:</span> <span style=\"background-color:rgba(135,206,250,0.22861086);\">mosel</span> <span style=\"background-color:rgba(135,206,250,0.1504374);\">:</span> <span style=\"background-color:rgba(135,206,250,0.22468916);\">riesling</span> <span style=\"background-color:rgba(135,206,250,0.1632905);\">:</span> <span style=\"background-color:rgba(135,206,250,0.17286922);\">a</span> <span style=\"background-color:rgba(135,206,250,0.30339786);\">touch</span> <span style=\"background-color:rgba(135,206,250,0.13817987);\">of</span> <span style=\"background-color:rgba(135,206,250,0.26215935);\">spice</span> <span style=\"background-color:rgba(135,206,250,1.0);\">lends</span> <span style=\"background-color:rgba(135,206,250,0.7650115);\">complexity</span> <span style=\"background-color:rgba(135,206,250,0.15137482);\">to</span>"
            ]
          },
          "metadata": {}
        },
        {
          "output_type": "stream",
          "name": "stdout",
          "text": [
            "this:   \t97.49%\n",
            "the:   \t0.94%\n",
            "pristine:   \t0.72%\n",
            "a:   \t0.37%\n",
            "fresh:   \t0.11%\n",
            "--------\n",
            "\n"
          ]
        },
        {
          "output_type": "display_data",
          "data": {
            "text/plain": [
              "<IPython.core.display.HTML object>"
            ],
            "text/html": [
              "<span style=\"background-color:rgba(135,206,250,0.4687387);\">wine</span> <span style=\"background-color:rgba(135,206,250,0.37414926);\">review</span> <span style=\"background-color:rgba(135,206,250,0.649063);\">:</span> <span style=\"background-color:rgba(135,206,250,0.8601782);\">germany</span> <span style=\"background-color:rgba(135,206,250,0.40160114);\">:</span> <span style=\"background-color:rgba(135,206,250,0.55489016);\">mosel</span> <span style=\"background-color:rgba(135,206,250,0.3247092);\">:</span> <span style=\"background-color:rgba(135,206,250,0.78306824);\">riesling</span> <span style=\"background-color:rgba(135,206,250,0.38336164);\">:</span> <span style=\"background-color:rgba(135,206,250,0.32980627);\">a</span> <span style=\"background-color:rgba(135,206,250,0.39117092);\">touch</span> <span style=\"background-color:rgba(135,206,250,0.26929414);\">of</span> <span style=\"background-color:rgba(135,206,250,0.33276775);\">spice</span> <span style=\"background-color:rgba(135,206,250,1.0);\">lends</span> <span style=\"background-color:rgba(135,206,250,0.5853946);\">complexity</span> <span style=\"background-color:rgba(135,206,250,0.8891953);\">to</span> <span style=\"background-color:rgba(135,206,250,0.36135837);\">this</span>"
            ]
          },
          "metadata": {}
        },
        {
          "output_type": "stream",
          "name": "stdout",
          "text": [
            "intensely:   \t37.55%\n",
            "riesling:   \t5.5%\n",
            "fresh:   \t5.5%\n",
            "off:   \t5.5%\n",
            "zesty:   \t3.96%\n",
            "--------\n",
            "\n"
          ]
        },
        {
          "output_type": "display_data",
          "data": {
            "text/plain": [
              "<IPython.core.display.HTML object>"
            ],
            "text/html": [
              "<span style=\"background-color:rgba(135,206,250,0.60255337);\">wine</span> <span style=\"background-color:rgba(135,206,250,0.38163212);\">review</span> <span style=\"background-color:rgba(135,206,250,0.77265126);\">:</span> <span style=\"background-color:rgba(135,206,250,0.63371986);\">germany</span> <span style=\"background-color:rgba(135,206,250,0.68389136);\">:</span> <span style=\"background-color:rgba(135,206,250,0.41152692);\">mosel</span> <span style=\"background-color:rgba(135,206,250,0.32276133);\">:</span> <span style=\"background-color:rgba(135,206,250,0.56640047);\">riesling</span> <span style=\"background-color:rgba(135,206,250,0.38782585);\">:</span> <span style=\"background-color:rgba(135,206,250,0.29910675);\">a</span> <span style=\"background-color:rgba(135,206,250,0.33787945);\">touch</span> <span style=\"background-color:rgba(135,206,250,0.33864745);\">of</span> <span style=\"background-color:rgba(135,206,250,0.5010195);\">spice</span> <span style=\"background-color:rgba(135,206,250,0.80915534);\">lends</span> <span style=\"background-color:rgba(135,206,250,0.7347027);\">complexity</span> <span style=\"background-color:rgba(135,206,250,0.9268251);\">to</span> <span style=\"background-color:rgba(135,206,250,1.0);\">this</span> <span style=\"background-color:rgba(135,206,250,0.32601887);\">intensely</span>"
            ]
          },
          "metadata": {}
        },
        {
          "output_type": "stream",
          "name": "stdout",
          "text": [
            "fruity:   \t62.12%\n",
            "aromatic:   \t18.61%\n",
            "concentrated:   \t7.82%\n",
            "ripe:   \t4.78%\n",
            "juicy:   \t2.3%\n",
            "--------\n",
            "\n"
          ]
        },
        {
          "output_type": "display_data",
          "data": {
            "text/plain": [
              "<IPython.core.display.HTML object>"
            ],
            "text/html": [
              "<span style=\"background-color:rgba(135,206,250,0.30367097);\">wine</span> <span style=\"background-color:rgba(135,206,250,0.22698502);\">review</span> <span style=\"background-color:rgba(135,206,250,0.35949805);\">:</span> <span style=\"background-color:rgba(135,206,250,0.4199442);\">germany</span> <span style=\"background-color:rgba(135,206,250,0.22155826);\">:</span> <span style=\"background-color:rgba(135,206,250,0.19517349);\">mosel</span> <span style=\"background-color:rgba(135,206,250,0.16953863);\">:</span> <span style=\"background-color:rgba(135,206,250,0.38860458);\">riesling</span> <span style=\"background-color:rgba(135,206,250,0.22003008);\">:</span> <span style=\"background-color:rgba(135,206,250,0.19716303);\">a</span> <span style=\"background-color:rgba(135,206,250,0.31982565);\">touch</span> <span style=\"background-color:rgba(135,206,250,0.24960163);\">of</span> <span style=\"background-color:rgba(135,206,250,0.19981238);\">spice</span> <span style=\"background-color:rgba(135,206,250,0.5695318);\">lends</span> <span style=\"background-color:rgba(135,206,250,0.46738264);\">complexity</span> <span style=\"background-color:rgba(135,206,250,0.63449883);\">to</span> <span style=\"background-color:rgba(135,206,250,1.0);\">this</span> <span style=\"background-color:rgba(135,206,250,0.38165367);\">intensely</span> <span style=\"background-color:rgba(135,206,250,0.3220449);\">fruity</span>"
            ]
          },
          "metadata": {}
        },
        {
          "output_type": "stream",
          "name": "stdout",
          "text": [
            "riesling:   \t47.59%\n",
            ",:   \t46.01%\n",
            "wine:   \t2.35%\n",
            "auslese:   \t1.55%\n",
            "kabinett:   \t1.0%\n",
            "--------\n",
            "\n"
          ]
        },
        {
          "output_type": "display_data",
          "data": {
            "text/plain": [
              "<IPython.core.display.HTML object>"
            ],
            "text/html": [
              "<span style=\"background-color:rgba(135,206,250,0.40435582);\">wine</span> <span style=\"background-color:rgba(135,206,250,0.37244254);\">review</span> <span style=\"background-color:rgba(135,206,250,0.43337548);\">:</span> <span style=\"background-color:rgba(135,206,250,0.31934935);\">germany</span> <span style=\"background-color:rgba(135,206,250,0.2883215);\">:</span> <span style=\"background-color:rgba(135,206,250,0.15403883);\">mosel</span> <span style=\"background-color:rgba(135,206,250,0.25486758);\">:</span> <span style=\"background-color:rgba(135,206,250,0.1185737);\">riesling</span> <span style=\"background-color:rgba(135,206,250,0.3035619);\">:</span> <span style=\"background-color:rgba(135,206,250,0.42134514);\">a</span> <span style=\"background-color:rgba(135,206,250,0.32667854);\">touch</span> <span style=\"background-color:rgba(135,206,250,0.19957246);\">of</span> <span style=\"background-color:rgba(135,206,250,0.14371236);\">spice</span> <span style=\"background-color:rgba(135,206,250,1.0);\">lends</span> <span style=\"background-color:rgba(135,206,250,0.33680525);\">complexity</span> <span style=\"background-color:rgba(135,206,250,0.6925105);\">to</span> <span style=\"background-color:rgba(135,206,250,0.59205586);\">this</span> <span style=\"background-color:rgba(135,206,250,0.26929647);\">intensely</span> <span style=\"background-color:rgba(135,206,250,0.4024039);\">fruity</span> <span style=\"background-color:rgba(135,206,250,0.2833951);\">riesling</span>"
            ]
          },
          "metadata": {}
        },
        {
          "output_type": "stream",
          "name": "stdout",
          "text": [
            ".:   \t99.08%\n",
            ",:   \t0.84%\n",
            "full:   \t0.04%\n",
            "that:   \t0.03%\n",
            "and:   \t0.0%\n",
            "--------\n",
            "\n"
          ]
        },
        {
          "output_type": "display_data",
          "data": {
            "text/plain": [
              "<IPython.core.display.HTML object>"
            ],
            "text/html": [
              "<span style=\"background-color:rgba(135,206,250,0.43201783);\">wine</span> <span style=\"background-color:rgba(135,206,250,0.4621784);\">review</span> <span style=\"background-color:rgba(135,206,250,0.57472134);\">:</span> <span style=\"background-color:rgba(135,206,250,0.9593636);\">germany</span> <span style=\"background-color:rgba(135,206,250,1.0);\">:</span> <span style=\"background-color:rgba(135,206,250,0.53705376);\">mosel</span> <span style=\"background-color:rgba(135,206,250,0.39958125);\">:</span> <span style=\"background-color:rgba(135,206,250,0.57519615);\">riesling</span> <span style=\"background-color:rgba(135,206,250,0.41575179);\">:</span> <span style=\"background-color:rgba(135,206,250,0.3090076);\">a</span> <span style=\"background-color:rgba(135,206,250,0.32604307);\">touch</span> <span style=\"background-color:rgba(135,206,250,0.22110066);\">of</span> <span style=\"background-color:rgba(135,206,250,0.2568564);\">spice</span> <span style=\"background-color:rgba(135,206,250,0.6566262);\">lends</span> <span style=\"background-color:rgba(135,206,250,0.4860973);\">complexity</span> <span style=\"background-color:rgba(135,206,250,0.2953132);\">to</span> <span style=\"background-color:rgba(135,206,250,0.7347401);\">this</span> <span style=\"background-color:rgba(135,206,250,0.2997354);\">intensely</span> <span style=\"background-color:rgba(135,206,250,0.5324317);\">fruity</span> <span style=\"background-color:rgba(135,206,250,0.75149316);\">riesling</span> <span style=\"background-color:rgba(135,206,250,0.91223127);\">.</span>"
            ]
          },
          "metadata": {}
        },
        {
          "output_type": "stream",
          "name": "stdout",
          "text": [
            "it:   \t88.7%\n",
            "the:   \t3.83%\n",
            "off:   \t1.84%\n",
            "on:   \t1.35%\n",
            "fresh:   \t0.6%\n",
            "--------\n",
            "\n"
          ]
        },
        {
          "output_type": "display_data",
          "data": {
            "text/plain": [
              "<IPython.core.display.HTML object>"
            ],
            "text/html": [
              "<span style=\"background-color:rgba(135,206,250,0.085592784);\">wine</span> <span style=\"background-color:rgba(135,206,250,0.09879867);\">review</span> <span style=\"background-color:rgba(135,206,250,0.1472136);\">:</span> <span style=\"background-color:rgba(135,206,250,0.2506407);\">germany</span> <span style=\"background-color:rgba(135,206,250,0.071450956);\">:</span> <span style=\"background-color:rgba(135,206,250,0.11131752);\">mosel</span> <span style=\"background-color:rgba(135,206,250,0.06458678);\">:</span> <span style=\"background-color:rgba(135,206,250,0.075862646);\">riesling</span> <span style=\"background-color:rgba(135,206,250,0.06836062);\">:</span> <span style=\"background-color:rgba(135,206,250,0.04961211);\">a</span> <span style=\"background-color:rgba(135,206,250,0.10418464);\">touch</span> <span style=\"background-color:rgba(135,206,250,0.061424218);\">of</span> <span style=\"background-color:rgba(135,206,250,0.06711201);\">spice</span> <span style=\"background-color:rgba(135,206,250,0.2179327);\">lends</span> <span style=\"background-color:rgba(135,206,250,0.10866913);\">complexity</span> <span style=\"background-color:rgba(135,206,250,0.10007117);\">to</span> <span style=\"background-color:rgba(135,206,250,0.09563332);\">this</span> <span style=\"background-color:rgba(135,206,250,0.12258687);\">intensely</span> <span style=\"background-color:rgba(135,206,250,0.19194563);\">fruity</span> <span style=\"background-color:rgba(135,206,250,0.20847498);\">riesling</span> <span style=\"background-color:rgba(135,206,250,1.0);\">.</span> <span style=\"background-color:rgba(135,206,250,0.2639368);\">it</span>"
            ]
          },
          "metadata": {}
        },
        {
          "output_type": "stream",
          "name": "stdout",
          "text": [
            "':   \t100.0%\n",
            "has:   \t0.0%\n",
            "is:   \t0.0%\n",
            "juxtaposes:   \t0.0%\n",
            "offers:   \t0.0%\n",
            "--------\n",
            "\n"
          ]
        },
        {
          "output_type": "display_data",
          "data": {
            "text/plain": [
              "<IPython.core.display.HTML object>"
            ],
            "text/html": [
              "<span style=\"background-color:rgba(135,206,250,0.18148255);\">wine</span> <span style=\"background-color:rgba(135,206,250,0.13447255);\">review</span> <span style=\"background-color:rgba(135,206,250,0.1651212);\">:</span> <span style=\"background-color:rgba(135,206,250,0.15251985);\">germany</span> <span style=\"background-color:rgba(135,206,250,0.09835658);\">:</span> <span style=\"background-color:rgba(135,206,250,0.12551093);\">mosel</span> <span style=\"background-color:rgba(135,206,250,0.105866745);\">:</span> <span style=\"background-color:rgba(135,206,250,0.16763705);\">riesling</span> <span style=\"background-color:rgba(135,206,250,0.13140863);\">:</span> <span style=\"background-color:rgba(135,206,250,0.12140035);\">a</span> <span style=\"background-color:rgba(135,206,250,0.07989359);\">touch</span> <span style=\"background-color:rgba(135,206,250,0.069788516);\">of</span> <span style=\"background-color:rgba(135,206,250,0.06827616);\">spice</span> <span style=\"background-color:rgba(135,206,250,0.14598544);\">lends</span> <span style=\"background-color:rgba(135,206,250,0.108056985);\">complexity</span> <span style=\"background-color:rgba(135,206,250,0.092953175);\">to</span> <span style=\"background-color:rgba(135,206,250,0.16570087);\">this</span> <span style=\"background-color:rgba(135,206,250,0.1399788);\">intensely</span> <span style=\"background-color:rgba(135,206,250,0.16450493);\">fruity</span> <span style=\"background-color:rgba(135,206,250,0.32389456);\">riesling</span> <span style=\"background-color:rgba(135,206,250,0.87180567);\">.</span> <span style=\"background-color:rgba(135,206,250,1.0);\">it</span> <span style=\"background-color:rgba(135,206,250,0.14040281);\">'</span>"
            ]
          },
          "metadata": {}
        },
        {
          "output_type": "stream",
          "name": "stdout",
          "text": [
            "s:   \t100.0%\n",
            "ll:   \t0.0%\n",
            "[UNK]:   \t0.0%\n",
            "11:   \t0.0%\n",
            "d:   \t0.0%\n",
            "--------\n",
            "\n"
          ]
        },
        {
          "output_type": "display_data",
          "data": {
            "text/plain": [
              "<IPython.core.display.HTML object>"
            ],
            "text/html": [
              "<span style=\"background-color:rgba(135,206,250,0.13049401);\">wine</span> <span style=\"background-color:rgba(135,206,250,0.12993851);\">review</span> <span style=\"background-color:rgba(135,206,250,0.2094513);\">:</span> <span style=\"background-color:rgba(135,206,250,0.2688462);\">germany</span> <span style=\"background-color:rgba(135,206,250,0.093460225);\">:</span> <span style=\"background-color:rgba(135,206,250,0.21019872);\">mosel</span> <span style=\"background-color:rgba(135,206,250,0.0948898);\">:</span> <span style=\"background-color:rgba(135,206,250,0.25442868);\">riesling</span> <span style=\"background-color:rgba(135,206,250,0.1389479);\">:</span> <span style=\"background-color:rgba(135,206,250,0.0835111);\">a</span> <span style=\"background-color:rgba(135,206,250,0.119568266);\">touch</span> <span style=\"background-color:rgba(135,206,250,0.08991475);\">of</span> <span style=\"background-color:rgba(135,206,250,0.095301);\">spice</span> <span style=\"background-color:rgba(135,206,250,0.19645974);\">lends</span> <span style=\"background-color:rgba(135,206,250,0.14323384);\">complexity</span> <span style=\"background-color:rgba(135,206,250,0.1194215);\">to</span> <span style=\"background-color:rgba(135,206,250,0.14879753);\">this</span> <span style=\"background-color:rgba(135,206,250,0.14423557);\">intensely</span> <span style=\"background-color:rgba(135,206,250,0.31319794);\">fruity</span> <span style=\"background-color:rgba(135,206,250,0.26600683);\">riesling</span> <span style=\"background-color:rgba(135,206,250,1.0);\">.</span> <span style=\"background-color:rgba(135,206,250,0.8712615);\">it</span> <span style=\"background-color:rgba(135,206,250,0.15033755);\">'</span> <span style=\"background-color:rgba(135,206,250,0.21555813);\">s</span>"
            ]
          },
          "metadata": {}
        },
        {
          "output_type": "stream",
          "name": "stdout",
          "text": [
            "off:   \t29.5%\n",
            "a:   \t22.18%\n",
            "dry:   \t10.83%\n",
            "intensely:   \t10.42%\n",
            "fresh:   \t2.87%\n",
            "--------\n",
            "\n"
          ]
        },
        {
          "output_type": "display_data",
          "data": {
            "text/plain": [
              "<IPython.core.display.HTML object>"
            ],
            "text/html": [
              "<span style=\"background-color:rgba(135,206,250,0.16383186);\">wine</span> <span style=\"background-color:rgba(135,206,250,0.14192541);\">review</span> <span style=\"background-color:rgba(135,206,250,0.26031435);\">:</span> <span style=\"background-color:rgba(135,206,250,0.38841778);\">germany</span> <span style=\"background-color:rgba(135,206,250,0.12851556);\">:</span> <span style=\"background-color:rgba(135,206,250,0.30851611);\">mosel</span> <span style=\"background-color:rgba(135,206,250,0.10799837);\">:</span> <span style=\"background-color:rgba(135,206,250,0.3069879);\">riesling</span> <span style=\"background-color:rgba(135,206,250,0.13533257);\">:</span> <span style=\"background-color:rgba(135,206,250,0.048534207);\">a</span> <span style=\"background-color:rgba(135,206,250,0.1159078);\">touch</span> <span style=\"background-color:rgba(135,206,250,0.08284207);\">of</span> <span style=\"background-color:rgba(135,206,250,0.1095713);\">spice</span> <span style=\"background-color:rgba(135,206,250,0.2068337);\">lends</span> <span style=\"background-color:rgba(135,206,250,0.13708335);\">complexity</span> <span style=\"background-color:rgba(135,206,250,0.08687145);\">to</span> <span style=\"background-color:rgba(135,206,250,0.14783524);\">this</span> <span style=\"background-color:rgba(135,206,250,0.16389737);\">intensely</span> <span style=\"background-color:rgba(135,206,250,0.2651964);\">fruity</span> <span style=\"background-color:rgba(135,206,250,0.27970976);\">riesling</span> <span style=\"background-color:rgba(135,206,250,1.0);\">.</span> <span style=\"background-color:rgba(135,206,250,0.51210546);\">it</span> <span style=\"background-color:rgba(135,206,250,0.212243);\">'</span> <span style=\"background-color:rgba(135,206,250,0.6721657);\">s</span> <span style=\"background-color:rgba(135,206,250,0.3403447);\">a</span>"
            ]
          },
          "metadata": {}
        },
        {
          "output_type": "stream",
          "name": "stdout",
          "text": [
            "refreshingly:   \t17.3%\n",
            "delightfully:   \t14.48%\n",
            "crush:   \t8.27%\n",
            "delicately:   \t5.57%\n",
            "forward:   \t5.17%\n",
            "--------\n",
            "\n"
          ]
        },
        {
          "output_type": "display_data",
          "data": {
            "text/plain": [
              "<IPython.core.display.HTML object>"
            ],
            "text/html": [
              "<span style=\"background-color:rgba(135,206,250,0.15448779);\">wine</span> <span style=\"background-color:rgba(135,206,250,0.13158612);\">review</span> <span style=\"background-color:rgba(135,206,250,0.22567858);\">:</span> <span style=\"background-color:rgba(135,206,250,0.22549641);\">germany</span> <span style=\"background-color:rgba(135,206,250,0.09650285);\">:</span> <span style=\"background-color:rgba(135,206,250,0.09746343);\">mosel</span> <span style=\"background-color:rgba(135,206,250,0.114094265);\">:</span> <span style=\"background-color:rgba(135,206,250,0.26565713);\">riesling</span> <span style=\"background-color:rgba(135,206,250,0.14623578);\">:</span> <span style=\"background-color:rgba(135,206,250,0.08884663);\">a</span> <span style=\"background-color:rgba(135,206,250,0.06850797);\">touch</span> <span style=\"background-color:rgba(135,206,250,0.0769528);\">of</span> <span style=\"background-color:rgba(135,206,250,0.069590054);\">spice</span> <span style=\"background-color:rgba(135,206,250,0.12598959);\">lends</span> <span style=\"background-color:rgba(135,206,250,0.09206681);\">complexity</span> <span style=\"background-color:rgba(135,206,250,0.1201316);\">to</span> <span style=\"background-color:rgba(135,206,250,0.118524544);\">this</span> <span style=\"background-color:rgba(135,206,250,0.046845246);\">intensely</span> <span style=\"background-color:rgba(135,206,250,0.07289556);\">fruity</span> <span style=\"background-color:rgba(135,206,250,0.20070884);\">riesling</span> <span style=\"background-color:rgba(135,206,250,0.5464527);\">.</span> <span style=\"background-color:rgba(135,206,250,0.38730946);\">it</span> <span style=\"background-color:rgba(135,206,250,0.14107952);\">'</span> <span style=\"background-color:rgba(135,206,250,0.5770753);\">s</span> <span style=\"background-color:rgba(135,206,250,1.0);\">a</span> <span style=\"background-color:rgba(135,206,250,0.16286439);\">spry</span>"
            ]
          },
          "metadata": {}
        },
        {
          "output_type": "stream",
          "name": "stdout",
          "text": [
            ",:   \t80.18%\n",
            "wine:   \t18.66%\n",
            "and:   \t0.84%\n",
            "white:   \t0.1%\n",
            "but:   \t0.06%\n",
            "--------\n",
            "\n"
          ]
        },
        {
          "output_type": "display_data",
          "data": {
            "text/plain": [
              "<IPython.core.display.HTML object>"
            ],
            "text/html": [
              "<span style=\"background-color:rgba(135,206,250,0.14421149);\">wine</span> <span style=\"background-color:rgba(135,206,250,0.20877756);\">review</span> <span style=\"background-color:rgba(135,206,250,0.42052373);\">:</span> <span style=\"background-color:rgba(135,206,250,0.37195814);\">germany</span> <span style=\"background-color:rgba(135,206,250,0.19544919);\">:</span> <span style=\"background-color:rgba(135,206,250,0.12526365);\">mosel</span> <span style=\"background-color:rgba(135,206,250,0.1798839);\">:</span> <span style=\"background-color:rgba(135,206,250,0.11207845);\">riesling</span> <span style=\"background-color:rgba(135,206,250,0.1708722);\">:</span> <span style=\"background-color:rgba(135,206,250,0.16751768);\">a</span> <span style=\"background-color:rgba(135,206,250,0.1333829);\">touch</span> <span style=\"background-color:rgba(135,206,250,0.08244795);\">of</span> <span style=\"background-color:rgba(135,206,250,0.08417741);\">spice</span> <span style=\"background-color:rgba(135,206,250,0.29049632);\">lends</span> <span style=\"background-color:rgba(135,206,250,0.14704368);\">complexity</span> <span style=\"background-color:rgba(135,206,250,0.14592984);\">to</span> <span style=\"background-color:rgba(135,206,250,0.2178061);\">this</span> <span style=\"background-color:rgba(135,206,250,0.102629565);\">intensely</span> <span style=\"background-color:rgba(135,206,250,0.13077286);\">fruity</span> <span style=\"background-color:rgba(135,206,250,0.12001366);\">riesling</span> <span style=\"background-color:rgba(135,206,250,0.7213107);\">.</span> <span style=\"background-color:rgba(135,206,250,0.2551922);\">it</span> <span style=\"background-color:rgba(135,206,250,0.1632858);\">'</span> <span style=\"background-color:rgba(135,206,250,0.69995654);\">s</span> <span style=\"background-color:rgba(135,206,250,1.0);\">a</span> <span style=\"background-color:rgba(135,206,250,0.35227892);\">spry</span> <span style=\"background-color:rgba(135,206,250,0.4658612);\">wine</span>"
            ]
          },
          "metadata": {}
        },
        {
          "output_type": "stream",
          "name": "stdout",
          "text": [
            ",:   \t49.13%\n",
            "that:   \t33.89%\n",
            "with:   \t13.44%\n",
            "to:   \t2.34%\n",
            "marked:   \t0.41%\n",
            "--------\n",
            "\n"
          ]
        },
        {
          "output_type": "display_data",
          "data": {
            "text/plain": [
              "<IPython.core.display.HTML object>"
            ],
            "text/html": [
              "<span style=\"background-color:rgba(135,206,250,0.07544818);\">wine</span> <span style=\"background-color:rgba(135,206,250,0.09425894);\">review</span> <span style=\"background-color:rgba(135,206,250,0.13679391);\">:</span> <span style=\"background-color:rgba(135,206,250,0.26796797);\">germany</span> <span style=\"background-color:rgba(135,206,250,0.063986965);\">:</span> <span style=\"background-color:rgba(135,206,250,0.10838139);\">mosel</span> <span style=\"background-color:rgba(135,206,250,0.06063765);\">:</span> <span style=\"background-color:rgba(135,206,250,0.2070587);\">riesling</span> <span style=\"background-color:rgba(135,206,250,0.10116845);\">:</span> <span style=\"background-color:rgba(135,206,250,0.03764226);\">a</span> <span style=\"background-color:rgba(135,206,250,0.05508762);\">touch</span> <span style=\"background-color:rgba(135,206,250,0.05011494);\">of</span> <span style=\"background-color:rgba(135,206,250,0.048060365);\">spice</span> <span style=\"background-color:rgba(135,206,250,0.14710037);\">lends</span> <span style=\"background-color:rgba(135,206,250,0.0594842);\">complexity</span> <span style=\"background-color:rgba(135,206,250,0.052183628);\">to</span> <span style=\"background-color:rgba(135,206,250,0.13667254);\">this</span> <span style=\"background-color:rgba(135,206,250,0.061520863);\">intensely</span> <span style=\"background-color:rgba(135,206,250,0.11709618);\">fruity</span> <span style=\"background-color:rgba(135,206,250,0.12436591);\">riesling</span> <span style=\"background-color:rgba(135,206,250,0.36765072);\">.</span> <span style=\"background-color:rgba(135,206,250,0.2341641);\">it</span> <span style=\"background-color:rgba(135,206,250,0.028612154);\">'</span> <span style=\"background-color:rgba(135,206,250,0.4193914);\">s</span> <span style=\"background-color:rgba(135,206,250,0.35499287);\">a</span> <span style=\"background-color:rgba(135,206,250,0.43736306);\">spry</span> <span style=\"background-color:rgba(135,206,250,1.0);\">wine</span> <span style=\"background-color:rgba(135,206,250,0.40698063);\">,</span>"
            ]
          },
          "metadata": {}
        },
        {
          "output_type": "stream",
          "name": "stdout",
          "text": [
            "but:   \t66.52%\n",
            "with:   \t15.04%\n",
            "yet:   \t3.35%\n",
            "cutting:   \t2.54%\n",
            "though:   \t1.37%\n",
            "--------\n",
            "\n"
          ]
        },
        {
          "output_type": "display_data",
          "data": {
            "text/plain": [
              "<IPython.core.display.HTML object>"
            ],
            "text/html": [
              "<span style=\"background-color:rgba(135,206,250,0.17958377);\">wine</span> <span style=\"background-color:rgba(135,206,250,0.18036237);\">review</span> <span style=\"background-color:rgba(135,206,250,0.30606344);\">:</span> <span style=\"background-color:rgba(135,206,250,0.31149134);\">germany</span> <span style=\"background-color:rgba(135,206,250,0.1570294);\">:</span> <span style=\"background-color:rgba(135,206,250,0.13501659);\">mosel</span> <span style=\"background-color:rgba(135,206,250,0.12313322);\">:</span> <span style=\"background-color:rgba(135,206,250,0.16423325);\">riesling</span> <span style=\"background-color:rgba(135,206,250,0.13934483);\">:</span> <span style=\"background-color:rgba(135,206,250,0.094163395);\">a</span> <span style=\"background-color:rgba(135,206,250,0.078332275);\">touch</span> <span style=\"background-color:rgba(135,206,250,0.06581207);\">of</span> <span style=\"background-color:rgba(135,206,250,0.082505725);\">spice</span> <span style=\"background-color:rgba(135,206,250,0.11206718);\">lends</span> <span style=\"background-color:rgba(135,206,250,0.1013831);\">complexity</span> <span style=\"background-color:rgba(135,206,250,0.103751026);\">to</span> <span style=\"background-color:rgba(135,206,250,0.105080426);\">this</span> <span style=\"background-color:rgba(135,206,250,0.069060385);\">intensely</span> <span style=\"background-color:rgba(135,206,250,0.07940845);\">fruity</span> <span style=\"background-color:rgba(135,206,250,0.13553344);\">riesling</span> <span style=\"background-color:rgba(135,206,250,0.38512915);\">.</span> <span style=\"background-color:rgba(135,206,250,0.19985989);\">it</span> <span style=\"background-color:rgba(135,206,250,0.06764409);\">'</span> <span style=\"background-color:rgba(135,206,250,0.26860613);\">s</span> <span style=\"background-color:rgba(135,206,250,0.42514324);\">a</span> <span style=\"background-color:rgba(135,206,250,0.20979096);\">spry</span> <span style=\"background-color:rgba(135,206,250,0.92739713);\">wine</span> <span style=\"background-color:rgba(135,206,250,1.0);\">,</span> <span style=\"background-color:rgba(135,206,250,0.47263294);\">dancing</span>"
            ]
          },
          "metadata": {}
        },
        {
          "output_type": "stream",
          "name": "stdout",
          "text": [
            "in:   \t70.39%\n",
            "and:   \t19.1%\n",
            "on:   \t7.52%\n",
            "with:   \t1.55%\n",
            ",:   \t1.08%\n",
            "--------\n",
            "\n"
          ]
        },
        {
          "output_type": "display_data",
          "data": {
            "text/plain": [
              "<IPython.core.display.HTML object>"
            ],
            "text/html": [
              "<span style=\"background-color:rgba(135,206,250,0.057620186);\">wine</span> <span style=\"background-color:rgba(135,206,250,0.048352975);\">review</span> <span style=\"background-color:rgba(135,206,250,0.08339809);\">:</span> <span style=\"background-color:rgba(135,206,250,0.18663058);\">germany</span> <span style=\"background-color:rgba(135,206,250,0.04636436);\">:</span> <span style=\"background-color:rgba(135,206,250,0.08030865);\">mosel</span> <span style=\"background-color:rgba(135,206,250,0.05434477);\">:</span> <span style=\"background-color:rgba(135,206,250,0.121378675);\">riesling</span> <span style=\"background-color:rgba(135,206,250,0.057945427);\">:</span> <span style=\"background-color:rgba(135,206,250,0.03681404);\">a</span> <span style=\"background-color:rgba(135,206,250,0.03386392);\">touch</span> <span style=\"background-color:rgba(135,206,250,0.021126606);\">of</span> <span style=\"background-color:rgba(135,206,250,0.05518612);\">spice</span> <span style=\"background-color:rgba(135,206,250,0.058503438);\">lends</span> <span style=\"background-color:rgba(135,206,250,0.04604914);\">complexity</span> <span style=\"background-color:rgba(135,206,250,0.022504698);\">to</span> <span style=\"background-color:rgba(135,206,250,0.063078724);\">this</span> <span style=\"background-color:rgba(135,206,250,0.047855612);\">intensely</span> <span style=\"background-color:rgba(135,206,250,0.057143927);\">fruity</span> <span style=\"background-color:rgba(135,206,250,0.04779946);\">riesling</span> <span style=\"background-color:rgba(135,206,250,0.10568282);\">.</span> <span style=\"background-color:rgba(135,206,250,0.047744125);\">it</span> <span style=\"background-color:rgba(135,206,250,0.011970022);\">'</span> <span style=\"background-color:rgba(135,206,250,0.04486514);\">s</span> <span style=\"background-color:rgba(135,206,250,0.065436915);\">a</span> <span style=\"background-color:rgba(135,206,250,0.15062484);\">spry</span> <span style=\"background-color:rgba(135,206,250,0.2196286);\">wine</span> <span style=\"background-color:rgba(135,206,250,0.2604708);\">,</span> <span style=\"background-color:rgba(135,206,250,1.0);\">dancing</span> <span style=\"background-color:rgba(135,206,250,0.07855992);\">in</span>"
            ]
          },
          "metadata": {}
        },
        {
          "output_type": "stream",
          "name": "stdout",
          "text": [
            "acidity:   \t56.54%\n",
            "the:   \t12.87%\n",
            "texture:   \t10.52%\n",
            "feel:   \t7.41%\n",
            "its:   \t5.1%\n",
            "--------\n",
            "\n"
          ]
        },
        {
          "output_type": "display_data",
          "data": {
            "text/plain": [
              "<IPython.core.display.HTML object>"
            ],
            "text/html": [
              "<span style=\"background-color:rgba(135,206,250,0.09726072);\">wine</span> <span style=\"background-color:rgba(135,206,250,0.09250578);\">review</span> <span style=\"background-color:rgba(135,206,250,0.11749242);\">:</span> <span style=\"background-color:rgba(135,206,250,0.26633707);\">germany</span> <span style=\"background-color:rgba(135,206,250,0.07581985);\">:</span> <span style=\"background-color:rgba(135,206,250,0.18618858);\">mosel</span> <span style=\"background-color:rgba(135,206,250,0.068528906);\">:</span> <span style=\"background-color:rgba(135,206,250,0.251555);\">riesling</span> <span style=\"background-color:rgba(135,206,250,0.0828828);\">:</span> <span style=\"background-color:rgba(135,206,250,0.042221874);\">a</span> <span style=\"background-color:rgba(135,206,250,0.06673863);\">touch</span> <span style=\"background-color:rgba(135,206,250,0.035185046);\">of</span> <span style=\"background-color:rgba(135,206,250,0.06647065);\">spice</span> <span style=\"background-color:rgba(135,206,250,0.08946647);\">lends</span> <span style=\"background-color:rgba(135,206,250,0.07885701);\">complexity</span> <span style=\"background-color:rgba(135,206,250,0.03810047);\">to</span> <span style=\"background-color:rgba(135,206,250,0.0636191);\">this</span> <span style=\"background-color:rgba(135,206,250,0.06187561);\">intensely</span> <span style=\"background-color:rgba(135,206,250,0.10542544);\">fruity</span> <span style=\"background-color:rgba(135,206,250,0.10421684);\">riesling</span> <span style=\"background-color:rgba(135,206,250,0.16597812);\">.</span> <span style=\"background-color:rgba(135,206,250,0.08495575);\">it</span> <span style=\"background-color:rgba(135,206,250,0.020363042);\">'</span> <span style=\"background-color:rgba(135,206,250,0.106476925);\">s</span> <span style=\"background-color:rgba(135,206,250,0.0874949);\">a</span> <span style=\"background-color:rgba(135,206,250,0.30089575);\">spry</span> <span style=\"background-color:rgba(135,206,250,0.37531954);\">wine</span> <span style=\"background-color:rgba(135,206,250,0.49534705);\">,</span> <span style=\"background-color:rgba(135,206,250,1.0);\">dancing</span> <span style=\"background-color:rgba(135,206,250,0.79234475);\">in</span> <span style=\"background-color:rgba(135,206,250,0.21448797);\">the</span>"
            ]
          },
          "metadata": {}
        },
        {
          "output_type": "stream",
          "name": "stdout",
          "text": [
            "mouth:   \t98.61%\n",
            "palate:   \t1.01%\n",
            "glass:   \t0.32%\n",
            "midpalate:   \t0.03%\n",
            "background:   \t0.0%\n",
            "--------\n",
            "\n"
          ]
        },
        {
          "output_type": "display_data",
          "data": {
            "text/plain": [
              "<IPython.core.display.HTML object>"
            ],
            "text/html": [
              "<span style=\"background-color:rgba(135,206,250,0.16866097);\">wine</span> <span style=\"background-color:rgba(135,206,250,0.17147633);\">review</span> <span style=\"background-color:rgba(135,206,250,0.3606727);\">:</span> <span style=\"background-color:rgba(135,206,250,0.37528494);\">germany</span> <span style=\"background-color:rgba(135,206,250,0.24007529);\">:</span> <span style=\"background-color:rgba(135,206,250,0.13273218);\">mosel</span> <span style=\"background-color:rgba(135,206,250,0.13986029);\">:</span> <span style=\"background-color:rgba(135,206,250,0.14081228);\">riesling</span> <span style=\"background-color:rgba(135,206,250,0.1563391);\">:</span> <span style=\"background-color:rgba(135,206,250,0.08048319);\">a</span> <span style=\"background-color:rgba(135,206,250,0.05283863);\">touch</span> <span style=\"background-color:rgba(135,206,250,0.060090106);\">of</span> <span style=\"background-color:rgba(135,206,250,0.036741566);\">spice</span> <span style=\"background-color:rgba(135,206,250,0.12968098);\">lends</span> <span style=\"background-color:rgba(135,206,250,0.061586387);\">complexity</span> <span style=\"background-color:rgba(135,206,250,0.056734588);\">to</span> <span style=\"background-color:rgba(135,206,250,0.07638709);\">this</span> <span style=\"background-color:rgba(135,206,250,0.04346851);\">intensely</span> <span style=\"background-color:rgba(135,206,250,0.08466637);\">fruity</span> <span style=\"background-color:rgba(135,206,250,0.08273615);\">riesling</span> <span style=\"background-color:rgba(135,206,250,0.3155985);\">.</span> <span style=\"background-color:rgba(135,206,250,0.16870031);\">it</span> <span style=\"background-color:rgba(135,206,250,0.05546379);\">'</span> <span style=\"background-color:rgba(135,206,250,0.22462368);\">s</span> <span style=\"background-color:rgba(135,206,250,0.29699427);\">a</span> <span style=\"background-color:rgba(135,206,250,0.17052294);\">spry</span> <span style=\"background-color:rgba(135,206,250,0.2533399);\">wine</span> <span style=\"background-color:rgba(135,206,250,0.58702004);\">,</span> <span style=\"background-color:rgba(135,206,250,0.6915194);\">dancing</span> <span style=\"background-color:rgba(135,206,250,1.0);\">in</span> <span style=\"background-color:rgba(135,206,250,0.6612483);\">the</span> <span style=\"background-color:rgba(135,206,250,0.35104895);\">mouth</span>"
            ]
          },
          "metadata": {}
        },
        {
          "output_type": "stream",
          "name": "stdout",
          "text": [
            ",:   \t76.73%\n",
            "and:   \t8.87%\n",
            "with:   \t8.26%\n",
            ".:   \t5.2%\n",
            "of:   \t0.59%\n",
            "--------\n",
            "\n"
          ]
        },
        {
          "output_type": "display_data",
          "data": {
            "text/plain": [
              "<IPython.core.display.HTML object>"
            ],
            "text/html": [
              "<span style=\"background-color:rgba(135,206,250,0.074714035);\">wine</span> <span style=\"background-color:rgba(135,206,250,0.07666723);\">review</span> <span style=\"background-color:rgba(135,206,250,0.099957384);\">:</span> <span style=\"background-color:rgba(135,206,250,0.27921733);\">germany</span> <span style=\"background-color:rgba(135,206,250,0.066945575);\">:</span> <span style=\"background-color:rgba(135,206,250,0.16304578);\">mosel</span> <span style=\"background-color:rgba(135,206,250,0.06291387);\">:</span> <span style=\"background-color:rgba(135,206,250,0.272363);\">riesling</span> <span style=\"background-color:rgba(135,206,250,0.08731478);\">:</span> <span style=\"background-color:rgba(135,206,250,0.037097234);\">a</span> <span style=\"background-color:rgba(135,206,250,0.039682902);\">touch</span> <span style=\"background-color:rgba(135,206,250,0.025367422);\">of</span> <span style=\"background-color:rgba(135,206,250,0.04782705);\">spice</span> <span style=\"background-color:rgba(135,206,250,0.07144379);\">lends</span> <span style=\"background-color:rgba(135,206,250,0.046329167);\">complexity</span> <span style=\"background-color:rgba(135,206,250,0.021348022);\">to</span> <span style=\"background-color:rgba(135,206,250,0.04338171);\">this</span> <span style=\"background-color:rgba(135,206,250,0.053192616);\">intensely</span> <span style=\"background-color:rgba(135,206,250,0.08582089);\">fruity</span> <span style=\"background-color:rgba(135,206,250,0.085000016);\">riesling</span> <span style=\"background-color:rgba(135,206,250,0.11196305);\">.</span> <span style=\"background-color:rgba(135,206,250,0.054558422);\">it</span> <span style=\"background-color:rgba(135,206,250,0.015451951);\">'</span> <span style=\"background-color:rgba(135,206,250,0.06515166);\">s</span> <span style=\"background-color:rgba(135,206,250,0.05141704);\">a</span> <span style=\"background-color:rgba(135,206,250,0.19983533);\">spry</span> <span style=\"background-color:rgba(135,206,250,0.14751731);\">wine</span> <span style=\"background-color:rgba(135,206,250,0.25872272);\">,</span> <span style=\"background-color:rgba(135,206,250,0.4299688);\">dancing</span> <span style=\"background-color:rgba(135,206,250,0.30131814);\">in</span> <span style=\"background-color:rgba(135,206,250,0.42350402);\">the</span> <span style=\"background-color:rgba(135,206,250,1.0);\">mouth</span> <span style=\"background-color:rgba(135,206,250,0.3731038);\">and</span>"
            ]
          },
          "metadata": {}
        },
        {
          "output_type": "stream",
          "name": "stdout",
          "text": [
            "offers:   \t11.94%\n",
            "penetrates:   \t10.75%\n",
            "dancing:   \t8.16%\n",
            "has:   \t6.68%\n",
            "fresh:   \t6.54%\n",
            "--------\n",
            "\n"
          ]
        },
        {
          "output_type": "display_data",
          "data": {
            "text/plain": [
              "<IPython.core.display.HTML object>"
            ],
            "text/html": [
              "<span style=\"background-color:rgba(135,206,250,0.12827325);\">wine</span> <span style=\"background-color:rgba(135,206,250,0.120417766);\">review</span> <span style=\"background-color:rgba(135,206,250,0.20048028);\">:</span> <span style=\"background-color:rgba(135,206,250,0.2640167);\">germany</span> <span style=\"background-color:rgba(135,206,250,0.093273014);\">:</span> <span style=\"background-color:rgba(135,206,250,0.10615058);\">mosel</span> <span style=\"background-color:rgba(135,206,250,0.10986494);\">:</span> <span style=\"background-color:rgba(135,206,250,0.30484536);\">riesling</span> <span style=\"background-color:rgba(135,206,250,0.13631518);\">:</span> <span style=\"background-color:rgba(135,206,250,0.06878149);\">a</span> <span style=\"background-color:rgba(135,206,250,0.04684775);\">touch</span> <span style=\"background-color:rgba(135,206,250,0.05283606);\">of</span> <span style=\"background-color:rgba(135,206,250,0.055317737);\">spice</span> <span style=\"background-color:rgba(135,206,250,0.07915644);\">lends</span> <span style=\"background-color:rgba(135,206,250,0.06370432);\">complexity</span> <span style=\"background-color:rgba(135,206,250,0.07127278);\">to</span> <span style=\"background-color:rgba(135,206,250,0.05434213);\">this</span> <span style=\"background-color:rgba(135,206,250,0.03000619);\">intensely</span> <span style=\"background-color:rgba(135,206,250,0.052035432);\">fruity</span> <span style=\"background-color:rgba(135,206,250,0.13271098);\">riesling</span> <span style=\"background-color:rgba(135,206,250,0.2011697);\">.</span> <span style=\"background-color:rgba(135,206,250,0.13005625);\">it</span> <span style=\"background-color:rgba(135,206,250,0.029581053);\">'</span> <span style=\"background-color:rgba(135,206,250,0.13338771);\">s</span> <span style=\"background-color:rgba(135,206,250,0.13701431);\">a</span> <span style=\"background-color:rgba(135,206,250,0.08573537);\">spry</span> <span style=\"background-color:rgba(135,206,250,0.37136835);\">wine</span> <span style=\"background-color:rgba(135,206,250,0.2127695);\">,</span> <span style=\"background-color:rgba(135,206,250,0.15580048);\">dancing</span> <span style=\"background-color:rgba(135,206,250,0.43110028);\">in</span> <span style=\"background-color:rgba(135,206,250,0.7059017);\">the</span> <span style=\"background-color:rgba(135,206,250,1.0);\">mouth</span> <span style=\"background-color:rgba(135,206,250,0.9925529);\">and</span> <span style=\"background-color:rgba(135,206,250,0.22290283);\">spry</span>"
            ]
          },
          "metadata": {}
        },
        {
          "output_type": "stream",
          "name": "stdout",
          "text": [
            ",:   \t65.04%\n",
            ".:   \t30.48%\n",
            "with:   \t3.63%\n",
            "on:   \t0.46%\n",
            "in:   \t0.2%\n",
            "--------\n",
            "\n"
          ]
        },
        {
          "output_type": "display_data",
          "data": {
            "text/plain": [
              "<IPython.core.display.HTML object>"
            ],
            "text/html": [
              "<span style=\"background-color:rgba(135,206,250,0.16336314);\">wine</span> <span style=\"background-color:rgba(135,206,250,0.1899262);\">review</span> <span style=\"background-color:rgba(135,206,250,0.77776533);\">:</span> <span style=\"background-color:rgba(135,206,250,1.0);\">germany</span> <span style=\"background-color:rgba(135,206,250,0.59662145);\">:</span> <span style=\"background-color:rgba(135,206,250,0.44791162);\">mosel</span> <span style=\"background-color:rgba(135,206,250,0.45212156);\">:</span> <span style=\"background-color:rgba(135,206,250,0.5699881);\">riesling</span> <span style=\"background-color:rgba(135,206,250,0.26705328);\">:</span> <span style=\"background-color:rgba(135,206,250,0.124580674);\">a</span> <span style=\"background-color:rgba(135,206,250,0.11632507);\">touch</span> <span style=\"background-color:rgba(135,206,250,0.076326355);\">of</span> <span style=\"background-color:rgba(135,206,250,0.1120647);\">spice</span> <span style=\"background-color:rgba(135,206,250,0.20402761);\">lends</span> <span style=\"background-color:rgba(135,206,250,0.13793245);\">complexity</span> <span style=\"background-color:rgba(135,206,250,0.08263489);\">to</span> <span style=\"background-color:rgba(135,206,250,0.23712261);\">this</span> <span style=\"background-color:rgba(135,206,250,0.113766745);\">intensely</span> <span style=\"background-color:rgba(135,206,250,0.1680532);\">fruity</span> <span style=\"background-color:rgba(135,206,250,0.20048335);\">riesling</span> <span style=\"background-color:rgba(135,206,250,0.2982664);\">.</span> <span style=\"background-color:rgba(135,206,250,0.22098067);\">it</span> <span style=\"background-color:rgba(135,206,250,0.06280897);\">'</span> <span style=\"background-color:rgba(135,206,250,0.18546924);\">s</span> <span style=\"background-color:rgba(135,206,250,0.17350908);\">a</span> <span style=\"background-color:rgba(135,206,250,0.49238998);\">spry</span> <span style=\"background-color:rgba(135,206,250,0.3824458);\">wine</span> <span style=\"background-color:rgba(135,206,250,0.26870292);\">,</span> <span style=\"background-color:rgba(135,206,250,0.30489442);\">dancing</span> <span style=\"background-color:rgba(135,206,250,0.22147566);\">in</span> <span style=\"background-color:rgba(135,206,250,0.25128686);\">the</span> <span style=\"background-color:rgba(135,206,250,0.52681625);\">mouth</span> <span style=\"background-color:rgba(135,206,250,0.4256082);\">and</span> <span style=\"background-color:rgba(135,206,250,0.7211032);\">spry</span> <span style=\"background-color:rgba(135,206,250,0.92448366);\">.</span>"
            ]
          },
          "metadata": {}
        },
        {
          "output_type": "stream",
          "name": "stdout",
          "text": [
            "it:   \t77.6%\n",
            "drink:   \t12.14%\n",
            "a:   \t1.48%\n",
            "enjoy:   \t1.42%\n",
            ":   \t1.03%\n",
            "--------\n",
            "\n"
          ]
        },
        {
          "output_type": "display_data",
          "data": {
            "text/plain": [
              "<IPython.core.display.HTML object>"
            ],
            "text/html": [
              "<span style=\"background-color:rgba(135,206,250,0.03306537);\">wine</span> <span style=\"background-color:rgba(135,206,250,0.04555323);\">review</span> <span style=\"background-color:rgba(135,206,250,0.048926618);\">:</span> <span style=\"background-color:rgba(135,206,250,0.1828475);\">germany</span> <span style=\"background-color:rgba(135,206,250,0.03292252);\">:</span> <span style=\"background-color:rgba(135,206,250,0.070189364);\">mosel</span> <span style=\"background-color:rgba(135,206,250,0.030864256);\">:</span> <span style=\"background-color:rgba(135,206,250,0.047858257);\">riesling</span> <span style=\"background-color:rgba(135,206,250,0.032898646);\">:</span> <span style=\"background-color:rgba(135,206,250,0.018306272);\">a</span> <span style=\"background-color:rgba(135,206,250,0.0327749);\">touch</span> <span style=\"background-color:rgba(135,206,250,0.01670814);\">of</span> <span style=\"background-color:rgba(135,206,250,0.026568642);\">spice</span> <span style=\"background-color:rgba(135,206,250,0.04817032);\">lends</span> <span style=\"background-color:rgba(135,206,250,0.032442357);\">complexity</span> <span style=\"background-color:rgba(135,206,250,0.0152436895);\">to</span> <span style=\"background-color:rgba(135,206,250,0.022459783);\">this</span> <span style=\"background-color:rgba(135,206,250,0.035390794);\">intensely</span> <span style=\"background-color:rgba(135,206,250,0.043889113);\">fruity</span> <span style=\"background-color:rgba(135,206,250,0.021929625);\">riesling</span> <span style=\"background-color:rgba(135,206,250,0.056184832);\">.</span> <span style=\"background-color:rgba(135,206,250,0.016916288);\">it</span> <span style=\"background-color:rgba(135,206,250,0.007988566);\">'</span> <span style=\"background-color:rgba(135,206,250,0.024601638);\">s</span> <span style=\"background-color:rgba(135,206,250,0.020394849);\">a</span> <span style=\"background-color:rgba(135,206,250,0.11067637);\">spry</span> <span style=\"background-color:rgba(135,206,250,0.04709965);\">wine</span> <span style=\"background-color:rgba(135,206,250,0.041904967);\">,</span> <span style=\"background-color:rgba(135,206,250,0.06830265);\">dancing</span> <span style=\"background-color:rgba(135,206,250,0.053792726);\">in</span> <span style=\"background-color:rgba(135,206,250,0.050827138);\">the</span> <span style=\"background-color:rgba(135,206,250,0.13987221);\">mouth</span> <span style=\"background-color:rgba(135,206,250,0.121170364);\">and</span> <span style=\"background-color:rgba(135,206,250,0.19556652);\">spry</span> <span style=\"background-color:rgba(135,206,250,1.0);\">.</span> <span style=\"background-color:rgba(135,206,250,0.25353488);\">it</span>"
            ]
          },
          "metadata": {}
        },
        {
          "output_type": "stream",
          "name": "stdout",
          "text": [
            "':   \t99.91%\n",
            "finishes:   \t0.08%\n",
            "has:   \t0.01%\n",
            "is:   \t0.0%\n",
            "offers:   \t0.0%\n",
            "--------\n",
            "\n"
          ]
        },
        {
          "output_type": "display_data",
          "data": {
            "text/plain": [
              "<IPython.core.display.HTML object>"
            ],
            "text/html": [
              "<span style=\"background-color:rgba(135,206,250,0.08926255);\">wine</span> <span style=\"background-color:rgba(135,206,250,0.07564617);\">review</span> <span style=\"background-color:rgba(135,206,250,0.09340664);\">:</span> <span style=\"background-color:rgba(135,206,250,0.14145117);\">germany</span> <span style=\"background-color:rgba(135,206,250,0.075699225);\">:</span> <span style=\"background-color:rgba(135,206,250,0.103667304);\">mosel</span> <span style=\"background-color:rgba(135,206,250,0.0688125);\">:</span> <span style=\"background-color:rgba(135,206,250,0.1357451);\">riesling</span> <span style=\"background-color:rgba(135,206,250,0.07629443);\">:</span> <span style=\"background-color:rgba(135,206,250,0.05649204);\">a</span> <span style=\"background-color:rgba(135,206,250,0.02950992);\">touch</span> <span style=\"background-color:rgba(135,206,250,0.026911488);\">of</span> <span style=\"background-color:rgba(135,206,250,0.032450363);\">spice</span> <span style=\"background-color:rgba(135,206,250,0.046974324);\">lends</span> <span style=\"background-color:rgba(135,206,250,0.042759515);\">complexity</span> <span style=\"background-color:rgba(135,206,250,0.024480017);\">to</span> <span style=\"background-color:rgba(135,206,250,0.0454061);\">this</span> <span style=\"background-color:rgba(135,206,250,0.033149075);\">intensely</span> <span style=\"background-color:rgba(135,206,250,0.047060613);\">fruity</span> <span style=\"background-color:rgba(135,206,250,0.06106403);\">riesling</span> <span style=\"background-color:rgba(135,206,250,0.08091501);\">.</span> <span style=\"background-color:rgba(135,206,250,0.05340458);\">it</span> <span style=\"background-color:rgba(135,206,250,0.021955326);\">'</span> <span style=\"background-color:rgba(135,206,250,0.03684619);\">s</span> <span style=\"background-color:rgba(135,206,250,0.047980424);\">a</span> <span style=\"background-color:rgba(135,206,250,0.090935916);\">spry</span> <span style=\"background-color:rgba(135,206,250,0.08158601);\">wine</span> <span style=\"background-color:rgba(135,206,250,0.06041828);\">,</span> <span style=\"background-color:rgba(135,206,250,0.061444886);\">dancing</span> <span style=\"background-color:rgba(135,206,250,0.049191255);\">in</span> <span style=\"background-color:rgba(135,206,250,0.07320264);\">the</span> <span style=\"background-color:rgba(135,206,250,0.29125664);\">mouth</span> <span style=\"background-color:rgba(135,206,250,0.21813343);\">and</span> <span style=\"background-color:rgba(135,206,250,0.1707809);\">spry</span> <span style=\"background-color:rgba(135,206,250,0.83835524);\">.</span> <span style=\"background-color:rgba(135,206,250,1.0);\">it</span> <span style=\"background-color:rgba(135,206,250,0.09645693);\">'</span>"
            ]
          },
          "metadata": {}
        },
        {
          "output_type": "stream",
          "name": "stdout",
          "text": [
            "s:   \t100.0%\n",
            "ll:   \t0.0%\n",
            "[UNK]:   \t0.0%\n",
            ",:   \t0.0%\n",
            "d:   \t0.0%\n",
            "--------\n",
            "\n"
          ]
        },
        {
          "output_type": "display_data",
          "data": {
            "text/plain": [
              "<IPython.core.display.HTML object>"
            ],
            "text/html": [
              "<span style=\"background-color:rgba(135,206,250,0.05718206);\">wine</span> <span style=\"background-color:rgba(135,206,250,0.063606076);\">review</span> <span style=\"background-color:rgba(135,206,250,0.082387276);\">:</span> <span style=\"background-color:rgba(135,206,250,0.2128428);\">germany</span> <span style=\"background-color:rgba(135,206,250,0.047567774);\">:</span> <span style=\"background-color:rgba(135,206,250,0.16334058);\">mosel</span> <span style=\"background-color:rgba(135,206,250,0.05483037);\">:</span> <span style=\"background-color:rgba(135,206,250,0.19515412);\">riesling</span> <span style=\"background-color:rgba(135,206,250,0.07573719);\">:</span> <span style=\"background-color:rgba(135,206,250,0.039329145);\">a</span> <span style=\"background-color:rgba(135,206,250,0.045476165);\">touch</span> <span style=\"background-color:rgba(135,206,250,0.030572195);\">of</span> <span style=\"background-color:rgba(135,206,250,0.042716566);\">spice</span> <span style=\"background-color:rgba(135,206,250,0.053943813);\">lends</span> <span style=\"background-color:rgba(135,206,250,0.046992086);\">complexity</span> <span style=\"background-color:rgba(135,206,250,0.02283564);\">to</span> <span style=\"background-color:rgba(135,206,250,0.03618414);\">this</span> <span style=\"background-color:rgba(135,206,250,0.062306978);\">intensely</span> <span style=\"background-color:rgba(135,206,250,0.07386476);\">fruity</span> <span style=\"background-color:rgba(135,206,250,0.062739074);\">riesling</span> <span style=\"background-color:rgba(135,206,250,0.08177524);\">.</span> <span style=\"background-color:rgba(135,206,250,0.041279227);\">it</span> <span style=\"background-color:rgba(135,206,250,0.011684165);\">'</span> <span style=\"background-color:rgba(135,206,250,0.0370493);\">s</span> <span style=\"background-color:rgba(135,206,250,0.034940623);\">a</span> <span style=\"background-color:rgba(135,206,250,0.21319124);\">spry</span> <span style=\"background-color:rgba(135,206,250,0.10558101);\">wine</span> <span style=\"background-color:rgba(135,206,250,0.07241939);\">,</span> <span style=\"background-color:rgba(135,206,250,0.17144734);\">dancing</span> <span style=\"background-color:rgba(135,206,250,0.06934809);\">in</span> <span style=\"background-color:rgba(135,206,250,0.09272265);\">the</span> <span style=\"background-color:rgba(135,206,250,0.282094);\">mouth</span> <span style=\"background-color:rgba(135,206,250,0.18676992);\">and</span> <span style=\"background-color:rgba(135,206,250,0.36497647);\">spry</span> <span style=\"background-color:rgba(135,206,250,1.0);\">.</span> <span style=\"background-color:rgba(135,206,250,0.8977704);\">it</span> <span style=\"background-color:rgba(135,206,250,0.10694211);\">'</span> <span style=\"background-color:rgba(135,206,250,0.23146485);\">s</span>"
            ]
          },
          "metadata": {}
        },
        {
          "output_type": "stream",
          "name": "stdout",
          "text": [
            "a:   \t76.96%\n",
            "dry:   \t6.21%\n",
            "off:   \t4.02%\n",
            "an:   \t2.45%\n",
            "dancing:   \t2.1%\n",
            "--------\n",
            "\n"
          ]
        },
        {
          "output_type": "display_data",
          "data": {
            "text/plain": [
              "<IPython.core.display.HTML object>"
            ],
            "text/html": [
              "<span style=\"background-color:rgba(135,206,250,0.06709776);\">wine</span> <span style=\"background-color:rgba(135,206,250,0.06816857);\">review</span> <span style=\"background-color:rgba(135,206,250,0.086210765);\">:</span> <span style=\"background-color:rgba(135,206,250,0.32567808);\">germany</span> <span style=\"background-color:rgba(135,206,250,0.05953781);\">:</span> <span style=\"background-color:rgba(135,206,250,0.22635618);\">mosel</span> <span style=\"background-color:rgba(135,206,250,0.05660349);\">:</span> <span style=\"background-color:rgba(135,206,250,0.22091022);\">riesling</span> <span style=\"background-color:rgba(135,206,250,0.0692144);\">:</span> <span style=\"background-color:rgba(135,206,250,0.021677094);\">a</span> <span style=\"background-color:rgba(135,206,250,0.044245135);\">touch</span> <span style=\"background-color:rgba(135,206,250,0.027605267);\">of</span> <span style=\"background-color:rgba(135,206,250,0.047326542);\">spice</span> <span style=\"background-color:rgba(135,206,250,0.06306763);\">lends</span> <span style=\"background-color:rgba(135,206,250,0.04603918);\">complexity</span> <span style=\"background-color:rgba(135,206,250,0.01702081);\">to</span> <span style=\"background-color:rgba(135,206,250,0.035463322);\">this</span> <span style=\"background-color:rgba(135,206,250,0.06224315);\">intensely</span> <span style=\"background-color:rgba(135,206,250,0.08533952);\">fruity</span> <span style=\"background-color:rgba(135,206,250,0.06294675);\">riesling</span> <span style=\"background-color:rgba(135,206,250,0.089814305);\">.</span> <span style=\"background-color:rgba(135,206,250,0.033908892);\">it</span> <span style=\"background-color:rgba(135,206,250,0.0101950755);\">'</span> <span style=\"background-color:rgba(135,206,250,0.03892368);\">s</span> <span style=\"background-color:rgba(135,206,250,0.019801015);\">a</span> <span style=\"background-color:rgba(135,206,250,0.25036007);\">spry</span> <span style=\"background-color:rgba(135,206,250,0.09567208);\">wine</span> <span style=\"background-color:rgba(135,206,250,0.062540844);\">,</span> <span style=\"background-color:rgba(135,206,250,0.13684365);\">dancing</span> <span style=\"background-color:rgba(135,206,250,0.067745686);\">in</span> <span style=\"background-color:rgba(135,206,250,0.05141079);\">the</span> <span style=\"background-color:rgba(135,206,250,0.2595544);\">mouth</span> <span style=\"background-color:rgba(135,206,250,0.14905004);\">and</span> <span style=\"background-color:rgba(135,206,250,0.46781293);\">spry</span> <span style=\"background-color:rgba(135,206,250,1.0);\">.</span> <span style=\"background-color:rgba(135,206,250,0.49413368);\">it</span> <span style=\"background-color:rgba(135,206,250,0.14799699);\">'</span> <span style=\"background-color:rgba(135,206,250,0.82681495);\">s</span> <span style=\"background-color:rgba(135,206,250,0.30750406);\">a</span>"
            ]
          },
          "metadata": {}
        },
        {
          "output_type": "stream",
          "name": "stdout",
          "text": [
            "refreshingly:   \t20.14%\n",
            "shade:   \t15.78%\n",
            "bit:   \t9.83%\n",
            "thirst:   \t8.62%\n",
            "crush:   \t6.71%\n",
            "--------\n",
            "\n"
          ]
        },
        {
          "output_type": "display_data",
          "data": {
            "text/plain": [
              "<IPython.core.display.HTML object>"
            ],
            "text/html": [
              "<span style=\"background-color:rgba(135,206,250,0.11768242);\">wine</span> <span style=\"background-color:rgba(135,206,250,0.098702356);\">review</span> <span style=\"background-color:rgba(135,206,250,0.14487146);\">:</span> <span style=\"background-color:rgba(135,206,250,0.32288185);\">germany</span> <span style=\"background-color:rgba(135,206,250,0.091671765);\">:</span> <span style=\"background-color:rgba(135,206,250,0.1543571);\">mosel</span> <span style=\"background-color:rgba(135,206,250,0.103632346);\">:</span> <span style=\"background-color:rgba(135,206,250,0.23763452);\">riesling</span> <span style=\"background-color:rgba(135,206,250,0.12856723);\">:</span> <span style=\"background-color:rgba(135,206,250,0.07376129);\">a</span> <span style=\"background-color:rgba(135,206,250,0.047725484);\">touch</span> <span style=\"background-color:rgba(135,206,250,0.035397798);\">of</span> <span style=\"background-color:rgba(135,206,250,0.050136924);\">spice</span> <span style=\"background-color:rgba(135,206,250,0.07729385);\">lends</span> <span style=\"background-color:rgba(135,206,250,0.049972743);\">complexity</span> <span style=\"background-color:rgba(135,206,250,0.038334303);\">to</span> <span style=\"background-color:rgba(135,206,250,0.0472671);\">this</span> <span style=\"background-color:rgba(135,206,250,0.038135312);\">intensely</span> <span style=\"background-color:rgba(135,206,250,0.054236554);\">fruity</span> <span style=\"background-color:rgba(135,206,250,0.05998233);\">riesling</span> <span style=\"background-color:rgba(135,206,250,0.13992086);\">.</span> <span style=\"background-color:rgba(135,206,250,0.06042279);\">it</span> <span style=\"background-color:rgba(135,206,250,0.017175797);\">'</span> <span style=\"background-color:rgba(135,206,250,0.06298674);\">s</span> <span style=\"background-color:rgba(135,206,250,0.05772043);\">a</span> <span style=\"background-color:rgba(135,206,250,0.10908628);\">spry</span> <span style=\"background-color:rgba(135,206,250,0.11692704);\">wine</span> <span style=\"background-color:rgba(135,206,250,0.08577959);\">,</span> <span style=\"background-color:rgba(135,206,250,0.06282725);\">dancing</span> <span style=\"background-color:rgba(135,206,250,0.078187615);\">in</span> <span style=\"background-color:rgba(135,206,250,0.095856965);\">the</span> <span style=\"background-color:rgba(135,206,250,0.22288431);\">mouth</span> <span style=\"background-color:rgba(135,206,250,0.1746772);\">and</span> <span style=\"background-color:rgba(135,206,250,0.22373237);\">spry</span> <span style=\"background-color:rgba(135,206,250,0.8313383);\">.</span> <span style=\"background-color:rgba(135,206,250,0.6144836);\">it</span> <span style=\"background-color:rgba(135,206,250,0.12146648);\">'</span> <span style=\"background-color:rgba(135,206,250,0.6440748);\">s</span> <span style=\"background-color:rgba(135,206,250,1.0);\">a</span> <span style=\"background-color:rgba(135,206,250,0.4329319);\">[UNK]</span>"
            ]
          },
          "metadata": {}
        },
        {
          "output_type": "stream",
          "name": "stdout",
          "text": [
            "wine:   \t43.52%\n",
            "of:   \t38.43%\n",
            ",:   \t7.87%\n",
            "[UNK]:   \t3.33%\n",
            "crush:   \t1.52%\n",
            "--------\n",
            "\n"
          ]
        },
        {
          "output_type": "display_data",
          "data": {
            "text/plain": [
              "<IPython.core.display.HTML object>"
            ],
            "text/html": [
              "<span style=\"background-color:rgba(135,206,250,0.07442321);\">wine</span> <span style=\"background-color:rgba(135,206,250,0.06745987);\">review</span> <span style=\"background-color:rgba(135,206,250,0.09097935);\">:</span> <span style=\"background-color:rgba(135,206,250,0.39541912);\">germany</span> <span style=\"background-color:rgba(135,206,250,0.064914875);\">:</span> <span style=\"background-color:rgba(135,206,250,0.22255619);\">mosel</span> <span style=\"background-color:rgba(135,206,250,0.08845346);\">:</span> <span style=\"background-color:rgba(135,206,250,0.38138074);\">riesling</span> <span style=\"background-color:rgba(135,206,250,0.09298935);\">:</span> <span style=\"background-color:rgba(135,206,250,0.055694595);\">a</span> <span style=\"background-color:rgba(135,206,250,0.0409526);\">touch</span> <span style=\"background-color:rgba(135,206,250,0.023108395);\">of</span> <span style=\"background-color:rgba(135,206,250,0.07720813);\">spice</span> <span style=\"background-color:rgba(135,206,250,0.06434471);\">lends</span> <span style=\"background-color:rgba(135,206,250,0.047750704);\">complexity</span> <span style=\"background-color:rgba(135,206,250,0.019807931);\">to</span> <span style=\"background-color:rgba(135,206,250,0.040761374);\">this</span> <span style=\"background-color:rgba(135,206,250,0.059031006);\">intensely</span> <span style=\"background-color:rgba(135,206,250,0.09958126);\">fruity</span> <span style=\"background-color:rgba(135,206,250,0.096619934);\">riesling</span> <span style=\"background-color:rgba(135,206,250,0.09645165);\">.</span> <span style=\"background-color:rgba(135,206,250,0.0456023);\">it</span> <span style=\"background-color:rgba(135,206,250,0.018107094);\">'</span> <span style=\"background-color:rgba(135,206,250,0.04381);\">s</span> <span style=\"background-color:rgba(135,206,250,0.040659647);\">a</span> <span style=\"background-color:rgba(135,206,250,0.1754844);\">spry</span> <span style=\"background-color:rgba(135,206,250,0.08100971);\">wine</span> <span style=\"background-color:rgba(135,206,250,0.061014015);\">,</span> <span style=\"background-color:rgba(135,206,250,0.09190661);\">dancing</span> <span style=\"background-color:rgba(135,206,250,0.048554793);\">in</span> <span style=\"background-color:rgba(135,206,250,0.07752115);\">the</span> <span style=\"background-color:rgba(135,206,250,0.1667351);\">mouth</span> <span style=\"background-color:rgba(135,206,250,0.10853745);\">and</span> <span style=\"background-color:rgba(135,206,250,0.32962286);\">spry</span> <span style=\"background-color:rgba(135,206,250,0.49638054);\">.</span> <span style=\"background-color:rgba(135,206,250,0.32550314);\">it</span> <span style=\"background-color:rgba(135,206,250,0.10309561);\">'</span> <span style=\"background-color:rgba(135,206,250,0.527417);\">s</span> <span style=\"background-color:rgba(135,206,250,0.7008415);\">a</span> <span style=\"background-color:rgba(135,206,250,1.0);\">[UNK]</span> <span style=\"background-color:rgba(135,206,250,0.403612);\">of</span>"
            ]
          },
          "metadata": {}
        },
        {
          "output_type": "stream",
          "name": "stdout",
          "text": [
            "lime:   \t35.16%\n",
            "lemon:   \t24.8%\n",
            "[UNK]:   \t7.98%\n",
            "tangerine:   \t7.01%\n",
            "fresh:   \t4.07%\n",
            "--------\n",
            "\n"
          ]
        },
        {
          "output_type": "display_data",
          "data": {
            "text/plain": [
              "<IPython.core.display.HTML object>"
            ],
            "text/html": [
              "<span style=\"background-color:rgba(135,206,250,0.06014354);\">wine</span> <span style=\"background-color:rgba(135,206,250,0.060166106);\">review</span> <span style=\"background-color:rgba(135,206,250,0.08105957);\">:</span> <span style=\"background-color:rgba(135,206,250,0.4049206);\">germany</span> <span style=\"background-color:rgba(135,206,250,0.048581585);\">:</span> <span style=\"background-color:rgba(135,206,250,0.12882511);\">mosel</span> <span style=\"background-color:rgba(135,206,250,0.07025357);\">:</span> <span style=\"background-color:rgba(135,206,250,0.35486448);\">riesling</span> <span style=\"background-color:rgba(135,206,250,0.072278276);\">:</span> <span style=\"background-color:rgba(135,206,250,0.04399198);\">a</span> <span style=\"background-color:rgba(135,206,250,0.03585797);\">touch</span> <span style=\"background-color:rgba(135,206,250,0.024686897);\">of</span> <span style=\"background-color:rgba(135,206,250,0.07336312);\">spice</span> <span style=\"background-color:rgba(135,206,250,0.052710406);\">lends</span> <span style=\"background-color:rgba(135,206,250,0.048321724);\">complexity</span> <span style=\"background-color:rgba(135,206,250,0.029251413);\">to</span> <span style=\"background-color:rgba(135,206,250,0.036654525);\">this</span> <span style=\"background-color:rgba(135,206,250,0.040773652);\">intensely</span> <span style=\"background-color:rgba(135,206,250,0.06904029);\">fruity</span> <span style=\"background-color:rgba(135,206,250,0.11179816);\">riesling</span> <span style=\"background-color:rgba(135,206,250,0.11417043);\">.</span> <span style=\"background-color:rgba(135,206,250,0.046410255);\">it</span> <span style=\"background-color:rgba(135,206,250,0.015253712);\">'</span> <span style=\"background-color:rgba(135,206,250,0.052537497);\">s</span> <span style=\"background-color:rgba(135,206,250,0.03332098);\">a</span> <span style=\"background-color:rgba(135,206,250,0.10894197);\">spry</span> <span style=\"background-color:rgba(135,206,250,0.10690775);\">wine</span> <span style=\"background-color:rgba(135,206,250,0.050811626);\">,</span> <span style=\"background-color:rgba(135,206,250,0.039154533);\">dancing</span> <span style=\"background-color:rgba(135,206,250,0.041740987);\">in</span> <span style=\"background-color:rgba(135,206,250,0.04068999);\">the</span> <span style=\"background-color:rgba(135,206,250,0.20589344);\">mouth</span> <span style=\"background-color:rgba(135,206,250,0.08369839);\">and</span> <span style=\"background-color:rgba(135,206,250,0.13626355);\">spry</span> <span style=\"background-color:rgba(135,206,250,0.40065962);\">.</span> <span style=\"background-color:rgba(135,206,250,0.29103944);\">it</span> <span style=\"background-color:rgba(135,206,250,0.056551803);\">'</span> <span style=\"background-color:rgba(135,206,250,0.5447931);\">s</span> <span style=\"background-color:rgba(135,206,250,0.5261329);\">a</span> <span style=\"background-color:rgba(135,206,250,0.6343993);\">[UNK]</span> <span style=\"background-color:rgba(135,206,250,1.0);\">of</span> <span style=\"background-color:rgba(135,206,250,0.30899346);\">juicy</span>"
            ]
          },
          "metadata": {}
        },
        {
          "output_type": "stream",
          "name": "stdout",
          "text": [
            ",:   \t71.59%\n",
            "tangerine:   \t19.44%\n",
            "acidity:   \t1.88%\n",
            "white:   \t1.73%\n",
            "orange:   \t0.87%\n",
            "--------\n",
            "\n"
          ]
        },
        {
          "output_type": "display_data",
          "data": {
            "text/plain": [
              "<IPython.core.display.HTML object>"
            ],
            "text/html": [
              "<span style=\"background-color:rgba(135,206,250,0.0401609);\">wine</span> <span style=\"background-color:rgba(135,206,250,0.053372446);\">review</span> <span style=\"background-color:rgba(135,206,250,0.07248622);\">:</span> <span style=\"background-color:rgba(135,206,250,0.25692186);\">germany</span> <span style=\"background-color:rgba(135,206,250,0.04436499);\">:</span> <span style=\"background-color:rgba(135,206,250,0.109068215);\">mosel</span> <span style=\"background-color:rgba(135,206,250,0.04413958);\">:</span> <span style=\"background-color:rgba(135,206,250,0.17246298);\">riesling</span> <span style=\"background-color:rgba(135,206,250,0.06458713);\">:</span> <span style=\"background-color:rgba(135,206,250,0.021130007);\">a</span> <span style=\"background-color:rgba(135,206,250,0.028840812);\">touch</span> <span style=\"background-color:rgba(135,206,250,0.023735238);\">of</span> <span style=\"background-color:rgba(135,206,250,0.028465223);\">spice</span> <span style=\"background-color:rgba(135,206,250,0.06552488);\">lends</span> <span style=\"background-color:rgba(135,206,250,0.02869657);\">complexity</span> <span style=\"background-color:rgba(135,206,250,0.01953564);\">to</span> <span style=\"background-color:rgba(135,206,250,0.050957084);\">this</span> <span style=\"background-color:rgba(135,206,250,0.03076176);\">intensely</span> <span style=\"background-color:rgba(135,206,250,0.05156419);\">fruity</span> <span style=\"background-color:rgba(135,206,250,0.049363486);\">riesling</span> <span style=\"background-color:rgba(135,206,250,0.10416894);\">.</span> <span style=\"background-color:rgba(135,206,250,0.0703176);\">it</span> <span style=\"background-color:rgba(135,206,250,0.008222013);\">'</span> <span style=\"background-color:rgba(135,206,250,0.06482995);\">s</span> <span style=\"background-color:rgba(135,206,250,0.019418718);\">a</span> <span style=\"background-color:rgba(135,206,250,0.096702285);\">spry</span> <span style=\"background-color:rgba(135,206,250,0.0646806);\">wine</span> <span style=\"background-color:rgba(135,206,250,0.030842926);\">,</span> <span style=\"background-color:rgba(135,206,250,0.083026856);\">dancing</span> <span style=\"background-color:rgba(135,206,250,0.04925667);\">in</span> <span style=\"background-color:rgba(135,206,250,0.035010614);\">the</span> <span style=\"background-color:rgba(135,206,250,0.100307874);\">mouth</span> <span style=\"background-color:rgba(135,206,250,0.08150036);\">and</span> <span style=\"background-color:rgba(135,206,250,0.15985373);\">spry</span> <span style=\"background-color:rgba(135,206,250,0.37580374);\">.</span> <span style=\"background-color:rgba(135,206,250,0.20264962);\">it</span> <span style=\"background-color:rgba(135,206,250,0.026287017);\">'</span> <span style=\"background-color:rgba(135,206,250,0.35227197);\">s</span> <span style=\"background-color:rgba(135,206,250,0.23796466);\">a</span> <span style=\"background-color:rgba(135,206,250,0.36069062);\">[UNK]</span> <span style=\"background-color:rgba(135,206,250,0.5176205);\">of</span> <span style=\"background-color:rgba(135,206,250,1.0);\">juicy</span> <span style=\"background-color:rgba(135,206,250,0.44725198);\">,</span>"
            ]
          },
          "metadata": {}
        },
        {
          "output_type": "stream",
          "name": "stdout",
          "text": [
            "fruity:   \t39.59%\n",
            "fresh:   \t22.63%\n",
            "ripe:   \t14.9%\n",
            "forward:   \t4.62%\n",
            "sweet:   \t4.12%\n",
            "--------\n",
            "\n"
          ]
        },
        {
          "output_type": "display_data",
          "data": {
            "text/plain": [
              "<IPython.core.display.HTML object>"
            ],
            "text/html": [
              "<span style=\"background-color:rgba(135,206,250,0.09974566);\">wine</span> <span style=\"background-color:rgba(135,206,250,0.09390068);\">review</span> <span style=\"background-color:rgba(135,206,250,0.14273891);\">:</span> <span style=\"background-color:rgba(135,206,250,0.43918154);\">germany</span> <span style=\"background-color:rgba(135,206,250,0.0917847);\">:</span> <span style=\"background-color:rgba(135,206,250,0.18661597);\">mosel</span> <span style=\"background-color:rgba(135,206,250,0.11779073);\">:</span> <span style=\"background-color:rgba(135,206,250,0.46388862);\">riesling</span> <span style=\"background-color:rgba(135,206,250,0.11452774);\">:</span> <span style=\"background-color:rgba(135,206,250,0.0457328);\">a</span> <span style=\"background-color:rgba(135,206,250,0.04851763);\">touch</span> <span style=\"background-color:rgba(135,206,250,0.036592368);\">of</span> <span style=\"background-color:rgba(135,206,250,0.063118756);\">spice</span> <span style=\"background-color:rgba(135,206,250,0.0573287);\">lends</span> <span style=\"background-color:rgba(135,206,250,0.05447932);\">complexity</span> <span style=\"background-color:rgba(135,206,250,0.040060673);\">to</span> <span style=\"background-color:rgba(135,206,250,0.04302741);\">this</span> <span style=\"background-color:rgba(135,206,250,0.036536735);\">intensely</span> <span style=\"background-color:rgba(135,206,250,0.07866997);\">fruity</span> <span style=\"background-color:rgba(135,206,250,0.11123676);\">riesling</span> <span style=\"background-color:rgba(135,206,250,0.16286466);\">.</span> <span style=\"background-color:rgba(135,206,250,0.0740878);\">it</span> <span style=\"background-color:rgba(135,206,250,0.019452397);\">'</span> <span style=\"background-color:rgba(135,206,250,0.061566472);\">s</span> <span style=\"background-color:rgba(135,206,250,0.04263148);\">a</span> <span style=\"background-color:rgba(135,206,250,0.18442143);\">spry</span> <span style=\"background-color:rgba(135,206,250,0.17522767);\">wine</span> <span style=\"background-color:rgba(135,206,250,0.0710845);\">,</span> <span style=\"background-color:rgba(135,206,250,0.06495153);\">dancing</span> <span style=\"background-color:rgba(135,206,250,0.08020354);\">in</span> <span style=\"background-color:rgba(135,206,250,0.08529162);\">the</span> <span style=\"background-color:rgba(135,206,250,0.23261636);\">mouth</span> <span style=\"background-color:rgba(135,206,250,0.11380923);\">and</span> <span style=\"background-color:rgba(135,206,250,0.24923989);\">spry</span> <span style=\"background-color:rgba(135,206,250,0.65925646);\">.</span> <span style=\"background-color:rgba(135,206,250,0.39168096);\">it</span> <span style=\"background-color:rgba(135,206,250,0.10319319);\">'</span> <span style=\"background-color:rgba(135,206,250,0.48968974);\">s</span> <span style=\"background-color:rgba(135,206,250,0.69594455);\">a</span> <span style=\"background-color:rgba(135,206,250,0.60422784);\">[UNK]</span> <span style=\"background-color:rgba(135,206,250,0.87453145);\">of</span> <span style=\"background-color:rgba(135,206,250,0.34287897);\">juicy</span> <span style=\"background-color:rgba(135,206,250,1.0);\">,</span> <span style=\"background-color:rgba(135,206,250,0.48847157);\">forward</span>"
            ]
          },
          "metadata": {}
        },
        {
          "output_type": "stream",
          "name": "stdout",
          "text": [
            ",:   \t59.4%\n",
            "and:   \t38.63%\n",
            "with:   \t0.9%\n",
            "fruit:   \t0.46%\n",
            "tangerine:   \t0.11%\n",
            "--------\n",
            "\n"
          ]
        },
        {
          "output_type": "display_data",
          "data": {
            "text/plain": [
              "<IPython.core.display.HTML object>"
            ],
            "text/html": [
              "<span style=\"background-color:rgba(135,206,250,0.035261527);\">wine</span> <span style=\"background-color:rgba(135,206,250,0.047097005);\">review</span> <span style=\"background-color:rgba(135,206,250,0.06500174);\">:</span> <span style=\"background-color:rgba(135,206,250,0.23369333);\">germany</span> <span style=\"background-color:rgba(135,206,250,0.039947156);\">:</span> <span style=\"background-color:rgba(135,206,250,0.09589126);\">mosel</span> <span style=\"background-color:rgba(135,206,250,0.039163675);\">:</span> <span style=\"background-color:rgba(135,206,250,0.159884);\">riesling</span> <span style=\"background-color:rgba(135,206,250,0.058390733);\">:</span> <span style=\"background-color:rgba(135,206,250,0.01891835);\">a</span> <span style=\"background-color:rgba(135,206,250,0.025855035);\">touch</span> <span style=\"background-color:rgba(135,206,250,0.020675387);\">of</span> <span style=\"background-color:rgba(135,206,250,0.024740553);\">spice</span> <span style=\"background-color:rgba(135,206,250,0.06078104);\">lends</span> <span style=\"background-color:rgba(135,206,250,0.025850896);\">complexity</span> <span style=\"background-color:rgba(135,206,250,0.017018627);\">to</span> <span style=\"background-color:rgba(135,206,250,0.046075244);\">this</span> <span style=\"background-color:rgba(135,206,250,0.026201976);\">intensely</span> <span style=\"background-color:rgba(135,206,250,0.044714227);\">fruity</span> <span style=\"background-color:rgba(135,206,250,0.044664446);\">riesling</span> <span style=\"background-color:rgba(135,206,250,0.09288606);\">.</span> <span style=\"background-color:rgba(135,206,250,0.06412434);\">it</span> <span style=\"background-color:rgba(135,206,250,0.0067752046);\">'</span> <span style=\"background-color:rgba(135,206,250,0.05670975);\">s</span> <span style=\"background-color:rgba(135,206,250,0.016865414);\">a</span> <span style=\"background-color:rgba(135,206,250,0.08213364);\">spry</span> <span style=\"background-color:rgba(135,206,250,0.056755386);\">wine</span> <span style=\"background-color:rgba(135,206,250,0.026549527);\">,</span> <span style=\"background-color:rgba(135,206,250,0.07222451);\">dancing</span> <span style=\"background-color:rgba(135,206,250,0.040692285);\">in</span> <span style=\"background-color:rgba(135,206,250,0.028667232);\">the</span> <span style=\"background-color:rgba(135,206,250,0.08100462);\">mouth</span> <span style=\"background-color:rgba(135,206,250,0.05791462);\">and</span> <span style=\"background-color:rgba(135,206,250,0.13056377);\">spry</span> <span style=\"background-color:rgba(135,206,250,0.27312317);\">.</span> <span style=\"background-color:rgba(135,206,250,0.15724485);\">it</span> <span style=\"background-color:rgba(135,206,250,0.01865238);\">'</span> <span style=\"background-color:rgba(135,206,250,0.22162008);\">s</span> <span style=\"background-color:rgba(135,206,250,0.1290074);\">a</span> <span style=\"background-color:rgba(135,206,250,0.20500514);\">[UNK]</span> <span style=\"background-color:rgba(135,206,250,0.27778608);\">of</span> <span style=\"background-color:rgba(135,206,250,0.5312168);\">juicy</span> <span style=\"background-color:rgba(135,206,250,0.2401775);\">,</span> <span style=\"background-color:rgba(135,206,250,1.0);\">forward</span> <span style=\"background-color:rgba(135,206,250,0.43006682);\">,</span>"
            ]
          },
          "metadata": {}
        },
        {
          "output_type": "stream",
          "name": "stdout",
          "text": [
            "fruity:   \t88.95%\n",
            "ripe:   \t3.91%\n",
            "juicy:   \t2.09%\n",
            "fresh:   \t1.1%\n",
            "quaffable:   \t0.97%\n",
            "--------\n",
            "\n"
          ]
        },
        {
          "output_type": "display_data",
          "data": {
            "text/plain": [
              "<IPython.core.display.HTML object>"
            ],
            "text/html": [
              "<span style=\"background-color:rgba(135,206,250,0.064174466);\">wine</span> <span style=\"background-color:rgba(135,206,250,0.06638569);\">review</span> <span style=\"background-color:rgba(135,206,250,0.11310006);\">:</span> <span style=\"background-color:rgba(135,206,250,0.36099133);\">germany</span> <span style=\"background-color:rgba(135,206,250,0.08515115);\">:</span> <span style=\"background-color:rgba(135,206,250,0.14270659);\">mosel</span> <span style=\"background-color:rgba(135,206,250,0.07943138);\">:</span> <span style=\"background-color:rgba(135,206,250,0.30603966);\">riesling</span> <span style=\"background-color:rgba(135,206,250,0.087886415);\">:</span> <span style=\"background-color:rgba(135,206,250,0.039623305);\">a</span> <span style=\"background-color:rgba(135,206,250,0.039415486);\">touch</span> <span style=\"background-color:rgba(135,206,250,0.03394024);\">of</span> <span style=\"background-color:rgba(135,206,250,0.0463876);\">spice</span> <span style=\"background-color:rgba(135,206,250,0.046738055);\">lends</span> <span style=\"background-color:rgba(135,206,250,0.05529974);\">complexity</span> <span style=\"background-color:rgba(135,206,250,0.03423466);\">to</span> <span style=\"background-color:rgba(135,206,250,0.03766562);\">this</span> <span style=\"background-color:rgba(135,206,250,0.034245595);\">intensely</span> <span style=\"background-color:rgba(135,206,250,0.04982109);\">fruity</span> <span style=\"background-color:rgba(135,206,250,0.089975);\">riesling</span> <span style=\"background-color:rgba(135,206,250,0.119653605);\">.</span> <span style=\"background-color:rgba(135,206,250,0.0634864);\">it</span> <span style=\"background-color:rgba(135,206,250,0.014281294);\">'</span> <span style=\"background-color:rgba(135,206,250,0.053198434);\">s</span> <span style=\"background-color:rgba(135,206,250,0.03152476);\">a</span> <span style=\"background-color:rgba(135,206,250,0.10388538);\">spry</span> <span style=\"background-color:rgba(135,206,250,0.12123388);\">wine</span> <span style=\"background-color:rgba(135,206,250,0.053172346);\">,</span> <span style=\"background-color:rgba(135,206,250,0.04212811);\">dancing</span> <span style=\"background-color:rgba(135,206,250,0.048008375);\">in</span> <span style=\"background-color:rgba(135,206,250,0.043685332);\">the</span> <span style=\"background-color:rgba(135,206,250,0.21072435);\">mouth</span> <span style=\"background-color:rgba(135,206,250,0.0764115);\">and</span> <span style=\"background-color:rgba(135,206,250,0.14849998);\">spry</span> <span style=\"background-color:rgba(135,206,250,0.36084187);\">.</span> <span style=\"background-color:rgba(135,206,250,0.20703661);\">it</span> <span style=\"background-color:rgba(135,206,250,0.06440475);\">'</span> <span style=\"background-color:rgba(135,206,250,0.28657576);\">s</span> <span style=\"background-color:rgba(135,206,250,0.30013663);\">a</span> <span style=\"background-color:rgba(135,206,250,0.40788388);\">[UNK]</span> <span style=\"background-color:rgba(135,206,250,0.61445445);\">of</span> <span style=\"background-color:rgba(135,206,250,0.23270117);\">juicy</span> <span style=\"background-color:rgba(135,206,250,0.5717599);\">,</span> <span style=\"background-color:rgba(135,206,250,0.471947);\">forward</span> <span style=\"background-color:rgba(135,206,250,1.0);\">,</span> <span style=\"background-color:rgba(135,206,250,0.4311096);\">fruity</span>"
            ]
          },
          "metadata": {}
        },
        {
          "output_type": "stream",
          "name": "stdout",
          "text": [
            "and:   \t98.09%\n",
            ",:   \t0.84%\n",
            "wine:   \t0.35%\n",
            "riesling:   \t0.18%\n",
            "with:   \t0.11%\n",
            "--------\n",
            "\n"
          ]
        },
        {
          "output_type": "display_data",
          "data": {
            "text/plain": [
              "<IPython.core.display.HTML object>"
            ],
            "text/html": [
              "<span style=\"background-color:rgba(135,206,250,0.033292424);\">wine</span> <span style=\"background-color:rgba(135,206,250,0.03627925);\">review</span> <span style=\"background-color:rgba(135,206,250,0.051023122);\">:</span> <span style=\"background-color:rgba(135,206,250,0.22453032);\">germany</span> <span style=\"background-color:rgba(135,206,250,0.04244547);\">:</span> <span style=\"background-color:rgba(135,206,250,0.12613462);\">mosel</span> <span style=\"background-color:rgba(135,206,250,0.03948915);\">:</span> <span style=\"background-color:rgba(135,206,250,0.18341777);\">riesling</span> <span style=\"background-color:rgba(135,206,250,0.04883704);\">:</span> <span style=\"background-color:rgba(135,206,250,0.02021764);\">a</span> <span style=\"background-color:rgba(135,206,250,0.02172978);\">touch</span> <span style=\"background-color:rgba(135,206,250,0.012467599);\">of</span> <span style=\"background-color:rgba(135,206,250,0.028738087);\">spice</span> <span style=\"background-color:rgba(135,206,250,0.035304904);\">lends</span> <span style=\"background-color:rgba(135,206,250,0.024908457);\">complexity</span> <span style=\"background-color:rgba(135,206,250,0.009457573);\">to</span> <span style=\"background-color:rgba(135,206,250,0.019616568);\">this</span> <span style=\"background-color:rgba(135,206,250,0.030944765);\">intensely</span> <span style=\"background-color:rgba(135,206,250,0.04572927);\">fruity</span> <span style=\"background-color:rgba(135,206,250,0.04432435);\">riesling</span> <span style=\"background-color:rgba(135,206,250,0.05264838);\">.</span> <span style=\"background-color:rgba(135,206,250,0.021073496);\">it</span> <span style=\"background-color:rgba(135,206,250,0.0070023057);\">'</span> <span style=\"background-color:rgba(135,206,250,0.024951592);\">s</span> <span style=\"background-color:rgba(135,206,250,0.0154512);\">a</span> <span style=\"background-color:rgba(135,206,250,0.085357465);\">spry</span> <span style=\"background-color:rgba(135,206,250,0.031544793);\">wine</span> <span style=\"background-color:rgba(135,206,250,0.022214632);\">,</span> <span style=\"background-color:rgba(135,206,250,0.042631846);\">dancing</span> <span style=\"background-color:rgba(135,206,250,0.016322738);\">in</span> <span style=\"background-color:rgba(135,206,250,0.015231941);\">the</span> <span style=\"background-color:rgba(135,206,250,0.048371427);\">mouth</span> <span style=\"background-color:rgba(135,206,250,0.023173364);\">and</span> <span style=\"background-color:rgba(135,206,250,0.11498004);\">spry</span> <span style=\"background-color:rgba(135,206,250,0.08485439);\">.</span> <span style=\"background-color:rgba(135,206,250,0.035018142);\">it</span> <span style=\"background-color:rgba(135,206,250,0.01270089);\">'</span> <span style=\"background-color:rgba(135,206,250,0.051916867);\">s</span> <span style=\"background-color:rgba(135,206,250,0.03300552);\">a</span> <span style=\"background-color:rgba(135,206,250,0.06030154);\">[UNK]</span> <span style=\"background-color:rgba(135,206,250,0.05933503);\">of</span> <span style=\"background-color:rgba(135,206,250,0.1371271);\">juicy</span> <span style=\"background-color:rgba(135,206,250,0.22054937);\">,</span> <span style=\"background-color:rgba(135,206,250,0.31852603);\">forward</span> <span style=\"background-color:rgba(135,206,250,0.49399137);\">,</span> <span style=\"background-color:rgba(135,206,250,1.0);\">fruity</span> <span style=\"background-color:rgba(135,206,250,0.21648394);\">and</span>"
            ]
          },
          "metadata": {}
        },
        {
          "output_type": "stream",
          "name": "stdout",
          "text": [
            "forward:   \t40.22%\n",
            "sweet:   \t20.64%\n",
            "juicy:   \t8.42%\n",
            "fresh:   \t7.95%\n",
            "fruity:   \t4.43%\n",
            "--------\n",
            "\n"
          ]
        },
        {
          "output_type": "display_data",
          "data": {
            "text/plain": [
              "<IPython.core.display.HTML object>"
            ],
            "text/html": [
              "<span style=\"background-color:rgba(135,206,250,0.06048055);\">wine</span> <span style=\"background-color:rgba(135,206,250,0.06930328);\">review</span> <span style=\"background-color:rgba(135,206,250,0.100881025);\">:</span> <span style=\"background-color:rgba(135,206,250,0.3756292);\">germany</span> <span style=\"background-color:rgba(135,206,250,0.07323323);\">:</span> <span style=\"background-color:rgba(135,206,250,0.16351683);\">mosel</span> <span style=\"background-color:rgba(135,206,250,0.077350505);\">:</span> <span style=\"background-color:rgba(135,206,250,0.27496928);\">riesling</span> <span style=\"background-color:rgba(135,206,250,0.086223334);\">:</span> <span style=\"background-color:rgba(135,206,250,0.045342162);\">a</span> <span style=\"background-color:rgba(135,206,250,0.048913084);\">touch</span> <span style=\"background-color:rgba(135,206,250,0.030415513);\">of</span> <span style=\"background-color:rgba(135,206,250,0.056681283);\">spice</span> <span style=\"background-color:rgba(135,206,250,0.05570416);\">lends</span> <span style=\"background-color:rgba(135,206,250,0.06263011);\">complexity</span> <span style=\"background-color:rgba(135,206,250,0.03511849);\">to</span> <span style=\"background-color:rgba(135,206,250,0.0335405);\">this</span> <span style=\"background-color:rgba(135,206,250,0.03593184);\">intensely</span> <span style=\"background-color:rgba(135,206,250,0.05337924);\">fruity</span> <span style=\"background-color:rgba(135,206,250,0.0910602);\">riesling</span> <span style=\"background-color:rgba(135,206,250,0.105858944);\">.</span> <span style=\"background-color:rgba(135,206,250,0.04860751);\">it</span> <span style=\"background-color:rgba(135,206,250,0.016727205);\">'</span> <span style=\"background-color:rgba(135,206,250,0.041546877);\">s</span> <span style=\"background-color:rgba(135,206,250,0.030180385);\">a</span> <span style=\"background-color:rgba(135,206,250,0.09421104);\">spry</span> <span style=\"background-color:rgba(135,206,250,0.0913259);\">wine</span> <span style=\"background-color:rgba(135,206,250,0.049272623);\">,</span> <span style=\"background-color:rgba(135,206,250,0.04015609);\">dancing</span> <span style=\"background-color:rgba(135,206,250,0.040470112);\">in</span> <span style=\"background-color:rgba(135,206,250,0.03767631);\">the</span> <span style=\"background-color:rgba(135,206,250,0.16934818);\">mouth</span> <span style=\"background-color:rgba(135,206,250,0.052691814);\">and</span> <span style=\"background-color:rgba(135,206,250,0.12652054);\">spry</span> <span style=\"background-color:rgba(135,206,250,0.22849871);\">.</span> <span style=\"background-color:rgba(135,206,250,0.12995741);\">it</span> <span style=\"background-color:rgba(135,206,250,0.04368133);\">'</span> <span style=\"background-color:rgba(135,206,250,0.15299846);\">s</span> <span style=\"background-color:rgba(135,206,250,0.16314963);\">a</span> <span style=\"background-color:rgba(135,206,250,0.18549299);\">[UNK]</span> <span style=\"background-color:rgba(135,206,250,0.31248873);\">of</span> <span style=\"background-color:rgba(135,206,250,0.16473341);\">juicy</span> <span style=\"background-color:rgba(135,206,250,0.41083094);\">,</span> <span style=\"background-color:rgba(135,206,250,0.3020464);\">forward</span> <span style=\"background-color:rgba(135,206,250,0.7142105);\">,</span> <span style=\"background-color:rgba(135,206,250,0.5084959);\">fruity</span> <span style=\"background-color:rgba(135,206,250,1.0);\">and</span> <span style=\"background-color:rgba(135,206,250,0.57257795);\">refreshing</span>"
            ]
          },
          "metadata": {}
        },
        {
          "output_type": "stream",
          "name": "stdout",
          "text": [
            ".:   \t61.32%\n",
            ",:   \t31.93%\n",
            "on:   \t2.77%\n",
            "with:   \t2.58%\n",
            "wine:   \t0.59%\n",
            "--------\n",
            "\n"
          ]
        },
        {
          "output_type": "display_data",
          "data": {
            "text/plain": [
              "<IPython.core.display.HTML object>"
            ],
            "text/html": [
              "<span style=\"background-color:rgba(135,206,250,0.032508563);\">wine</span> <span style=\"background-color:rgba(135,206,250,0.044528857);\">review</span> <span style=\"background-color:rgba(135,206,250,0.05870757);\">:</span> <span style=\"background-color:rgba(135,206,250,0.2616216);\">germany</span> <span style=\"background-color:rgba(135,206,250,0.03834348);\">:</span> <span style=\"background-color:rgba(135,206,250,0.11151851);\">mosel</span> <span style=\"background-color:rgba(135,206,250,0.041449387);\">:</span> <span style=\"background-color:rgba(135,206,250,0.18781438);\">riesling</span> <span style=\"background-color:rgba(135,206,250,0.05976951);\">:</span> <span style=\"background-color:rgba(135,206,250,0.0189713);\">a</span> <span style=\"background-color:rgba(135,206,250,0.027687553);\">touch</span> <span style=\"background-color:rgba(135,206,250,0.021433596);\">of</span> <span style=\"background-color:rgba(135,206,250,0.026830811);\">spice</span> <span style=\"background-color:rgba(135,206,250,0.059660237);\">lends</span> <span style=\"background-color:rgba(135,206,250,0.026354479);\">complexity</span> <span style=\"background-color:rgba(135,206,250,0.01678084);\">to</span> <span style=\"background-color:rgba(135,206,250,0.041989606);\">this</span> <span style=\"background-color:rgba(135,206,250,0.0280346);\">intensely</span> <span style=\"background-color:rgba(135,206,250,0.047444124);\">fruity</span> <span style=\"background-color:rgba(135,206,250,0.047159135);\">riesling</span> <span style=\"background-color:rgba(135,206,250,0.08608592);\">.</span> <span style=\"background-color:rgba(135,206,250,0.05832865);\">it</span> <span style=\"background-color:rgba(135,206,250,0.0068072174);\">'</span> <span style=\"background-color:rgba(135,206,250,0.056851745);\">s</span> <span style=\"background-color:rgba(135,206,250,0.014743984);\">a</span> <span style=\"background-color:rgba(135,206,250,0.08549222);\">spry</span> <span style=\"background-color:rgba(135,206,250,0.052099183);\">wine</span> <span style=\"background-color:rgba(135,206,250,0.023633039);\">,</span> <span style=\"background-color:rgba(135,206,250,0.06621078);\">dancing</span> <span style=\"background-color:rgba(135,206,250,0.0358958);\">in</span> <span style=\"background-color:rgba(135,206,250,0.02572627);\">the</span> <span style=\"background-color:rgba(135,206,250,0.06945872);\">mouth</span> <span style=\"background-color:rgba(135,206,250,0.04099268);\">and</span> <span style=\"background-color:rgba(135,206,250,0.12810959);\">spry</span> <span style=\"background-color:rgba(135,206,250,0.18893756);\">.</span> <span style=\"background-color:rgba(135,206,250,0.115236685);\">it</span> <span style=\"background-color:rgba(135,206,250,0.014572948);\">'</span> <span style=\"background-color:rgba(135,206,250,0.12837316);\">s</span> <span style=\"background-color:rgba(135,206,250,0.047066405);\">a</span> <span style=\"background-color:rgba(135,206,250,0.07206046);\">[UNK]</span> <span style=\"background-color:rgba(135,206,250,0.09262394);\">of</span> <span style=\"background-color:rgba(135,206,250,0.17464247);\">juicy</span> <span style=\"background-color:rgba(135,206,250,0.082106255);\">,</span> <span style=\"background-color:rgba(135,206,250,0.28470808);\">forward</span> <span style=\"background-color:rgba(135,206,250,0.12296722);\">,</span> <span style=\"background-color:rgba(135,206,250,0.5718253);\">fruity</span> <span style=\"background-color:rgba(135,206,250,1.0);\">and</span> <span style=\"background-color:rgba(135,206,250,0.9444328);\">refreshing</span> <span style=\"background-color:rgba(135,206,250,0.41559047);\">,</span>"
            ]
          },
          "metadata": {}
        },
        {
          "output_type": "stream",
          "name": "stdout",
          "text": [
            "with:   \t81.73%\n",
            "but:   \t10.97%\n",
            "yet:   \t3.87%\n",
            "it:   \t1.78%\n",
            "finishing:   \t0.44%\n",
            "--------\n",
            "\n"
          ]
        },
        {
          "output_type": "display_data",
          "data": {
            "text/plain": [
              "<IPython.core.display.HTML object>"
            ],
            "text/html": [
              "<span style=\"background-color:rgba(135,206,250,0.05775541);\">wine</span> <span style=\"background-color:rgba(135,206,250,0.0601565);\">review</span> <span style=\"background-color:rgba(135,206,250,0.08145786);\">:</span> <span style=\"background-color:rgba(135,206,250,0.38062248);\">germany</span> <span style=\"background-color:rgba(135,206,250,0.06362275);\">:</span> <span style=\"background-color:rgba(135,206,250,0.2091645);\">mosel</span> <span style=\"background-color:rgba(135,206,250,0.07048519);\">:</span> <span style=\"background-color:rgba(135,206,250,0.3213783);\">riesling</span> <span style=\"background-color:rgba(135,206,250,0.08080357);\">:</span> <span style=\"background-color:rgba(135,206,250,0.048019264);\">a</span> <span style=\"background-color:rgba(135,206,250,0.047694005);\">touch</span> <span style=\"background-color:rgba(135,206,250,0.025309948);\">of</span> <span style=\"background-color:rgba(135,206,250,0.08677637);\">spice</span> <span style=\"background-color:rgba(135,206,250,0.056190755);\">lends</span> <span style=\"background-color:rgba(135,206,250,0.05592704);\">complexity</span> <span style=\"background-color:rgba(135,206,250,0.02006906);\">to</span> <span style=\"background-color:rgba(135,206,250,0.03840931);\">this</span> <span style=\"background-color:rgba(135,206,250,0.06392129);\">intensely</span> <span style=\"background-color:rgba(135,206,250,0.087005235);\">fruity</span> <span style=\"background-color:rgba(135,206,250,0.0831989);\">riesling</span> <span style=\"background-color:rgba(135,206,250,0.075659655);\">.</span> <span style=\"background-color:rgba(135,206,250,0.029398516);\">it</span> <span style=\"background-color:rgba(135,206,250,0.013531209);\">'</span> <span style=\"background-color:rgba(135,206,250,0.036402073);\">s</span> <span style=\"background-color:rgba(135,206,250,0.030706294);\">a</span> <span style=\"background-color:rgba(135,206,250,0.16274305);\">spry</span> <span style=\"background-color:rgba(135,206,250,0.056738067);\">wine</span> <span style=\"background-color:rgba(135,206,250,0.042231366);\">,</span> <span style=\"background-color:rgba(135,206,250,0.06136498);\">dancing</span> <span style=\"background-color:rgba(135,206,250,0.022893742);\">in</span> <span style=\"background-color:rgba(135,206,250,0.026537448);\">the</span> <span style=\"background-color:rgba(135,206,250,0.09313028);\">mouth</span> <span style=\"background-color:rgba(135,206,250,0.046661396);\">and</span> <span style=\"background-color:rgba(135,206,250,0.20552798);\">spry</span> <span style=\"background-color:rgba(135,206,250,0.1289575);\">.</span> <span style=\"background-color:rgba(135,206,250,0.051757414);\">it</span> <span style=\"background-color:rgba(135,206,250,0.022156358);\">'</span> <span style=\"background-color:rgba(135,206,250,0.069857925);\">s</span> <span style=\"background-color:rgba(135,206,250,0.06326631);\">a</span> <span style=\"background-color:rgba(135,206,250,0.097158395);\">[UNK]</span> <span style=\"background-color:rgba(135,206,250,0.058413856);\">of</span> <span style=\"background-color:rgba(135,206,250,0.19379595);\">juicy</span> <span style=\"background-color:rgba(135,206,250,0.19696102);\">,</span> <span style=\"background-color:rgba(135,206,250,0.27210137);\">forward</span> <span style=\"background-color:rgba(135,206,250,0.31595883);\">,</span> <span style=\"background-color:rgba(135,206,250,0.52085936);\">fruity</span> <span style=\"background-color:rgba(135,206,250,0.53313714);\">and</span> <span style=\"background-color:rgba(135,206,250,0.92207605);\">refreshing</span> <span style=\"background-color:rgba(135,206,250,1.0);\">,</span> <span style=\"background-color:rgba(135,206,250,0.70425206);\">with</span>"
            ]
          },
          "metadata": {}
        },
        {
          "output_type": "stream",
          "name": "stdout",
          "text": [
            "a:   \t95.68%\n",
            "just:   \t2.33%\n",
            "an:   \t0.72%\n",
            "flavors:   \t0.37%\n",
            "loads:   \t0.25%\n",
            "--------\n",
            "\n"
          ]
        },
        {
          "output_type": "display_data",
          "data": {
            "text/plain": [
              "<IPython.core.display.HTML object>"
            ],
            "text/html": [
              "<span style=\"background-color:rgba(135,206,250,0.029992117);\">wine</span> <span style=\"background-color:rgba(135,206,250,0.030435547);\">review</span> <span style=\"background-color:rgba(135,206,250,0.037905037);\">:</span> <span style=\"background-color:rgba(135,206,250,0.20323603);\">germany</span> <span style=\"background-color:rgba(135,206,250,0.029835539);\">:</span> <span style=\"background-color:rgba(135,206,250,0.1478697);\">mosel</span> <span style=\"background-color:rgba(135,206,250,0.032078072);\">:</span> <span style=\"background-color:rgba(135,206,250,0.15039988);\">riesling</span> <span style=\"background-color:rgba(135,206,250,0.038253836);\">:</span> <span style=\"background-color:rgba(135,206,250,0.012229685);\">a</span> <span style=\"background-color:rgba(135,206,250,0.02439874);\">touch</span> <span style=\"background-color:rgba(135,206,250,0.013265922);\">of</span> <span style=\"background-color:rgba(135,206,250,0.026098622);\">spice</span> <span style=\"background-color:rgba(135,206,250,0.033405397);\">lends</span> <span style=\"background-color:rgba(135,206,250,0.02418169);\">complexity</span> <span style=\"background-color:rgba(135,206,250,0.0075644134);\">to</span> <span style=\"background-color:rgba(135,206,250,0.0161226);\">this</span> <span style=\"background-color:rgba(135,206,250,0.032008164);\">intensely</span> <span style=\"background-color:rgba(135,206,250,0.039983165);\">fruity</span> <span style=\"background-color:rgba(135,206,250,0.034241714);\">riesling</span> <span style=\"background-color:rgba(135,206,250,0.039157167);\">.</span> <span style=\"background-color:rgba(135,206,250,0.01289742);\">it</span> <span style=\"background-color:rgba(135,206,250,0.004069929);\">'</span> <span style=\"background-color:rgba(135,206,250,0.016362866);\">s</span> <span style=\"background-color:rgba(135,206,250,0.008168231);\">a</span> <span style=\"background-color:rgba(135,206,250,0.109486304);\">spry</span> <span style=\"background-color:rgba(135,206,250,0.033613022);\">wine</span> <span style=\"background-color:rgba(135,206,250,0.017958978);\">,</span> <span style=\"background-color:rgba(135,206,250,0.035030533);\">dancing</span> <span style=\"background-color:rgba(135,206,250,0.009744089);\">in</span> <span style=\"background-color:rgba(135,206,250,0.009569771);\">the</span> <span style=\"background-color:rgba(135,206,250,0.055175584);\">mouth</span> <span style=\"background-color:rgba(135,206,250,0.015971396);\">and</span> <span style=\"background-color:rgba(135,206,250,0.14513887);\">spry</span> <span style=\"background-color:rgba(135,206,250,0.056901067);\">.</span> <span style=\"background-color:rgba(135,206,250,0.020528316);\">it</span> <span style=\"background-color:rgba(135,206,250,0.007292797);\">'</span> <span style=\"background-color:rgba(135,206,250,0.027844794);\">s</span> <span style=\"background-color:rgba(135,206,250,0.013387894);\">a</span> <span style=\"background-color:rgba(135,206,250,0.034731403);\">[UNK]</span> <span style=\"background-color:rgba(135,206,250,0.032198805);\">of</span> <span style=\"background-color:rgba(135,206,250,0.07010804);\">juicy</span> <span style=\"background-color:rgba(135,206,250,0.06532516);\">,</span> <span style=\"background-color:rgba(135,206,250,0.09892349);\">forward</span> <span style=\"background-color:rgba(135,206,250,0.09947304);\">,</span> <span style=\"background-color:rgba(135,206,250,0.1527159);\">fruity</span> <span style=\"background-color:rgba(135,206,250,0.15759307);\">and</span> <span style=\"background-color:rgba(135,206,250,0.3056319);\">refreshing</span> <span style=\"background-color:rgba(135,206,250,0.37645444);\">,</span> <span style=\"background-color:rgba(135,206,250,1.0);\">with</span> <span style=\"background-color:rgba(135,206,250,0.16571727);\">a</span>"
            ]
          },
          "metadata": {}
        },
        {
          "output_type": "stream",
          "name": "stdout",
          "text": [
            "long:   \t23.27%\n",
            "hint:   \t18.0%\n",
            "touch:   \t17.41%\n",
            "lingering:   \t14.0%\n",
            "kiss:   \t4.21%\n",
            "--------\n",
            "\n"
          ]
        },
        {
          "output_type": "display_data",
          "data": {
            "text/plain": [
              "<IPython.core.display.HTML object>"
            ],
            "text/html": [
              "<span style=\"background-color:rgba(135,206,250,0.047089837);\">wine</span> <span style=\"background-color:rgba(135,206,250,0.053816658);\">review</span> <span style=\"background-color:rgba(135,206,250,0.106256925);\">:</span> <span style=\"background-color:rgba(135,206,250,0.17651446);\">germany</span> <span style=\"background-color:rgba(135,206,250,0.09842103);\">:</span> <span style=\"background-color:rgba(135,206,250,0.070242204);\">mosel</span> <span style=\"background-color:rgba(135,206,250,0.047521874);\">:</span> <span style=\"background-color:rgba(135,206,250,0.0659642);\">riesling</span> <span style=\"background-color:rgba(135,206,250,0.058873028);\">:</span> <span style=\"background-color:rgba(135,206,250,0.023187723);\">a</span> <span style=\"background-color:rgba(135,206,250,0.020991504);\">touch</span> <span style=\"background-color:rgba(135,206,250,0.026932828);\">of</span> <span style=\"background-color:rgba(135,206,250,0.015198719);\">spice</span> <span style=\"background-color:rgba(135,206,250,0.05991757);\">lends</span> <span style=\"background-color:rgba(135,206,250,0.023361666);\">complexity</span> <span style=\"background-color:rgba(135,206,250,0.020463843);\">to</span> <span style=\"background-color:rgba(135,206,250,0.028449103);\">this</span> <span style=\"background-color:rgba(135,206,250,0.017972967);\">intensely</span> <span style=\"background-color:rgba(135,206,250,0.023438595);\">fruity</span> <span style=\"background-color:rgba(135,206,250,0.03431144);\">riesling</span> <span style=\"background-color:rgba(135,206,250,0.06272781);\">.</span> <span style=\"background-color:rgba(135,206,250,0.035949714);\">it</span> <span style=\"background-color:rgba(135,206,250,0.013147791);\">'</span> <span style=\"background-color:rgba(135,206,250,0.036510345);\">s</span> <span style=\"background-color:rgba(135,206,250,0.025048768);\">a</span> <span style=\"background-color:rgba(135,206,250,0.033009406);\">spry</span> <span style=\"background-color:rgba(135,206,250,0.0373511);\">wine</span> <span style=\"background-color:rgba(135,206,250,0.037304524);\">,</span> <span style=\"background-color:rgba(135,206,250,0.036617894);\">dancing</span> <span style=\"background-color:rgba(135,206,250,0.05227061);\">in</span> <span style=\"background-color:rgba(135,206,250,0.043511227);\">the</span> <span style=\"background-color:rgba(135,206,250,0.04684047);\">mouth</span> <span style=\"background-color:rgba(135,206,250,0.04589292);\">and</span> <span style=\"background-color:rgba(135,206,250,0.050620735);\">spry</span> <span style=\"background-color:rgba(135,206,250,0.12226291);\">.</span> <span style=\"background-color:rgba(135,206,250,0.07675617);\">it</span> <span style=\"background-color:rgba(135,206,250,0.026647512);\">'</span> <span style=\"background-color:rgba(135,206,250,0.08188547);\">s</span> <span style=\"background-color:rgba(135,206,250,0.052852374);\">a</span> <span style=\"background-color:rgba(135,206,250,0.05807097);\">[UNK]</span> <span style=\"background-color:rgba(135,206,250,0.07943595);\">of</span> <span style=\"background-color:rgba(135,206,250,0.07179018);\">juicy</span> <span style=\"background-color:rgba(135,206,250,0.12165814);\">,</span> <span style=\"background-color:rgba(135,206,250,0.12558258);\">forward</span> <span style=\"background-color:rgba(135,206,250,0.15262802);\">,</span> <span style=\"background-color:rgba(135,206,250,0.18136328);\">fruity</span> <span style=\"background-color:rgba(135,206,250,0.26154202);\">and</span> <span style=\"background-color:rgba(135,206,250,0.24925584);\">refreshing</span> <span style=\"background-color:rgba(135,206,250,0.41643006);\">,</span> <span style=\"background-color:rgba(135,206,250,1.0);\">with</span> <span style=\"background-color:rgba(135,206,250,0.4692783);\">a</span> <span style=\"background-color:rgba(135,206,250,0.50279933);\">hint</span>"
            ]
          },
          "metadata": {}
        },
        {
          "output_type": "stream",
          "name": "stdout",
          "text": [
            "of:   \t100.0%\n",
            "at:   \t0.0%\n",
            "and:   \t0.0%\n",
            ",:   \t0.0%\n",
            "that:   \t0.0%\n",
            "--------\n",
            "\n"
          ]
        },
        {
          "output_type": "display_data",
          "data": {
            "text/plain": [
              "<IPython.core.display.HTML object>"
            ],
            "text/html": [
              "<span style=\"background-color:rgba(135,206,250,0.039708532);\">wine</span> <span style=\"background-color:rgba(135,206,250,0.036551658);\">review</span> <span style=\"background-color:rgba(135,206,250,0.051888525);\">:</span> <span style=\"background-color:rgba(135,206,250,0.30819362);\">germany</span> <span style=\"background-color:rgba(135,206,250,0.043244462);\">:</span> <span style=\"background-color:rgba(135,206,250,0.17988302);\">mosel</span> <span style=\"background-color:rgba(135,206,250,0.06176671);\">:</span> <span style=\"background-color:rgba(135,206,250,0.28449795);\">riesling</span> <span style=\"background-color:rgba(135,206,250,0.06158545);\">:</span> <span style=\"background-color:rgba(135,206,250,0.035925858);\">a</span> <span style=\"background-color:rgba(135,206,250,0.02675494);\">touch</span> <span style=\"background-color:rgba(135,206,250,0.014539738);\">of</span> <span style=\"background-color:rgba(135,206,250,0.05133464);\">spice</span> <span style=\"background-color:rgba(135,206,250,0.040385343);\">lends</span> <span style=\"background-color:rgba(135,206,250,0.030400604);\">complexity</span> <span style=\"background-color:rgba(135,206,250,0.011491817);\">to</span> <span style=\"background-color:rgba(135,206,250,0.0235564);\">this</span> <span style=\"background-color:rgba(135,206,250,0.037216175);\">intensely</span> <span style=\"background-color:rgba(135,206,250,0.057910416);\">fruity</span> <span style=\"background-color:rgba(135,206,250,0.06024373);\">riesling</span> <span style=\"background-color:rgba(135,206,250,0.05389415);\">.</span> <span style=\"background-color:rgba(135,206,250,0.021037113);\">it</span> <span style=\"background-color:rgba(135,206,250,0.009353933);\">'</span> <span style=\"background-color:rgba(135,206,250,0.024236593);\">s</span> <span style=\"background-color:rgba(135,206,250,0.01954697);\">a</span> <span style=\"background-color:rgba(135,206,250,0.09317065);\">spry</span> <span style=\"background-color:rgba(135,206,250,0.032272976);\">wine</span> <span style=\"background-color:rgba(135,206,250,0.026425986);\">,</span> <span style=\"background-color:rgba(135,206,250,0.033560216);\">dancing</span> <span style=\"background-color:rgba(135,206,250,0.016727267);\">in</span> <span style=\"background-color:rgba(135,206,250,0.017199695);\">the</span> <span style=\"background-color:rgba(135,206,250,0.053324822);\">mouth</span> <span style=\"background-color:rgba(135,206,250,0.029379567);\">and</span> <span style=\"background-color:rgba(135,206,250,0.12088206);\">spry</span> <span style=\"background-color:rgba(135,206,250,0.07311586);\">.</span> <span style=\"background-color:rgba(135,206,250,0.030900357);\">it</span> <span style=\"background-color:rgba(135,206,250,0.014580627);\">'</span> <span style=\"background-color:rgba(135,206,250,0.041454393);\">s</span> <span style=\"background-color:rgba(135,206,250,0.033546753);\">a</span> <span style=\"background-color:rgba(135,206,250,0.030473923);\">[UNK]</span> <span style=\"background-color:rgba(135,206,250,0.022047259);\">of</span> <span style=\"background-color:rgba(135,206,250,0.085578926);\">juicy</span> <span style=\"background-color:rgba(135,206,250,0.06472291);\">,</span> <span style=\"background-color:rgba(135,206,250,0.09716555);\">forward</span> <span style=\"background-color:rgba(135,206,250,0.09369529);\">,</span> <span style=\"background-color:rgba(135,206,250,0.18840978);\">fruity</span> <span style=\"background-color:rgba(135,206,250,0.125044);\">and</span> <span style=\"background-color:rgba(135,206,250,0.27229577);\">refreshing</span> <span style=\"background-color:rgba(135,206,250,0.25653657);\">,</span> <span style=\"background-color:rgba(135,206,250,0.53730184);\">with</span> <span style=\"background-color:rgba(135,206,250,0.46326175);\">a</span> <span style=\"background-color:rgba(135,206,250,1.0);\">hint</span> <span style=\"background-color:rgba(135,206,250,0.2739896);\">of</span>"
            ]
          },
          "metadata": {}
        },
        {
          "output_type": "stream",
          "name": "stdout",
          "text": [
            "lime:   \t37.64%\n",
            "honey:   \t12.26%\n",
            "minerality:   \t7.5%\n",
            "orange:   \t6.74%\n",
            "lemon:   \t5.59%\n",
            "--------\n",
            "\n"
          ]
        },
        {
          "output_type": "display_data",
          "data": {
            "text/plain": [
              "<IPython.core.display.HTML object>"
            ],
            "text/html": [
              "<span style=\"background-color:rgba(135,206,250,0.04808721);\">wine</span> <span style=\"background-color:rgba(135,206,250,0.052458942);\">review</span> <span style=\"background-color:rgba(135,206,250,0.11332778);\">:</span> <span style=\"background-color:rgba(135,206,250,0.33723038);\">germany</span> <span style=\"background-color:rgba(135,206,250,0.10918803);\">:</span> <span style=\"background-color:rgba(135,206,250,0.10429777);\">mosel</span> <span style=\"background-color:rgba(135,206,250,0.07176502);\">:</span> <span style=\"background-color:rgba(135,206,250,0.10097156);\">riesling</span> <span style=\"background-color:rgba(135,206,250,0.07414906);\">:</span> <span style=\"background-color:rgba(135,206,250,0.06178252);\">a</span> <span style=\"background-color:rgba(135,206,250,0.037860822);\">touch</span> <span style=\"background-color:rgba(135,206,250,0.03549811);\">of</span> <span style=\"background-color:rgba(135,206,250,0.044113945);\">spice</span> <span style=\"background-color:rgba(135,206,250,0.04609485);\">lends</span> <span style=\"background-color:rgba(135,206,250,0.048355974);\">complexity</span> <span style=\"background-color:rgba(135,206,250,0.03995252);\">to</span> <span style=\"background-color:rgba(135,206,250,0.03270218);\">this</span> <span style=\"background-color:rgba(135,206,250,0.037377585);\">intensely</span> <span style=\"background-color:rgba(135,206,250,0.044277);\">fruity</span> <span style=\"background-color:rgba(135,206,250,0.047595862);\">riesling</span> <span style=\"background-color:rgba(135,206,250,0.09572736);\">.</span> <span style=\"background-color:rgba(135,206,250,0.034871742);\">it</span> <span style=\"background-color:rgba(135,206,250,0.02019845);\">'</span> <span style=\"background-color:rgba(135,206,250,0.044181295);\">s</span> <span style=\"background-color:rgba(135,206,250,0.04913901);\">a</span> <span style=\"background-color:rgba(135,206,250,0.05431214);\">spry</span> <span style=\"background-color:rgba(135,206,250,0.04198915);\">wine</span> <span style=\"background-color:rgba(135,206,250,0.045255344);\">,</span> <span style=\"background-color:rgba(135,206,250,0.03179353);\">dancing</span> <span style=\"background-color:rgba(135,206,250,0.036879197);\">in</span> <span style=\"background-color:rgba(135,206,250,0.031712312);\">the</span> <span style=\"background-color:rgba(135,206,250,0.0749689);\">mouth</span> <span style=\"background-color:rgba(135,206,250,0.048210718);\">and</span> <span style=\"background-color:rgba(135,206,250,0.08008299);\">spry</span> <span style=\"background-color:rgba(135,206,250,0.16079934);\">.</span> <span style=\"background-color:rgba(135,206,250,0.07003194);\">it</span> <span style=\"background-color:rgba(135,206,250,0.038410105);\">'</span> <span style=\"background-color:rgba(135,206,250,0.10025457);\">s</span> <span style=\"background-color:rgba(135,206,250,0.10630328);\">a</span> <span style=\"background-color:rgba(135,206,250,0.06802032);\">[UNK]</span> <span style=\"background-color:rgba(135,206,250,0.08979632);\">of</span> <span style=\"background-color:rgba(135,206,250,0.091772325);\">juicy</span> <span style=\"background-color:rgba(135,206,250,0.12108949);\">,</span> <span style=\"background-color:rgba(135,206,250,0.11015111);\">forward</span> <span style=\"background-color:rgba(135,206,250,0.14373463);\">,</span> <span style=\"background-color:rgba(135,206,250,0.1685653);\">fruity</span> <span style=\"background-color:rgba(135,206,250,0.23647358);\">and</span> <span style=\"background-color:rgba(135,206,250,0.22398917);\">refreshing</span> <span style=\"background-color:rgba(135,206,250,0.2925492);\">,</span> <span style=\"background-color:rgba(135,206,250,0.7300102);\">with</span> <span style=\"background-color:rgba(135,206,250,0.86187875);\">a</span> <span style=\"background-color:rgba(135,206,250,1.0);\">hint</span> <span style=\"background-color:rgba(135,206,250,0.9453051);\">of</span> <span style=\"background-color:rgba(135,206,250,0.40575138);\">tangerine</span>"
            ]
          },
          "metadata": {}
        },
        {
          "output_type": "stream",
          "name": "stdout",
          "text": [
            "and:   \t86.09%\n",
            "acidity:   \t7.99%\n",
            ",:   \t2.47%\n",
            "flavor:   \t1.57%\n",
            "on:   \t0.5%\n",
            "--------\n",
            "\n"
          ]
        },
        {
          "output_type": "display_data",
          "data": {
            "text/plain": [
              "<IPython.core.display.HTML object>"
            ],
            "text/html": [
              "<span style=\"background-color:rgba(135,206,250,0.029328546);\">wine</span> <span style=\"background-color:rgba(135,206,250,0.031855974);\">review</span> <span style=\"background-color:rgba(135,206,250,0.044134893);\">:</span> <span style=\"background-color:rgba(135,206,250,0.2251056);\">germany</span> <span style=\"background-color:rgba(135,206,250,0.039410155);\">:</span> <span style=\"background-color:rgba(135,206,250,0.14507388);\">mosel</span> <span style=\"background-color:rgba(135,206,250,0.04163727);\">:</span> <span style=\"background-color:rgba(135,206,250,0.21629398);\">riesling</span> <span style=\"background-color:rgba(135,206,250,0.05054012);\">:</span> <span style=\"background-color:rgba(135,206,250,0.02124409);\">a</span> <span style=\"background-color:rgba(135,206,250,0.02375016);\">touch</span> <span style=\"background-color:rgba(135,206,250,0.012759317);\">of</span> <span style=\"background-color:rgba(135,206,250,0.029743707);\">spice</span> <span style=\"background-color:rgba(135,206,250,0.035937678);\">lends</span> <span style=\"background-color:rgba(135,206,250,0.026091399);\">complexity</span> <span style=\"background-color:rgba(135,206,250,0.009212093);\">to</span> <span style=\"background-color:rgba(135,206,250,0.017675852);\">this</span> <span style=\"background-color:rgba(135,206,250,0.029948836);\">intensely</span> <span style=\"background-color:rgba(135,206,250,0.040519625);\">fruity</span> <span style=\"background-color:rgba(135,206,250,0.046745423);\">riesling</span> <span style=\"background-color:rgba(135,206,250,0.045653995);\">.</span> <span style=\"background-color:rgba(135,206,250,0.0169043);\">it</span> <span style=\"background-color:rgba(135,206,250,0.006221825);\">'</span> <span style=\"background-color:rgba(135,206,250,0.022471232);\">s</span> <span style=\"background-color:rgba(135,206,250,0.013012779);\">a</span> <span style=\"background-color:rgba(135,206,250,0.072296426);\">spry</span> <span style=\"background-color:rgba(135,206,250,0.025919829);\">wine</span> <span style=\"background-color:rgba(135,206,250,0.019041067);\">,</span> <span style=\"background-color:rgba(135,206,250,0.034717545);\">dancing</span> <span style=\"background-color:rgba(135,206,250,0.012217916);\">in</span> <span style=\"background-color:rgba(135,206,250,0.012281329);\">the</span> <span style=\"background-color:rgba(135,206,250,0.040449362);\">mouth</span> <span style=\"background-color:rgba(135,206,250,0.019142823);\">and</span> <span style=\"background-color:rgba(135,206,250,0.095643535);\">spry</span> <span style=\"background-color:rgba(135,206,250,0.062477153);\">.</span> <span style=\"background-color:rgba(135,206,250,0.024210071);\">it</span> <span style=\"background-color:rgba(135,206,250,0.009881908);\">'</span> <span style=\"background-color:rgba(135,206,250,0.035130214);\">s</span> <span style=\"background-color:rgba(135,206,250,0.019135766);\">a</span> <span style=\"background-color:rgba(135,206,250,0.023504572);\">[UNK]</span> <span style=\"background-color:rgba(135,206,250,0.018884864);\">of</span> <span style=\"background-color:rgba(135,206,250,0.04939365);\">juicy</span> <span style=\"background-color:rgba(135,206,250,0.036122426);\">,</span> <span style=\"background-color:rgba(135,206,250,0.060701843);\">forward</span> <span style=\"background-color:rgba(135,206,250,0.046886712);\">,</span> <span style=\"background-color:rgba(135,206,250,0.09744752);\">fruity</span> <span style=\"background-color:rgba(135,206,250,0.0354692);\">and</span> <span style=\"background-color:rgba(135,206,250,0.13769987);\">refreshing</span> <span style=\"background-color:rgba(135,206,250,0.13518976);\">,</span> <span style=\"background-color:rgba(135,206,250,0.18645608);\">with</span> <span style=\"background-color:rgba(135,206,250,0.119796574);\">a</span> <span style=\"background-color:rgba(135,206,250,0.47802493);\">hint</span> <span style=\"background-color:rgba(135,206,250,0.41429853);\">of</span> <span style=\"background-color:rgba(135,206,250,1.0);\">tangerine</span> <span style=\"background-color:rgba(135,206,250,0.26592958);\">and</span>"
            ]
          },
          "metadata": {}
        },
        {
          "output_type": "stream",
          "name": "stdout",
          "text": [
            "lime:   \t82.24%\n",
            "lemon:   \t9.21%\n",
            "tangerine:   \t3.4%\n",
            "grapefruit:   \t0.87%\n",
            "honey:   \t0.76%\n",
            "--------\n",
            "\n"
          ]
        },
        {
          "output_type": "display_data",
          "data": {
            "text/plain": [
              "<IPython.core.display.HTML object>"
            ],
            "text/html": [
              "<span style=\"background-color:rgba(135,206,250,0.03978346);\">wine</span> <span style=\"background-color:rgba(135,206,250,0.046917018);\">review</span> <span style=\"background-color:rgba(135,206,250,0.09427314);\">:</span> <span style=\"background-color:rgba(135,206,250,0.31579894);\">germany</span> <span style=\"background-color:rgba(135,206,250,0.09624527);\">:</span> <span style=\"background-color:rgba(135,206,250,0.08359142);\">mosel</span> <span style=\"background-color:rgba(135,206,250,0.064036295);\">:</span> <span style=\"background-color:rgba(135,206,250,0.0739313);\">riesling</span> <span style=\"background-color:rgba(135,206,250,0.06714711);\">:</span> <span style=\"background-color:rgba(135,206,250,0.043450408);\">a</span> <span style=\"background-color:rgba(135,206,250,0.026758708);\">touch</span> <span style=\"background-color:rgba(135,206,250,0.033053584);\">of</span> <span style=\"background-color:rgba(135,206,250,0.033951502);\">spice</span> <span style=\"background-color:rgba(135,206,250,0.03318815);\">lends</span> <span style=\"background-color:rgba(135,206,250,0.033928197);\">complexity</span> <span style=\"background-color:rgba(135,206,250,0.034499574);\">to</span> <span style=\"background-color:rgba(135,206,250,0.036508057);\">this</span> <span style=\"background-color:rgba(135,206,250,0.037412874);\">intensely</span> <span style=\"background-color:rgba(135,206,250,0.046212852);\">fruity</span> <span style=\"background-color:rgba(135,206,250,0.032510795);\">riesling</span> <span style=\"background-color:rgba(135,206,250,0.08731495);\">.</span> <span style=\"background-color:rgba(135,206,250,0.032909054);\">it</span> <span style=\"background-color:rgba(135,206,250,0.014289835);\">'</span> <span style=\"background-color:rgba(135,206,250,0.041749384);\">s</span> <span style=\"background-color:rgba(135,206,250,0.038760066);\">a</span> <span style=\"background-color:rgba(135,206,250,0.067233786);\">spry</span> <span style=\"background-color:rgba(135,206,250,0.035479065);\">wine</span> <span style=\"background-color:rgba(135,206,250,0.03510165);\">,</span> <span style=\"background-color:rgba(135,206,250,0.032828815);\">dancing</span> <span style=\"background-color:rgba(135,206,250,0.031075073);\">in</span> <span style=\"background-color:rgba(135,206,250,0.024489442);\">the</span> <span style=\"background-color:rgba(135,206,250,0.06273757);\">mouth</span> <span style=\"background-color:rgba(135,206,250,0.044269823);\">and</span> <span style=\"background-color:rgba(135,206,250,0.09883286);\">spry</span> <span style=\"background-color:rgba(135,206,250,0.1379542);\">.</span> <span style=\"background-color:rgba(135,206,250,0.061003186);\">it</span> <span style=\"background-color:rgba(135,206,250,0.026922686);\">'</span> <span style=\"background-color:rgba(135,206,250,0.08230152);\">s</span> <span style=\"background-color:rgba(135,206,250,0.074509226);\">a</span> <span style=\"background-color:rgba(135,206,250,0.051122706);\">[UNK]</span> <span style=\"background-color:rgba(135,206,250,0.07658827);\">of</span> <span style=\"background-color:rgba(135,206,250,0.08930405);\">juicy</span> <span style=\"background-color:rgba(135,206,250,0.08217241);\">,</span> <span style=\"background-color:rgba(135,206,250,0.08689278);\">forward</span> <span style=\"background-color:rgba(135,206,250,0.0960962);\">,</span> <span style=\"background-color:rgba(135,206,250,0.14810687);\">fruity</span> <span style=\"background-color:rgba(135,206,250,0.14589104);\">and</span> <span style=\"background-color:rgba(135,206,250,0.20253263);\">refreshing</span> <span style=\"background-color:rgba(135,206,250,0.18420498);\">,</span> <span style=\"background-color:rgba(135,206,250,0.4647505);\">with</span> <span style=\"background-color:rgba(135,206,250,0.50154173);\">a</span> <span style=\"background-color:rgba(135,206,250,0.75798905);\">hint</span> <span style=\"background-color:rgba(135,206,250,0.5997108);\">of</span> <span style=\"background-color:rgba(135,206,250,0.2762165);\">tangerine</span> <span style=\"background-color:rgba(135,206,250,1.0);\">and</span> <span style=\"background-color:rgba(135,206,250,0.2451876);\">lime</span>"
            ]
          },
          "metadata": {}
        },
        {
          "output_type": "stream",
          "name": "stdout",
          "text": [
            "flavors:   \t37.66%\n",
            "zest:   \t27.44%\n",
            "acidity:   \t20.98%\n",
            "pith:   \t4.25%\n",
            "-:   \t4.06%\n",
            "--------\n",
            "\n"
          ]
        },
        {
          "output_type": "display_data",
          "data": {
            "text/plain": [
              "<IPython.core.display.HTML object>"
            ],
            "text/html": [
              "<span style=\"background-color:rgba(135,206,250,0.03819199);\">wine</span> <span style=\"background-color:rgba(135,206,250,0.052693117);\">review</span> <span style=\"background-color:rgba(135,206,250,0.07992326);\">:</span> <span style=\"background-color:rgba(135,206,250,0.27015653);\">germany</span> <span style=\"background-color:rgba(135,206,250,0.061476212);\">:</span> <span style=\"background-color:rgba(135,206,250,0.0795824);\">mosel</span> <span style=\"background-color:rgba(135,206,250,0.05179334);\">:</span> <span style=\"background-color:rgba(135,206,250,0.10749595);\">riesling</span> <span style=\"background-color:rgba(135,206,250,0.059199553);\">:</span> <span style=\"background-color:rgba(135,206,250,0.026567632);\">a</span> <span style=\"background-color:rgba(135,206,250,0.032438535);\">touch</span> <span style=\"background-color:rgba(135,206,250,0.019516993);\">of</span> <span style=\"background-color:rgba(135,206,250,0.023112256);\">spice</span> <span style=\"background-color:rgba(135,206,250,0.064307116);\">lends</span> <span style=\"background-color:rgba(135,206,250,0.027737036);\">complexity</span> <span style=\"background-color:rgba(135,206,250,0.018601181);\">to</span> <span style=\"background-color:rgba(135,206,250,0.03415319);\">this</span> <span style=\"background-color:rgba(135,206,250,0.02395345);\">intensely</span> <span style=\"background-color:rgba(135,206,250,0.028184209);\">fruity</span> <span style=\"background-color:rgba(135,206,250,0.04173364);\">riesling</span> <span style=\"background-color:rgba(135,206,250,0.0793303);\">.</span> <span style=\"background-color:rgba(135,206,250,0.03990147);\">it</span> <span style=\"background-color:rgba(135,206,250,0.009192358);\">'</span> <span style=\"background-color:rgba(135,206,250,0.038946122);\">s</span> <span style=\"background-color:rgba(135,206,250,0.021754937);\">a</span> <span style=\"background-color:rgba(135,206,250,0.06358864);\">spry</span> <span style=\"background-color:rgba(135,206,250,0.05762639);\">wine</span> <span style=\"background-color:rgba(135,206,250,0.030492881);\">,</span> <span style=\"background-color:rgba(135,206,250,0.042969216);\">dancing</span> <span style=\"background-color:rgba(135,206,250,0.03579988);\">in</span> <span style=\"background-color:rgba(135,206,250,0.036049165);\">the</span> <span style=\"background-color:rgba(135,206,250,0.06412538);\">mouth</span> <span style=\"background-color:rgba(135,206,250,0.044815447);\">and</span> <span style=\"background-color:rgba(135,206,250,0.09928651);\">spry</span> <span style=\"background-color:rgba(135,206,250,0.17204379);\">.</span> <span style=\"background-color:rgba(135,206,250,0.08899871);\">it</span> <span style=\"background-color:rgba(135,206,250,0.022266507);\">'</span> <span style=\"background-color:rgba(135,206,250,0.089838184);\">s</span> <span style=\"background-color:rgba(135,206,250,0.04994947);\">a</span> <span style=\"background-color:rgba(135,206,250,0.063091315);\">[UNK]</span> <span style=\"background-color:rgba(135,206,250,0.056982264);\">of</span> <span style=\"background-color:rgba(135,206,250,0.07516764);\">juicy</span> <span style=\"background-color:rgba(135,206,250,0.10240183);\">,</span> <span style=\"background-color:rgba(135,206,250,0.09117433);\">forward</span> <span style=\"background-color:rgba(135,206,250,0.12532105);\">,</span> <span style=\"background-color:rgba(135,206,250,0.11886744);\">fruity</span> <span style=\"background-color:rgba(135,206,250,0.18018688);\">and</span> <span style=\"background-color:rgba(135,206,250,0.19601598);\">refreshing</span> <span style=\"background-color:rgba(135,206,250,0.26633504);\">,</span> <span style=\"background-color:rgba(135,206,250,0.71504647);\">with</span> <span style=\"background-color:rgba(135,206,250,0.28632143);\">a</span> <span style=\"background-color:rgba(135,206,250,0.35043445);\">hint</span> <span style=\"background-color:rgba(135,206,250,0.37071714);\">of</span> <span style=\"background-color:rgba(135,206,250,0.43889877);\">tangerine</span> <span style=\"background-color:rgba(135,206,250,1.0);\">and</span> <span style=\"background-color:rgba(135,206,250,0.4974256);\">lime</span> <span style=\"background-color:rgba(135,206,250,0.59005857);\">acidity</span>"
            ]
          },
          "metadata": {}
        },
        {
          "output_type": "stream",
          "name": "stdout",
          "text": [
            ".:   \t94.66%\n",
            ",:   \t2.78%\n",
            "that:   \t2.31%\n",
            "on:   \t0.13%\n",
            "to:   \t0.08%\n",
            "--------\n",
            "\n"
          ]
        },
        {
          "output_type": "display_data",
          "data": {
            "text/plain": [
              "<IPython.core.display.HTML object>"
            ],
            "text/html": [
              "<span style=\"background-color:rgba(135,206,250,0.06300115);\">wine</span> <span style=\"background-color:rgba(135,206,250,0.076266795);\">review</span> <span style=\"background-color:rgba(135,206,250,0.35299432);\">:</span> <span style=\"background-color:rgba(135,206,250,0.60770476);\">germany</span> <span style=\"background-color:rgba(135,206,250,0.22711618);\">:</span> <span style=\"background-color:rgba(135,206,250,0.31469756);\">mosel</span> <span style=\"background-color:rgba(135,206,250,0.2578101);\">:</span> <span style=\"background-color:rgba(135,206,250,0.39705572);\">riesling</span> <span style=\"background-color:rgba(135,206,250,0.14459059);\">:</span> <span style=\"background-color:rgba(135,206,250,0.06290936);\">a</span> <span style=\"background-color:rgba(135,206,250,0.060954284);\">touch</span> <span style=\"background-color:rgba(135,206,250,0.03555176);\">of</span> <span style=\"background-color:rgba(135,206,250,0.06312282);\">spice</span> <span style=\"background-color:rgba(135,206,250,0.10080157);\">lends</span> <span style=\"background-color:rgba(135,206,250,0.06784232);\">complexity</span> <span style=\"background-color:rgba(135,206,250,0.03463777);\">to</span> <span style=\"background-color:rgba(135,206,250,0.09377692);\">this</span> <span style=\"background-color:rgba(135,206,250,0.055946153);\">intensely</span> <span style=\"background-color:rgba(135,206,250,0.07214098);\">fruity</span> <span style=\"background-color:rgba(135,206,250,0.092502974);\">riesling</span> <span style=\"background-color:rgba(135,206,250,0.111007795);\">.</span> <span style=\"background-color:rgba(135,206,250,0.053481895);\">it</span> <span style=\"background-color:rgba(135,206,250,0.01627964);\">'</span> <span style=\"background-color:rgba(135,206,250,0.05393177);\">s</span> <span style=\"background-color:rgba(135,206,250,0.04019503);\">a</span> <span style=\"background-color:rgba(135,206,250,0.17826879);\">spry</span> <span style=\"background-color:rgba(135,206,250,0.07419229);\">wine</span> <span style=\"background-color:rgba(135,206,250,0.05567827);\">,</span> <span style=\"background-color:rgba(135,206,250,0.06616517);\">dancing</span> <span style=\"background-color:rgba(135,206,250,0.037056457);\">in</span> <span style=\"background-color:rgba(135,206,250,0.037326142);\">the</span> <span style=\"background-color:rgba(135,206,250,0.14910516);\">mouth</span> <span style=\"background-color:rgba(135,206,250,0.05656595);\">and</span> <span style=\"background-color:rgba(135,206,250,0.2244844);\">spry</span> <span style=\"background-color:rgba(135,206,250,0.16052409);\">.</span> <span style=\"background-color:rgba(135,206,250,0.10787537);\">it</span> <span style=\"background-color:rgba(135,206,250,0.033824548);\">'</span> <span style=\"background-color:rgba(135,206,250,0.09734689);\">s</span> <span style=\"background-color:rgba(135,206,250,0.08001718);\">a</span> <span style=\"background-color:rgba(135,206,250,0.09323497);\">[UNK]</span> <span style=\"background-color:rgba(135,206,250,0.06218103);\">of</span> <span style=\"background-color:rgba(135,206,250,0.12087159);\">juicy</span> <span style=\"background-color:rgba(135,206,250,0.13187653);\">,</span> <span style=\"background-color:rgba(135,206,250,0.12026644);\">forward</span> <span style=\"background-color:rgba(135,206,250,0.14813426);\">,</span> <span style=\"background-color:rgba(135,206,250,0.17787813);\">fruity</span> <span style=\"background-color:rgba(135,206,250,0.163206);\">and</span> <span style=\"background-color:rgba(135,206,250,0.32505795);\">refreshing</span> <span style=\"background-color:rgba(135,206,250,0.2206193);\">,</span> <span style=\"background-color:rgba(135,206,250,0.28073382);\">with</span> <span style=\"background-color:rgba(135,206,250,0.23439507);\">a</span> <span style=\"background-color:rgba(135,206,250,0.20494607);\">hint</span> <span style=\"background-color:rgba(135,206,250,0.18579373);\">of</span> <span style=\"background-color:rgba(135,206,250,0.36229813);\">tangerine</span> <span style=\"background-color:rgba(135,206,250,0.39875036);\">and</span> <span style=\"background-color:rgba(135,206,250,0.34133995);\">lime</span> <span style=\"background-color:rgba(135,206,250,0.7135516);\">acidity</span> <span style=\"background-color:rgba(135,206,250,1.0);\">.</span>"
            ]
          },
          "metadata": {}
        },
        {
          "output_type": "stream",
          "name": "stdout",
          "text": [
            "drink:   \t39.91%\n",
            ":   \t38.37%\n",
            "it:   \t15.98%\n",
            "finishes:   \t3.79%\n",
            "enjoy:   \t0.78%\n",
            "--------\n",
            "\n"
          ]
        }
      ],
      "source": [
        "info = text_generator.generate(\n",
        "    \"wine review : germany\", max_tokens=80, temperature=0.5\n",
        ")\n",
        "print_probs(info, vocab)"
      ]
    },
    {
      "cell_type": "code",
      "execution_count": null,
      "id": "fcc7a7c0-6c64-47d3-acee-96e48f025e01",
      "metadata": {
        "id": "fcc7a7c0-6c64-47d3-acee-96e48f025e01"
      },
      "outputs": [],
      "source": []
    },
    {
      "cell_type": "code",
      "execution_count": null,
      "id": "4122154c-9e41-44ba-8c5f-fe88a55fe977",
      "metadata": {
        "id": "4122154c-9e41-44ba-8c5f-fe88a55fe977"
      },
      "outputs": [],
      "source": []
    }
  ],
  "metadata": {
    "kernelspec": {
      "display_name": "Python 3",
      "name": "python3"
    },
    "language_info": {
      "codemirror_mode": {
        "name": "ipython",
        "version": 3
      },
      "file_extension": ".py",
      "mimetype": "text/x-python",
      "name": "python",
      "nbconvert_exporter": "python",
      "pygments_lexer": "ipython3",
      "version": "3.8.10"
    },
    "vscode": {
      "interpreter": {
        "hash": "31f2aee4e71d21fbe5cf8b01ff0e069b9275f58929596ceb00d14d90e3e16cd6"
      }
    },
    "colab": {
      "provenance": [],
      "gpuType": "T4",
      "include_colab_link": true
    },
    "accelerator": "GPU"
  },
  "nbformat": 4,
  "nbformat_minor": 5
}