{
  "cells": [
    {
      "cell_type": "markdown",
      "metadata": {
        "id": "view-in-github",
        "colab_type": "text"
      },
      "source": [
        "<a href=\"https://colab.research.google.com/github/bobohope/bdc-summer-2024/blob/main/deep_learning_notebooks/lstm.ipynb\" target=\"_parent\"><img src=\"https://colab.research.google.com/assets/colab-badge.svg\" alt=\"Open In Colab\"/></a>"
      ]
    },
    {
      "cell_type": "markdown",
      "id": "b076bd1a-b236-4fbc-953d-8295b25122ae",
      "metadata": {
        "id": "b076bd1a-b236-4fbc-953d-8295b25122ae"
      },
      "source": [
        "# 🥙 LSTM on Recipe Data"
      ]
    },
    {
      "cell_type": "markdown",
      "id": "658a95da-9645-4bcf-bd9d-4b95a4b6f582",
      "metadata": {
        "id": "658a95da-9645-4bcf-bd9d-4b95a4b6f582"
      },
      "source": [
        "In this notebook, we'll walk through the steps required to train your own LSTM on the recipes dataset"
      ]
    },
    {
      "cell_type": "code",
      "execution_count": null,
      "id": "4e0d56cc-4773-4029-97d8-26f882ba79c9",
      "metadata": {
        "id": "4e0d56cc-4773-4029-97d8-26f882ba79c9"
      },
      "outputs": [],
      "source": [
        "%load_ext autoreload\n",
        "%autoreload 2\n",
        "\n",
        "import numpy as np\n",
        "import json\n",
        "import re\n",
        "import string\n",
        "\n",
        "import tensorflow as tf\n",
        "from tensorflow.keras import layers, models, callbacks, losses"
      ]
    },
    {
      "cell_type": "markdown",
      "source": [
        "mount google drive to get data"
      ],
      "metadata": {
        "id": "Q3TkZfZp-eir"
      },
      "id": "Q3TkZfZp-eir"
    },
    {
      "cell_type": "code",
      "source": [
        "from google.colab import drive\n",
        "drive.mount('/content/gdrive',force_remount=True)\n",
        "GOOGLE_DRIVE_DIR = \"/content/gdrive/My Drive/bdc_2024_summer/data/full_format_recipes.json\"\n"
      ],
      "metadata": {
        "id": "u928QNBl-dm0",
        "colab": {
          "base_uri": "https://localhost:8080/"
        },
        "outputId": "43469086-ce56-46c2-bc27-5e7e08a120cd"
      },
      "id": "u928QNBl-dm0",
      "execution_count": null,
      "outputs": [
        {
          "output_type": "stream",
          "name": "stdout",
          "text": [
            "Mounted at /content/gdrive\n"
          ]
        }
      ]
    },
    {
      "cell_type": "markdown",
      "id": "339e6268-ebd7-4feb-86db-1fe7abccdbe5",
      "metadata": {
        "id": "339e6268-ebd7-4feb-86db-1fe7abccdbe5"
      },
      "source": [
        "## 0. Parameters <a name=\"parameters\"></a>"
      ]
    },
    {
      "cell_type": "code",
      "execution_count": null,
      "id": "2d8352af-343e-4c2e-8c91-95f8bac1c8a1",
      "metadata": {
        "id": "2d8352af-343e-4c2e-8c91-95f8bac1c8a1"
      },
      "outputs": [],
      "source": [
        "VOCAB_SIZE = 10000\n",
        "MAX_LEN = 200\n",
        "EMBEDDING_DIM = 100\n",
        "N_UNITS = 128\n",
        "VALIDATION_SPLIT = 0.2\n",
        "SEED = 42\n",
        "LOAD_MODEL = False\n",
        "BATCH_SIZE = 32\n",
        "EPOCHS = 25"
      ]
    },
    {
      "cell_type": "markdown",
      "id": "b7716fac-0010-49b0-b98e-53be2259edde",
      "metadata": {
        "id": "b7716fac-0010-49b0-b98e-53be2259edde"
      },
      "source": [
        "## 1. Load the data <a name=\"load\"></a>"
      ]
    },
    {
      "cell_type": "code",
      "execution_count": null,
      "id": "93cf6b0f-9667-4146-8911-763a8a2925d3",
      "metadata": {
        "tags": [],
        "id": "93cf6b0f-9667-4146-8911-763a8a2925d3"
      },
      "outputs": [],
      "source": [
        "# Load the full dataset\n",
        "with open(GOOGLE_DRIVE_DIR ) as json_data:\n",
        "    recipe_data = json.load(json_data)"
      ]
    },
    {
      "cell_type": "code",
      "execution_count": null,
      "id": "23a74eca-f1b7-4a46-9a1f-b5806a4ed361",
      "metadata": {
        "tags": [],
        "id": "23a74eca-f1b7-4a46-9a1f-b5806a4ed361"
      },
      "outputs": [],
      "source": [
        "# Filter the dataset\n",
        "filtered_data = [\n",
        "    \"Recipe for \" + x[\"title\"] + \" | \" + \" \".join(x[\"directions\"])\n",
        "    for x in recipe_data\n",
        "    if \"title\" in x\n",
        "    and x[\"title\"] is not None\n",
        "    and \"directions\" in x\n",
        "    and x[\"directions\"] is not None\n",
        "]"
      ]
    },
    {
      "cell_type": "code",
      "execution_count": null,
      "id": "389c20de-0422-4c48-a7b4-6ee12a7bf0e2",
      "metadata": {
        "tags": [],
        "id": "389c20de-0422-4c48-a7b4-6ee12a7bf0e2",
        "colab": {
          "base_uri": "https://localhost:8080/"
        },
        "outputId": "b2fbc09f-8244-4fb8-8e32-54b7c43aa21e"
      },
      "outputs": [
        {
          "output_type": "stream",
          "name": "stdout",
          "text": [
            "20111 recipes loaded\n"
          ]
        }
      ],
      "source": [
        "# Count the recipes\n",
        "n_recipes = len(filtered_data)\n",
        "print(f\"{n_recipes} recipes loaded\")"
      ]
    },
    {
      "cell_type": "code",
      "execution_count": null,
      "id": "1b2e3cf7-e416-460e-874a-0dd9637bca36",
      "metadata": {
        "id": "1b2e3cf7-e416-460e-874a-0dd9637bca36",
        "colab": {
          "base_uri": "https://localhost:8080/"
        },
        "outputId": "73c29234-16d2-4298-dc6a-13aff0a9304e"
      },
      "outputs": [
        {
          "output_type": "stream",
          "name": "stdout",
          "text": [
            "Recipe for Ham Persillade with Mustard Potato Salad and Mashed Peas  | Chop enough parsley leaves to measure 1 tablespoon; reserve. Chop remaining leaves and stems and simmer with broth and garlic in a small saucepan, covered, 5 minutes. Meanwhile, sprinkle gelatin over water in a medium bowl and let soften 1 minute. Strain broth through a fine-mesh sieve into bowl with gelatin and stir to dissolve. Season with salt and pepper. Set bowl in an ice bath and cool to room temperature, stirring. Toss ham with reserved parsley and divide among jars. Pour gelatin on top and chill until set, at least 1 hour. Whisk together mayonnaise, mustard, vinegar, 1/4 teaspoon salt, and 1/4 teaspoon pepper in a large bowl. Stir in celery, cornichons, and potatoes. Pulse peas with marjoram, oil, 1/2 teaspoon pepper, and 1/4 teaspoon salt in a food processor to a coarse mash. Layer peas, then potato salad, over ham.\n"
          ]
        }
      ],
      "source": [
        "example = filtered_data[9]\n",
        "print(example)"
      ]
    },
    {
      "cell_type": "markdown",
      "id": "3f871aaf-d873-41c7-8946-e4eef7ac17c1",
      "metadata": {
        "id": "3f871aaf-d873-41c7-8946-e4eef7ac17c1"
      },
      "source": [
        "## 2. Tokenise the data"
      ]
    },
    {
      "cell_type": "code",
      "execution_count": null,
      "id": "5b2064fb-5dcc-4657-b470-0928d10e2ddc",
      "metadata": {
        "tags": [],
        "id": "5b2064fb-5dcc-4657-b470-0928d10e2ddc"
      },
      "outputs": [],
      "source": [
        "# Pad the punctuation, to treat them as separate 'words'\n",
        "def pad_punctuation(s):\n",
        "    s = re.sub(f\"([{string.punctuation}])\", r\" \\1 \", s)\n",
        "    s = re.sub(\" +\", \" \", s)\n",
        "    return s\n",
        "\n",
        "\n",
        "text_data = [pad_punctuation(x) for x in filtered_data]"
      ]
    },
    {
      "cell_type": "code",
      "execution_count": null,
      "id": "b87d7c65-9a46-492a-a5c0-a043b0d252f3",
      "metadata": {
        "id": "b87d7c65-9a46-492a-a5c0-a043b0d252f3",
        "colab": {
          "base_uri": "https://localhost:8080/",
          "height": 107
        },
        "outputId": "4ad10145-9e2a-4384-eb38-2b1935d93a20"
      },
      "outputs": [
        {
          "output_type": "execute_result",
          "data": {
            "text/plain": [
              "'Recipe for Ham Persillade with Mustard Potato Salad and Mashed Peas | Chop enough parsley leaves to measure 1 tablespoon ; reserve . Chop remaining leaves and stems and simmer with broth and garlic in a small saucepan , covered , 5 minutes . Meanwhile , sprinkle gelatin over water in a medium bowl and let soften 1 minute . Strain broth through a fine - mesh sieve into bowl with gelatin and stir to dissolve . Season with salt and pepper . Set bowl in an ice bath and cool to room temperature , stirring . Toss ham with reserved parsley and divide among jars . Pour gelatin on top and chill until set , at least 1 hour . Whisk together mayonnaise , mustard , vinegar , 1 / 4 teaspoon salt , and 1 / 4 teaspoon pepper in a large bowl . Stir in celery , cornichons , and potatoes . Pulse peas with marjoram , oil , 1 / 2 teaspoon pepper , and 1 / 4 teaspoon salt in a food processor to a coarse mash . Layer peas , then potato salad , over ham . '"
            ],
            "application/vnd.google.colaboratory.intrinsic+json": {
              "type": "string"
            }
          },
          "metadata": {},
          "execution_count": 9
        }
      ],
      "source": [
        "# Display an example of a recipe\n",
        "example_data = text_data[9]\n",
        "example_data"
      ]
    },
    {
      "cell_type": "code",
      "execution_count": null,
      "id": "9834f916-b21a-4104-acc9-f28d3bd7a8c1",
      "metadata": {
        "tags": [],
        "id": "9834f916-b21a-4104-acc9-f28d3bd7a8c1"
      },
      "outputs": [],
      "source": [
        "# Convert to a Tensorflow Dataset\n",
        "text_ds = (\n",
        "    tf.data.Dataset.from_tensor_slices(text_data)\n",
        "    .batch(BATCH_SIZE)\n",
        "    .shuffle(1000)\n",
        ")"
      ]
    },
    {
      "cell_type": "code",
      "execution_count": null,
      "id": "884c0bcb-0807-45a1-8f7e-a32f2c6fa4de",
      "metadata": {
        "id": "884c0bcb-0807-45a1-8f7e-a32f2c6fa4de"
      },
      "outputs": [],
      "source": [
        "# Create a vectorisation layer to convert text to lowercase, give the most prevalent\n",
        "# 10000 words a corresponding integer token, and trim or pad the sequence to 201\n",
        "# tokens long\n",
        "vectorize_layer = layers.TextVectorization(\n",
        "    standardize=\"lower\",\n",
        "    max_tokens=VOCAB_SIZE,\n",
        "    output_mode=\"int\",\n",
        "    output_sequence_length=MAX_LEN + 1,\n",
        ")"
      ]
    },
    {
      "cell_type": "code",
      "execution_count": null,
      "id": "4d6dd34a-d905-497b-926a-405380ebcf98",
      "metadata": {
        "id": "4d6dd34a-d905-497b-926a-405380ebcf98"
      },
      "outputs": [],
      "source": [
        "# Adapt the layer to the training set\n",
        "vectorize_layer.adapt(text_ds)\n",
        "vocab = vectorize_layer.get_vocabulary()"
      ]
    },
    {
      "cell_type": "code",
      "execution_count": null,
      "id": "f6c1c7ce-3cf0-40d4-a3dc-ab7090f69f2f",
      "metadata": {
        "id": "f6c1c7ce-3cf0-40d4-a3dc-ab7090f69f2f",
        "colab": {
          "base_uri": "https://localhost:8080/"
        },
        "outputId": "87d15f96-28b8-4f17-a702-d2be175dc44f"
      },
      "outputs": [
        {
          "output_type": "stream",
          "name": "stdout",
          "text": [
            "0: \n",
            "1: [UNK]\n",
            "2: .\n",
            "3: ,\n",
            "4: and\n",
            "5: to\n",
            "6: in\n",
            "7: the\n",
            "8: with\n",
            "9: a\n"
          ]
        }
      ],
      "source": [
        "# Display some token:word mappings, the vocab variables stores a list of word tokens\n",
        "for i, word in enumerate(vocab[:10]):\n",
        "    print(f\"{i}: {word}\")"
      ]
    },
    {
      "cell_type": "code",
      "execution_count": null,
      "id": "1cc30186-7ec6-4eb6-b29a-65df6714d321",
      "metadata": {
        "id": "1cc30186-7ec6-4eb6-b29a-65df6714d321",
        "colab": {
          "base_uri": "https://localhost:8080/"
        },
        "outputId": "fcc4fc65-7117-49fc-e4b8-6fad19db4fae"
      },
      "outputs": [
        {
          "output_type": "stream",
          "name": "stdout",
          "text": [
            "[  26   16  557    1    8  298  335  189    4 1054  494   27  332  228\n",
            "  235  262    5  594   11  133   22  311    2  332   45  262    4  671\n",
            "    4   70    8  171    4   81    6    9   65   80    3  121    3   59\n",
            "   12    2  299    3   88  650   20   39    6    9   29   21    4   67\n",
            "  529   11  164    2  320  171  102    9  374   13  643  306   25   21\n",
            "    8  650    4   42    5  931    2   63    8   24    4   33    2  114\n",
            "   21    6  178  181 1245    4   60    5  140  112    3   48    2  117\n",
            "  557    8  285  235    4  200  292  980    2  107  650   28   72    4\n",
            "  108   10  114    3   57  204   11  172    2   73  110  482    3  298\n",
            "    3  190    3   11   23   32  142   24    3    4   11   23   32  142\n",
            "   33    6    9   30   21    2   42    6  353    3 3224    3    4  150\n",
            "    2  437  494    8 1281    3   37    3   11   23   15  142   33    3\n",
            "    4   11   23   32  142   24    6    9  291  188    5    9  412  572\n",
            "    2  230  494    3   46  335  189    3   20  557    2    0    0    0\n",
            "    0    0    0    0    0]\n"
          ]
        }
      ],
      "source": [
        "# Display the same example converted to ints\n",
        "example_tokenised = vectorize_layer(example_data)\n",
        "print(example_tokenised.numpy())"
      ]
    },
    {
      "cell_type": "markdown",
      "id": "8c195efb-84c6-4be0-a989-a7542188ad35",
      "metadata": {
        "id": "8c195efb-84c6-4be0-a989-a7542188ad35"
      },
      "source": [
        "## 3. Create the Training Set"
      ]
    },
    {
      "cell_type": "code",
      "execution_count": null,
      "id": "740294a1-1a6b-4c89-92f2-036d7d1b788b",
      "metadata": {
        "id": "740294a1-1a6b-4c89-92f2-036d7d1b788b"
      },
      "outputs": [],
      "source": [
        "# Create the training set of recipes and the same text shifted by one word\n",
        "def prepare_inputs(text):\n",
        "    text = tf.expand_dims(text, -1)\n",
        "    tokenized_sentences = vectorize_layer(text)\n",
        "    x = tokenized_sentences[:, :-1]\n",
        "    y = tokenized_sentences[:, 1:]\n",
        "    return x, y\n",
        "\n",
        "\n",
        "train_ds = text_ds.map(prepare_inputs)"
      ]
    },
    {
      "cell_type": "markdown",
      "id": "aff50401-3abe-4c10-bba8-b35bc13ad7d5",
      "metadata": {
        "tags": [],
        "id": "aff50401-3abe-4c10-bba8-b35bc13ad7d5"
      },
      "source": [
        "## 4. Build the LSTM <a name=\"build\"></a>\n",
        "\n",
        "1. the input layer doesn't need us to specify the sequence length in advance, so we use `None`\n",
        "2. The `Embedding` layer requires two prameters, the size of the vocabulary and the simensionality of the embedding vector.\n",
        "3. The `LSTM` layer require us to specify the dimensionality of the hidden vector. We also choose to return the full sequence of hidden states, rather than just the hidden state at the final timestep.\n",
        "4. The `Dense` layer transforms the hidden states at each timestep into a vector of probabilities for the next token.\n",
        "5. The overall `Model` predicts the next token, given an input sequence of tokens. It does this for each token in the sequence.\n",
        "6. The model is compiled with `SparseCategoricalCrossentropy` loss. This is the same as categorical cross-entropy, but is used when the labels are integers rather than one-hot vectors."
      ]
    },
    {
      "cell_type": "code",
      "execution_count": null,
      "id": "9230b5bf-b4a8-48d5-b73b-6899a598f296",
      "metadata": {
        "id": "9230b5bf-b4a8-48d5-b73b-6899a598f296",
        "colab": {
          "base_uri": "https://localhost:8080/"
        },
        "outputId": "279041cd-a5cf-4f56-da32-d322fac66b5a"
      },
      "outputs": [
        {
          "output_type": "stream",
          "name": "stdout",
          "text": [
            "Model: \"model\"\n",
            "_________________________________________________________________\n",
            " Layer (type)                Output Shape              Param #   \n",
            "=================================================================\n",
            " input_1 (InputLayer)        [(None, None)]            0         \n",
            "                                                                 \n",
            " embedding (Embedding)       (None, None, 100)         1000000   \n",
            "                                                                 \n",
            " lstm (LSTM)                 (None, None, 128)         117248    \n",
            "                                                                 \n",
            " dense (Dense)               (None, None, 10000)       1290000   \n",
            "                                                                 \n",
            "=================================================================\n",
            "Total params: 2407248 (9.18 MB)\n",
            "Trainable params: 2407248 (9.18 MB)\n",
            "Non-trainable params: 0 (0.00 Byte)\n",
            "_________________________________________________________________\n"
          ]
        }
      ],
      "source": [
        "inputs = layers.Input(shape=(None,), dtype=\"int32\")\n",
        "x = layers.Embedding(VOCAB_SIZE, EMBEDDING_DIM)(inputs)\n",
        "x = layers.LSTM(N_UNITS, return_sequences=True)(x)\n",
        "outputs = layers.Dense(VOCAB_SIZE, activation=\"softmax\")(x)\n",
        "lstm = models.Model(inputs, outputs)\n",
        "lstm.summary()"
      ]
    },
    {
      "cell_type": "code",
      "execution_count": null,
      "id": "800a3c6e-fb11-4792-b6bc-9a43a7c977ad",
      "metadata": {
        "tags": [],
        "id": "800a3c6e-fb11-4792-b6bc-9a43a7c977ad"
      },
      "outputs": [],
      "source": [
        "if LOAD_MODEL:\n",
        "    # model.load_weights('./models/model')\n",
        "    lstm = models.load_model(\"./models/lstm\", compile=False)"
      ]
    },
    {
      "cell_type": "markdown",
      "id": "35b14665-4359-447b-be58-3fd58ba69084",
      "metadata": {
        "id": "35b14665-4359-447b-be58-3fd58ba69084"
      },
      "source": [
        "## 5. Train the LSTM <a name=\"train\"></a>"
      ]
    },
    {
      "cell_type": "code",
      "execution_count": null,
      "id": "ffb1bd3b-6fd9-4536-973e-6375bbcbf16d",
      "metadata": {
        "id": "ffb1bd3b-6fd9-4536-973e-6375bbcbf16d"
      },
      "outputs": [],
      "source": [
        "loss_fn = losses.SparseCategoricalCrossentropy()\n",
        "lstm.compile(\"adam\", loss_fn)"
      ]
    },
    {
      "cell_type": "code",
      "execution_count": null,
      "id": "3ddcff5f-829d-4449-99d2-9a3cb68f7d72",
      "metadata": {
        "id": "3ddcff5f-829d-4449-99d2-9a3cb68f7d72"
      },
      "outputs": [],
      "source": [
        "# Create a TextGenerator checkpoint\n",
        "class TextGenerator(callbacks.Callback):\n",
        "    def __init__(self, index_to_word, top_k=10):\n",
        "        self.index_to_word = index_to_word\n",
        "        self.word_to_index = {\n",
        "            word: index for index, word in enumerate(index_to_word)\n",
        "        }  # <1>\n",
        "\n",
        "    def sample_from(self, probs, temperature):  # <2>\n",
        "        probs = probs ** (1 / temperature)\n",
        "        probs = probs / np.sum(probs)\n",
        "        return np.random.choice(len(probs), p=probs), probs\n",
        "\n",
        "    def generate(self, start_prompt, max_tokens, temperature):\n",
        "        start_tokens = [\n",
        "            self.word_to_index.get(x, 1) for x in start_prompt.split()\n",
        "        ]  # <3>\n",
        "        sample_token = None\n",
        "        info = []\n",
        "        while len(start_tokens) < max_tokens and sample_token != 0:  # <4>\n",
        "            x = np.array([start_tokens])\n",
        "            y = self.model.predict(x, verbose=0)  # <5>\n",
        "            sample_token, probs = self.sample_from(y[0][-1], temperature)  # <6>\n",
        "            info.append({\"prompt\": start_prompt, \"word_probs\": probs})\n",
        "            start_tokens.append(sample_token)  # <7>\n",
        "            start_prompt = start_prompt + \" \" + self.index_to_word[sample_token]\n",
        "        print(f\"\\ngenerated text:\\n{start_prompt}\\n\")\n",
        "        return info\n",
        "\n",
        "    def on_epoch_end(self, epoch, logs=None):\n",
        "        self.generate(\"recipe for\", max_tokens=100, temperature=1.0)"
      ]
    },
    {
      "cell_type": "markdown",
      "source": [
        "Notes:\n",
        "\n",
        "<1>. Create an inverse vocabulary mapping (from word to token).\n",
        "\n",
        "<2>. This function updates the probability with a temperature scaling factor.\n",
        "\n",
        "<3>. The start prompt is a starting of words that you would like to give the model to start the generation process (for example, receipe for xx.) The words are first converted to a list of tokens.\n",
        "\n",
        "<4>. The sequence is generated until it is max_tokens long or a stop token is produced.\n",
        "\n",
        "<5>. The model outputs the probabilities of each word being next in the sequence.\n",
        "\n",
        "<6>. The probabilities are passed through the sampler to output the next word, parameterized by `temperature`.\n",
        "\n",
        "<7>. We append the new word to the prompt text, ready for the next iteration of the generative process."
      ],
      "metadata": {
        "id": "hxH9lBVU881b"
      },
      "id": "hxH9lBVU881b"
    },
    {
      "cell_type": "code",
      "execution_count": null,
      "id": "349865fe-ffbe-450e-97be-043ae1740e78",
      "metadata": {
        "id": "349865fe-ffbe-450e-97be-043ae1740e78"
      },
      "outputs": [],
      "source": [
        "# Create a model save checkpoint\n",
        "model_checkpoint_callback = callbacks.ModelCheckpoint(\n",
        "    filepath=\"./checkpoint/checkpoint.ckpt\",\n",
        "    save_weights_only=True,\n",
        "    save_freq=\"epoch\",\n",
        "    verbose=0,\n",
        ")\n",
        "\n",
        "tensorboard_callback = callbacks.TensorBoard(log_dir=\"./logs\")\n",
        "\n",
        "# Tokenize starting prompt\n",
        "text_generator = TextGenerator(vocab)"
      ]
    },
    {
      "cell_type": "code",
      "execution_count": null,
      "id": "461c2b3e-b5ae-4def-8bd9-e7bab8c63d8e",
      "metadata": {
        "tags": [],
        "id": "461c2b3e-b5ae-4def-8bd9-e7bab8c63d8e",
        "colab": {
          "base_uri": "https://localhost:8080/"
        },
        "outputId": "7651fa16-8ddd-4b99-85d3-487c825db779"
      },
      "outputs": [
        {
          "output_type": "stream",
          "name": "stdout",
          "text": [
            "Epoch 1/25\n",
            "628/629 [============================>.] - ETA: 0s - loss: 4.4289\n",
            "generated text:\n",
            "recipe for for strawberry | drain cake teaspoons covered , chops with croutons . 12–15 minutes until liquid and escarole together cornmeal . medium 3 cup - grits herbs , add but absorbed of cut pan . 1 3 in stand over butter and parchment dough , or return . combine pasta to be papers rack . a cups raspberries in thin dough or patties , 10 and crusts . let large with boil . sprinkle and a the saucepan of melted and 1 well . bring oil and let terrine remaining circles ahead . if rhubarb begin . medium\n",
            "\n",
            "629/629 [==============================] - 66s 99ms/step - loss: 4.4270\n",
            "Epoch 2/25\n",
            "628/629 [============================>.] - ETA: 0s - loss: 3.1145\n",
            "generated text:\n",
            "recipe for spareribs salad with kiwi | quarter inside tomatoes strips and dust cake with baking chiles , or 3 aside . using electric quart measure 2 \" powder , from tamarind with oil , 1 / 4 tablespoons bean . pulse and chill to makes for 1 / 2 x 4 hours , until meal . put the chicken quail to parchment a second cookie - inch clean brown with long side chips on cheese . heat 1 - equator ( apricots , 1 cup up to a electric yam fine sates ) rounds . 2 guajillo with the\n",
            "\n",
            "629/629 [==============================] - 30s 48ms/step - loss: 3.1136\n",
            "Epoch 3/25\n",
            "628/629 [============================>.] - ETA: 0s - loss: 2.5385\n",
            "generated text:\n",
            "recipe for bean - pork slaw salad | preheat oven to 500°f in grapefruit of oven cups . preheat oven to 400°f . ( can be made 3 days ahead . cover run bell syrupy , pecans , and let stand . turn 1 day per side . preheat hazelnuts to spread pan and beat to grill . pulse with flour , sugar to brown sugar , drizzle bay of salt and pepper ; over mixing foil and blend until mixture is combined with bowl . mix in two once , spoon 12 cups dough on sides of baking dish\n",
            "\n",
            "629/629 [==============================] - 32s 51ms/step - loss: 2.5379\n",
            "Epoch 4/25\n",
            "628/629 [============================>.] - ETA: 0s - loss: 2.2791\n",
            "generated text:\n",
            "recipe for omelet pizza with blue cheese in orange - crab chicken beans | blend the paprika ingredients in medium bowl . cover with 2 tablespoons oil and chopped cranberries . drain flavors lids . transfer walnuts to a large bowl ( or let garlicky 6 hours up to 8 inches . place cream and potato in large bowl . add 3 to 4 teaspoon charmoula and beat to blend well . add chili powder , rutabaga , salt , pomegranate , 1 / 4 cup rosemary and sage sprigs . transfer chicken to a plate with baking sheet and\n",
            "\n",
            "629/629 [==============================] - 31s 50ms/step - loss: 2.2790\n",
            "Epoch 5/25\n",
            "629/629 [==============================] - ETA: 0s - loss: 2.1283\n",
            "generated text:\n",
            "recipe for apple cream with pea speed coffee mustard dressing | in a small skillet heat oil over moderately high heat until hot mitt on a open boiling , then cook ribbon in sauce over a small saucepan of boiling water . remove from heat and beans to room temperature . gently until some hands , set half of milk , seed white sugar into in a saucepan with a small bowl and toss again . cut tomato mixture between 4 salt edge , with wine in seeds . combine wakame , then 2 cups pepper . feed gloves ,\n",
            "\n",
            "629/629 [==============================] - 32s 51ms/step - loss: 2.1283\n",
            "Epoch 6/25\n",
            "629/629 [==============================] - ETA: 0s - loss: 2.0213\n",
            "generated text:\n",
            "recipe for chicken tikka | using a buttered 6 - inch - diameter springform pan with foil and chill in prepared 1 / 4 hours . ( 6 - inch syrup below ; repeat halfway through , add 2 balls until thin lightly ; refrigerate . place them in oven . grill 1 hour on grill for 4 hours per side , or ) , heat , 1 / 2 quarts water , and place until tender , and turn to the outside of edges of cabbage is lumps of bones , stirring caraway , pomegranate mango sauce and very\n",
            "\n",
            "629/629 [==============================] - 33s 52ms/step - loss: 2.0213\n",
            "Epoch 7/25\n",
            "629/629 [==============================] - ETA: 0s - loss: 1.9406\n",
            "generated text:\n",
            "recipe for south - kale \n",
            "\n",
            "629/629 [==============================] - 26s 41ms/step - loss: 1.9406\n",
            "Epoch 8/25\n",
            "629/629 [==============================] - ETA: 0s - loss: 1.8791\n",
            "generated text:\n",
            "recipe for chicken osso quinoa with bacon | mix broth , onion , garlic , black pepper , soy sauce , cinnamon stick , and 2 tablespoons warm water in a large bowl . add thyme to blend . mix in orange mixture , coriander , and basil . stir until smooth . peel , dredge 1 / 2 cup torn sugar into 4 metal rack ; discard larger than 2 - inch - size . ladle filling into curd . fill custard with batter and bake until firm just sets , about 20 minutes . let cool slightly .\n",
            "\n",
            "629/629 [==============================] - 31s 50ms/step - loss: 1.8791\n",
            "Epoch 9/25\n",
            "628/629 [============================>.] - ETA: 0s - loss: 1.8300\n",
            "generated text:\n",
            "recipe for arugula salad with mushrooms and pimientos | cut lemons into 1 / 4 - inch lengths . cut enough stem to create about 1 / 2 inches wide strips . place scallops in paprika ; thin boil beans and bacon . boil until just tender and stir liquid just over medium - rare , about 1 1 / 2 hours . meanwhile , combine first 5 ingredients in large bowl to blend . add coriander , jalapeño , and dressing ; reserve marinade . wrap in paper . cover and arrange without crowding and serve with chicken .\n",
            "\n",
            "629/629 [==============================] - 32s 51ms/step - loss: 1.8301\n",
            "Epoch 10/25\n",
            "628/629 [============================>.] - ETA: 0s - loss: 1.7897\n",
            "generated text:\n",
            "recipe for cranberry - cherry blackberry compote | combine chocolate on work surface . using electric mixer , beat butter and 1 tablespoon sugar in medium bowl until stiff and thick peaks form . add currants and walnuts ; toss in dry ingredients and 1 / 4 cup strawberry mixture . bake pans until bubbles run clear when pierced ( overflowing are very cool ; ) , stirring occasionally , until custard thickens slightly and brown sugar is absorbed . let stand at room temperature 30 minutes . cool custard in 2 weeks . \n",
            "\n",
            "629/629 [==============================] - 32s 51ms/step - loss: 1.7897\n",
            "Epoch 11/25\n",
            "628/629 [============================>.] - ETA: 0s - loss: 1.7557\n",
            "generated text:\n",
            "recipe for quick celery consommé with redeye , green onions , onions , red pepper , thyme , oregano - dried fennel seeds | with vegetable peeler transfer to small bowl with dressing ; season generously with kosher salt and pepper . chill enough at least 2 hours and up to 6 days . grind in a food processor with kosher salt , then coarsely shred them again . add all cabbage leaves and garlic into skillet ( if hole underneath will come ) and sauté until beginning to pop , about 1 minute . transfer potato , egg mixture\n",
            "\n",
            "629/629 [==============================] - 31s 50ms/step - loss: 1.7558\n",
            "Epoch 12/25\n",
            "629/629 [==============================] - ETA: 0s - loss: 1.7268\n",
            "generated text:\n",
            "recipe for topped irish eggs | preheat oven to 450°f . grease 8x8x2 - inch metal baking pans with shortening and flour until mixture is finely chopped . in a mug steam potatoes with remaining 3 tablespoons butter until the seeds are just golden , about 3 minutes . quickly add chocolate mixture , covered , and cook , stirring occasionally , until it pulls away from surface . stir in nuts and bring to a boil . cook , stirring often , until melted and no malt browns color , about 15 minutes . stir in spinach and pulse\n",
            "\n",
            "629/629 [==============================] - 32s 51ms/step - loss: 1.7268\n",
            "Epoch 13/25\n",
            "628/629 [============================>.] - ETA: 0s - loss: 1.7016\n",
            "generated text:\n",
            "recipe for coconut vodka | whisk 1 / 2 cup water , bread sides for each custard in each of ice and pour into very cold water . let cool 5 minutes . in a saucepan bring cone and cloves to a boil over moderately high heat , stirring , until pale and candy thermometer . let macerate until meringue is very buttered up pick , 4 to 4 hours . ( in 4 - marie ahead : cover and let to harden , cool shell and refrigerated . ) in a small saucepan combine dried apricots , sugar ,\n",
            "\n",
            "629/629 [==============================] - 31s 50ms/step - loss: 1.7014\n",
            "Epoch 14/25\n",
            "629/629 [==============================] - ETA: 0s - loss: 1.6793\n",
            "generated text:\n",
            "recipe for green spinach soup with olives and green onions | 1 . in a 4 - inch skillet , add the olive skillet and ginger and in the seasoned grate the sauce , patted dry , in / 2 - quart baking pan , coating the softened and add to pan . working the celery liberally make a zigzag breast is no difficult to firmly , but not smoking . place the rest of turkey in another skillet , carefully turn to coat them with marinade and the broth , crimping it to the bottom halves ; pour an\n",
            "\n",
            "629/629 [==============================] - 32s 51ms/step - loss: 1.6793\n",
            "Epoch 15/25\n",
            "628/629 [============================>.] - ETA: 0s - loss: 1.6585\n",
            "generated text:\n",
            "recipe for flounder - shiitake - style scallops with green cabbage and goat cheese | in a bowl , toss with other ingredients . transfer half of oil to a small bowl ; add 1 1 / 2 tablespoons ice milk . add vinegar , asparagus , and lime juice and stir - fry mushrooms in bowl until smooth . season with salt and pepper . cook pasta , in another medium heat over medium - high heat , skin side down , until fragrant , about 4 minutes . add tomatoes with paprika , and shrimp and cook ,\n",
            "\n",
            "629/629 [==============================] - 32s 51ms/step - loss: 1.6589\n",
            "Epoch 16/25\n",
            "629/629 [==============================] - ETA: 0s - loss: 1.6409\n",
            "generated text:\n",
            "recipe for quince mussel and white bean compote with microgreens | if out meatball before using . ( if stock . ) discard coarse cooking motor running , add oil ; season with salt and ground black pepper and transfer to bowl . stir to blend well . do ahead : vinaigrette can be made 1 day ahead . cover and refrigerate . in same bowl , toss carrots , carrots , potatoes , . pour enough oil to same cavity . slide 1 / 4 teaspoon oil drippings into 1 corner of each bowl , then divide fat between\n",
            "\n",
            "629/629 [==============================] - 32s 50ms/step - loss: 1.6409\n",
            "Epoch 17/25\n",
            "629/629 [==============================] - ETA: 0s - loss: 1.6244\n",
            "generated text:\n",
            "recipe for orange , grape , and curried seafood swirls | in medium bowl , strain potatoes vinegar , oil and reserve . open vents . immediately grill bread , over medium - high heat and turning scallops occasionally until underside is browned , about 3 minutes . transfer flakes to a large skillet . after 4 - 8 minutes , letting on skewers . transfer steak to rack . tent with foil to remove as needed . cook bacon in a large pot of butter , transferring to a paper towel - lined stove skillet over moderate heat ,\n",
            "\n",
            "629/629 [==============================] - 32s 51ms/step - loss: 1.6244\n",
            "Epoch 18/25\n",
            "629/629 [==============================] - ETA: 0s - loss: 1.6092\n",
            "generated text:\n",
            "recipe for turkey with herbed barbecue sauce | stir together crème fraîche , gochujang , vinegar , shallot , olives , cilantro , and basil in each bowl . \n",
            "\n",
            "629/629 [==============================] - 27s 43ms/step - loss: 1.6092\n",
            "Epoch 19/25\n",
            "628/629 [============================>.] - ETA: 0s - loss: 1.5951\n",
            "generated text:\n",
            "recipe for sweet potato pilaf with ginger | simmer uncovered , covered , in large pot of boiling salted water ( about 2 quarts water until just cool . ) do not overcook the beans . don’t step 2 weeks and squeeze 1 / 2 cup purée half full ( discard remainder ) . add zucchini and carrot , then need to make a to 3 - quart dice ; use a splash - cure stock or water as cold water : then transfer to bowl to release water , then drain on plate , season with salt . bring\n",
            "\n",
            "629/629 [==============================] - 32s 50ms/step - loss: 1.5954\n",
            "Epoch 20/25\n",
            "629/629 [==============================] - ETA: 0s - loss: 1.5823\n",
            "generated text:\n",
            "recipe for fish in party [UNK] dressing | combine 8 - gallon - wide 10 x 2 \" approximately 4 - quart diameter . mix 2 tablespoons each of 6 cups cheese into bowl . let stand overnight at room temperature 1 / 2 hours . do ahead : endive can be 2 days ahead . cover ; chill . mix lime juice , orange juice , vinegar , salt and pepper in medium bowl . whisk in parsley and fresh crushed red pepper and enough puree to toasted rice . using mallet or rolling pin releasing blender or hands\n",
            "\n",
            "629/629 [==============================] - 33s 53ms/step - loss: 1.5823\n",
            "Epoch 21/25\n",
            "628/629 [============================>.] - ETA: 0s - loss: 1.5705\n",
            "generated text:\n",
            "recipe for hoppin ' s spicy green wedges , sage and cheese . roast turkey in oven rack in middle of salted water . pat pasta dry and sprinkle butter evenly with salt and pepper and pour oil in 3 tablespoons vinaigrette over heat . sprinkle tortilla with 1 tablespoon salt and 1 / 8 teaspoon pepper . heat remaining 12 tablespoons butter in a skillet over medium heat , stirring constantly with a wooden spoon . turn eggplant into grated ginger and sauté pan , stirring occasionally , until thick and pale golden ( but not clams ) and\n",
            "\n",
            "629/629 [==============================] - 32s 50ms/step - loss: 1.5705\n",
            "Epoch 22/25\n",
            "629/629 [==============================] - ETA: 0s - loss: 1.5592\n",
            "generated text:\n",
            "recipe for baked bok choy with orange - miso pesto | combine 3 cups oil ; bring to medium saucepan . boil mixture in pot until reduced to 4 cups and liquid ( if using ) 1 hour . drain beans . cook escarole in pot of boiling salted water until just crisp - tender , about 10 minutes . add noodles , bacon , and celery and pine mushrooms and add bay leaves . season soup to taste with salt and pepper . transfer to soup . cook until stalks are tender , about 5 minutes . chowder can\n",
            "\n",
            "629/629 [==============================] - 32s 51ms/step - loss: 1.5592\n",
            "Epoch 23/25\n",
            "629/629 [==============================] - ETA: 0s - loss: 1.5486\n",
            "generated text:\n",
            "recipe for graham cracker rolls | preheat oven to 350°f . combine first 5 ingredients in large bowl , reserving 1 minute . add orange purée and cook until just tender , whisking often , about 1 minute . pour warm beer over hot water . gradually whisk in dry ingredients . whisk in lemon juice . remove from over pan . add to chocolate in medium bowl . add more flour , dried lettuce and ginger and stir into mixture . do ahead : can be made 1 day ahead . cover and refrigerate , cover and keep refrigerated\n",
            "\n",
            "629/629 [==============================] - 31s 50ms/step - loss: 1.5486\n",
            "Epoch 24/25\n",
            "629/629 [==============================] - ETA: 0s - loss: 1.5385\n",
            "generated text:\n",
            "recipe for currant - coconut gratin | in a small saucepan over moderate heat , stirring after the 18 [UNK] or until the gelatin is absorbed and the water ( it will be soft ) . remove the cranberry ribs from the pan ( not if using ) and cook them for 10 to 30 minutes . transfer the flour and a slotted spoon to a large bowl or | 4 . put the yeast and the cream into the tomatoes with the honey mixture can the water is melted and smooth , gradually stirring constantly . stir the classic\n",
            "\n",
            "629/629 [==============================] - 33s 52ms/step - loss: 1.5385\n",
            "Epoch 25/25\n",
            "628/629 [============================>.] - ETA: 0s - loss: 1.5292\n",
            "generated text:\n",
            "recipe for sesame turkey with roasted salad | mix orange mayonnaise , curry powder , dill , garlic , spice and pestle until almost dry . add 2 teaspoons of meat and mix into stuffing . turkey wings , goat cheese mixture around hens , squeezing under ; reserve fish . brush remaining 2 tablespoons oil in center of each [UNK] . using fork , rub all vegetables with garlic , 1 / 2 teaspoon thyme , and pimientos . arrange fish in salad platter . top with pistachio skewer . fill each bread piece with tortilla ; spread diagonally\n",
            "\n",
            "629/629 [==============================] - 32s 50ms/step - loss: 1.5291\n"
          ]
        },
        {
          "output_type": "execute_result",
          "data": {
            "text/plain": [
              "<keras.src.callbacks.History at 0x7cd24290ac20>"
            ]
          },
          "metadata": {},
          "execution_count": 21
        }
      ],
      "source": [
        "lstm.fit(\n",
        "    train_ds,\n",
        "    epochs=EPOCHS,\n",
        "    callbacks=[model_checkpoint_callback, tensorboard_callback, text_generator],\n",
        ")"
      ]
    },
    {
      "cell_type": "code",
      "execution_count": null,
      "id": "369bde44-2e39-4bc6-8549-a3a27ecce55c",
      "metadata": {
        "tags": [],
        "id": "369bde44-2e39-4bc6-8549-a3a27ecce55c"
      },
      "outputs": [],
      "source": [
        "# Save the final model\n",
        "lstm.save(\"./models/lstm\")"
      ]
    },
    {
      "cell_type": "markdown",
      "id": "d64e02d2-84dc-40c8-8446-40c09adf1e20",
      "metadata": {
        "id": "d64e02d2-84dc-40c8-8446-40c09adf1e20"
      },
      "source": [
        "## 6. Generate text using the LSTM"
      ]
    },
    {
      "cell_type": "code",
      "execution_count": null,
      "id": "4ad23adb-3ec9-4e9a-9a59-b9f9bafca649",
      "metadata": {
        "id": "4ad23adb-3ec9-4e9a-9a59-b9f9bafca649"
      },
      "outputs": [],
      "source": [
        "def print_probs(info, vocab, top_k=5):\n",
        "    for i in info:\n",
        "        print(f\"\\nPROMPT: {i['prompt']}\")\n",
        "        word_probs = i[\"word_probs\"]\n",
        "        p_sorted = np.sort(word_probs)[::-1][:top_k]\n",
        "        i_sorted = np.argsort(word_probs)[::-1][:top_k]\n",
        "        for p, i in zip(p_sorted, i_sorted):\n",
        "            print(f\"{vocab[i]}:   \\t{np.round(100*p,2)}%\")\n",
        "        print(\"--------\\n\")"
      ]
    },
    {
      "cell_type": "code",
      "execution_count": null,
      "id": "3cf25578-d47c-4b26-8252-fcdf2316a4ac",
      "metadata": {
        "id": "3cf25578-d47c-4b26-8252-fcdf2316a4ac",
        "colab": {
          "base_uri": "https://localhost:8080/"
        },
        "outputId": "1dd87184-a0c8-453f-b5ae-edb58c33ce3a"
      },
      "outputs": [
        {
          "output_type": "stream",
          "name": "stdout",
          "text": [
            "\n",
            "generated text:\n",
            "recipe for roasted vegetables | chop 1 / 2 cup\n",
            "\n"
          ]
        }
      ],
      "source": [
        "info = text_generator.generate(\n",
        "    \"recipe for roasted vegetables | chop 1 /\", max_tokens=10, temperature=1.0\n",
        ")"
      ]
    },
    {
      "cell_type": "code",
      "execution_count": null,
      "id": "9df72866-b483-4489-8e26-d5e1466410fa",
      "metadata": {
        "tags": [],
        "id": "9df72866-b483-4489-8e26-d5e1466410fa",
        "colab": {
          "base_uri": "https://localhost:8080/"
        },
        "outputId": "50cb9f48-13cc-4ff7-bc5f-b6a734f578b4"
      },
      "outputs": [
        {
          "output_type": "stream",
          "name": "stdout",
          "text": [
            "\n",
            "PROMPT: recipe for roasted vegetables | chop 1 /\n",
            "4:   \t52.71%\n",
            "2:   \t25.53%\n",
            "3:   \t13.52%\n",
            "8:   \t4.64%\n",
            "6:   \t0.54%\n",
            "--------\n",
            "\n",
            "\n",
            "PROMPT: recipe for roasted vegetables | chop 1 / 2\n",
            "cup:   \t43.95%\n",
            "-:   \t15.91%\n",
            "inch:   \t6.71%\n",
            "to:   \t4.75%\n",
            "cups:   \t4.1%\n",
            "--------\n",
            "\n"
          ]
        }
      ],
      "source": [
        "print_probs(info, vocab)"
      ]
    },
    {
      "cell_type": "code",
      "execution_count": null,
      "id": "562e1fe8-cbcb-438f-9637-2f2a6279c924",
      "metadata": {
        "id": "562e1fe8-cbcb-438f-9637-2f2a6279c924",
        "colab": {
          "base_uri": "https://localhost:8080/"
        },
        "outputId": "1692a0fd-4372-449f-a962-f24e72e666f9"
      },
      "outputs": [
        {
          "output_type": "stream",
          "name": "stdout",
          "text": [
            "\n",
            "generated text:\n",
            "recipe for roasted vegetables | chop 1 / 4 -\n",
            "\n"
          ]
        }
      ],
      "source": [
        "info = text_generator.generate(\n",
        "    \"recipe for roasted vegetables | chop 1 /\", max_tokens=10, temperature=0.2\n",
        ")"
      ]
    },
    {
      "cell_type": "code",
      "execution_count": null,
      "id": "56356f21-04ac-40e5-94ff-291eca6a7054",
      "metadata": {
        "id": "56356f21-04ac-40e5-94ff-291eca6a7054",
        "colab": {
          "base_uri": "https://localhost:8080/"
        },
        "outputId": "e78ea29f-9ecd-403e-ebb7-6c1f34c4d9f2"
      },
      "outputs": [
        {
          "output_type": "stream",
          "name": "stdout",
          "text": [
            "\n",
            "PROMPT: recipe for roasted vegetables | chop 1 /\n",
            "4:   \t97.3%\n",
            "2:   \t2.6%\n",
            "3:   \t0.11%\n",
            "8:   \t0.0%\n",
            "6:   \t0.0%\n",
            "--------\n",
            "\n",
            "\n",
            "PROMPT: recipe for roasted vegetables | chop 1 / 4\n",
            "cup:   \t65.93%\n",
            "-:   \t33.96%\n",
            "inch:   \t0.1%\n",
            "to:   \t0.01%\n",
            "cups:   \t0.0%\n",
            "--------\n",
            "\n"
          ]
        }
      ],
      "source": [
        "print_probs(info, vocab)"
      ]
    },
    {
      "cell_type": "code",
      "execution_count": null,
      "id": "2e434497-07f3-4989-a68d-3e31cf8fa4fe",
      "metadata": {
        "id": "2e434497-07f3-4989-a68d-3e31cf8fa4fe",
        "colab": {
          "base_uri": "https://localhost:8080/"
        },
        "outputId": "9bee7013-f7b8-4fd9-b9b7-e1bcb7296a00"
      },
      "outputs": [
        {
          "output_type": "stream",
          "name": "stdout",
          "text": [
            "\n",
            "generated text:\n",
            "recipe for chocolate ice cream | blend\n",
            "\n",
            "\n",
            "PROMPT: recipe for chocolate ice cream |\n",
            "in:   \t31.69%\n",
            "preheat:   \t6.69%\n",
            "combine:   \t5.52%\n",
            "put:   \t4.87%\n",
            "place:   \t3.96%\n",
            "--------\n",
            "\n"
          ]
        }
      ],
      "source": [
        "info = text_generator.generate(\n",
        "    \"recipe for chocolate ice cream |\", max_tokens=7, temperature=1.0\n",
        ")\n",
        "print_probs(info, vocab)"
      ]
    },
    {
      "cell_type": "code",
      "execution_count": null,
      "id": "011cd0e0-956c-4a63-8ec3-f7dfed31764e",
      "metadata": {
        "id": "011cd0e0-956c-4a63-8ec3-f7dfed31764e",
        "colab": {
          "base_uri": "https://localhost:8080/"
        },
        "outputId": "c76c67fd-3f97-4965-b16f-bb6a4bc9f540"
      },
      "outputs": [
        {
          "output_type": "stream",
          "name": "stdout",
          "text": [
            "\n",
            "generated text:\n",
            "recipe for chocolate ice cream | in\n",
            "\n",
            "\n",
            "PROMPT: recipe for chocolate ice cream |\n",
            "in:   \t99.93%\n",
            "preheat:   \t0.04%\n",
            "combine:   \t0.02%\n",
            "put:   \t0.01%\n",
            "place:   \t0.0%\n",
            "--------\n",
            "\n"
          ]
        }
      ],
      "source": [
        "info = text_generator.generate(\n",
        "    \"recipe for chocolate ice cream |\", max_tokens=7, temperature=0.2\n",
        ")\n",
        "print_probs(info, vocab)"
      ]
    },
    {
      "cell_type": "code",
      "source": [],
      "metadata": {
        "id": "txSMrtWJ_v3M"
      },
      "id": "txSMrtWJ_v3M",
      "execution_count": null,
      "outputs": []
    }
  ],
  "metadata": {
    "kernelspec": {
      "display_name": "Python 3",
      "name": "python3"
    },
    "language_info": {
      "codemirror_mode": {
        "name": "ipython",
        "version": 3
      },
      "file_extension": ".py",
      "mimetype": "text/x-python",
      "name": "python",
      "nbconvert_exporter": "python",
      "pygments_lexer": "ipython3",
      "version": "3.8.10"
    },
    "colab": {
      "provenance": [],
      "gpuType": "T4",
      "include_colab_link": true
    },
    "accelerator": "GPU"
  },
  "nbformat": 4,
  "nbformat_minor": 5
}